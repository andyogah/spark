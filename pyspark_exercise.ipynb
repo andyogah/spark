{
 "cells": [
  {
   "cell_type": "markdown",
   "metadata": {},
   "source": [
    "# MapReduce using SPARK"
   ]
  },
  {
   "cell_type": "code",
   "execution_count": 1,
   "metadata": {},
   "outputs": [
    {
     "name": "stdout",
     "output_type": "stream",
     "text": [
      "Populating the interactive namespace from numpy and matplotlib\n"
     ]
    }
   ],
   "source": [
    "%pylab inline\n",
    "import pandas as pd\n",
    "import seaborn as sns\n",
    "pd.set_option('display.width', 500)\n",
    "pd.set_option('display.max_columns', 100)"
   ]
  },
  {
   "cell_type": "markdown",
   "metadata": {},
   "source": [
    "# Table of Contents\n",
    "\n",
    "* [SPARK](#SPARK)\n",
    "    * Installing Spark locally\n",
    "* [Spark Context](#Spark-Context)\n",
    "    * [Create A RDD](#Create-A-RDD)\n",
    "    * [Call `collect` on an RDD: Lazy Spark](#Call-collect-on-an-RDD:-Lazy-Spark)\n",
    "    * [Operations on RDDs](#Operations-on-RDDs)\n",
    "    * [Word Examples](#Word-Examples)\n",
    "    * [Key Value Pairs](#Key-Value-Pairs)\n",
    "    * [word count 1](#word-count-1)\n",
    "    * [word count 2:  `reduceByKey()`](#word-count-2:--reduceByKey%28%29)\n",
    "    * [Nested Syntax](#Nested-Syntax)\n",
    "    * [Using Cache](#Using-Cache)\n",
    "    * [Fun with words](#Fun-with-words)\n",
    "    * [DataFrames](#DataFrames)\n",
    "    * [Machine Learning](#Machine-Learning)\n"
   ]
  },
  {
   "cell_type": "markdown",
   "metadata": {
    "slideshow": {
     "slide_type": "slide"
    }
   },
   "source": [
    "With shameless stealing of some code and text from:\n",
    "\n",
    "- https://github.com/tdhopper/rta-pyspark-presentation/blob/master/slides.ipynb\n",
    "- Databricks and Berkeley Spark MOOC: https://www.edx.org/course/introduction-big-data-apache-spark-uc-berkeleyx-cs100-1x\n",
    "\n",
    "which you should go check out."
   ]
  },
  {
   "cell_type": "markdown",
   "metadata": {},
   "source": [
    "## Installing Spark locally\n",
    "\n",
    "\n",
    "**Step 1: Install Apache Spark**\n",
    "\n",
    "For example, for Mac users using Homebrew:\n",
    "\n",
    "```\n",
    "$ brew install apache-spark\n",
    "```"
   ]
  },
  {
   "cell_type": "markdown",
   "metadata": {},
   "source": [
    "**Step 2: Install the Java SDK version 1.8 or above for your platform (not just the JRE runtime)**\n",
    "\n",
    "Make sure you can access commands such as `java` on your command line."
   ]
  },
  {
   "cell_type": "markdown",
   "metadata": {},
   "source": [
    "**Step 3: Install the latest findspark package using pip**\n",
    "\n",
    "```\n",
    "➜  ~  pip install findspark\n",
    "Collecting findspark\n",
    "  Downloading findspark-0.0.5-py2.py3-none-any.whl\n",
    "Installing collected packages: findspark\n",
    "Successfully installed findspark-0.0.5\n",
    "```"
   ]
  },
  {
   "cell_type": "markdown",
   "metadata": {
    "slideshow": {
     "slide_type": "slide"
    }
   },
   "source": [
    "# Spark Context\n",
    "\n",
    "You can also use it directly from the notebook interface on the mac if you installed `apache-spark` using `brew` and also installed `findspark` above."
   ]
  },
  {
   "cell_type": "code",
   "execution_count": 2,
   "metadata": {},
   "outputs": [],
   "source": [
    "import findspark\n",
    "findspark.init('/home/azure052/spark-2.3.0-bin-hadoop2.7')\n",
    "import pyspark\n",
    "sc = pyspark.SparkContext()"
   ]
  },
  {
   "cell_type": "markdown",
   "metadata": {},
   "source": [
    "It also outputs a bunch of stuff on my terminal. This is because the entire java context is started up.\n",
    "\n",
    "```Using Spark's default log4j profile: org/apache/spark/log4j-defaults.properties\n",
    "15/10/21 14:46:15 INFO SparkContext: Running Spark version 1.4.0\n",
    "2015-10-21 14:46:15.774 java[30685:c003] Unable to load realm info from SCDynamicStore\n",
    "15/10/21 14:46:15 WARN NativeCodeLoader: Unable to load native-hadoop library for your platform... using builtin-java classes where applicable\n",
    "15/10/21 14:46:15 INFO SecurityManager: Changing view acls to: rahul\n",
    "15/10/21 14:46:15 INFO SecurityManager: Changing modify acls to: rahul\n",
    "15/10/21 14:46:15 INFO SecurityManager: SecurityManager: authentication disabled; ui acls disabled; users with view permissions: Set(rahul); users with modify permissions: Set(rahul)\n",
    "15/10/21 14:46:16 INFO Slf4jLogger: Slf4jLogger started\n",
    "15/10/21 14:46:16 INFO Remoting: Starting remoting\n",
    "15/10/21 14:46:16 INFO Remoting: Remoting started; listening on addresses :[akka.tcp://sparkDriver@10.251.101.163:64359]\n",
    "15/10/21 14:46:16 INFO Utils: Successfully started service 'sparkDriver' on port 64359.\n",
    "15/10/21 14:46:16 INFO SparkEnv: Registering MapOutputTracker\n",
    "15/10/21 14:46:16 INFO SparkEnv: Registering BlockManagerMaster\n",
    "15/10/21 14:46:16 INFO DiskBlockManager: Created local directory at /private/var/folders/_f/y76rs29s3c57ykwyz9c8z12c0000gn/T/spark-00a4e09e-e5db-485f-81dc-2e5016e9a27e/blockmgr-8966e07c-223b-4c38-9273-11543aa9d3c1\n",
    "15/10/21 14:46:16 INFO MemoryStore: MemoryStore started with capacity 273.0 MB\n",
    "15/10/21 14:46:16 INFO HttpFileServer: HTTP File server directory is /private/var/folders/_f/y76rs29s3c57ykwyz9c8z12c0000gn/T/spark-00a4e09e-e5db-485f-81dc-2e5016e9a27e/httpd-6af0a9e0-1cfe-42c4-a1bd-e01715b98436\n",
    "15/10/21 14:46:16 INFO HttpServer: Starting HTTP Server\n",
    "15/10/21 14:46:17 INFO Utils: Successfully started service 'HTTP file server' on port 64360.\n",
    "15/10/21 14:46:17 INFO SparkEnv: Registering OutputCommitCoordinator\n",
    "15/10/21 14:46:18 INFO Utils: Successfully started service 'SparkUI' on port 4040.\n",
    "15/10/21 14:46:18 INFO SparkUI: Started SparkUI at http://10.251.101.163:4040\n",
    "15/10/21 14:46:18 INFO Executor: Starting executor ID driver on host localhost\n",
    "15/10/21 14:46:18 INFO Utils: Successfully started service 'org.apache.spark.network.netty.NettyBlockTransferService' on port 64361.\n",
    "15/10/21 14:46:18 INFO NettyBlockTransferService: Server created on 64361\n",
    "15/10/21 14:46:18 INFO BlockManagerMaster: Trying to register BlockManager\n",
    "15/10/21 14:46:18 INFO BlockManagerMasterEndpoint: Registering block manager localhost:64361 with 273.0 MB RAM, BlockManagerId(driver, localhost, 64361)\n",
    "15/10/21 14:46:18 INFO BlockManagerMaster: Registered BlockManager\n",
    "```"
   ]
  },
  {
   "cell_type": "code",
   "execution_count": 3,
   "metadata": {},
   "outputs": [
    {
     "data": {
      "text/html": [
       "\n",
       "        <div>\n",
       "            <p><b>SparkContext</b></p>\n",
       "\n",
       "            <p><a href=\"http://instance-1-springboard-capstone.c.springboard-capstone2.internal:4040\">Spark UI</a></p>\n",
       "\n",
       "            <dl>\n",
       "              <dt>Version</dt>\n",
       "                <dd><code>v2.3.0</code></dd>\n",
       "              <dt>Master</dt>\n",
       "                <dd><code>local[*]</code></dd>\n",
       "              <dt>AppName</dt>\n",
       "                <dd><code>pyspark-shell</code></dd>\n",
       "            </dl>\n",
       "        </div>\n",
       "        "
      ],
      "text/plain": [
       "<SparkContext master=local[*] appName=pyspark-shell>"
      ]
     },
     "execution_count": 3,
     "metadata": {},
     "output_type": "execute_result"
    }
   ],
   "source": [
    "sc"
   ]
  },
  {
   "cell_type": "code",
   "execution_count": 4,
   "metadata": {},
   "outputs": [
    {
     "data": {
      "text/plain": [
       "385"
      ]
     },
     "execution_count": 4,
     "metadata": {},
     "output_type": "execute_result"
    }
   ],
   "source": [
    "sc.parallelize([1, 2, 3, 4, 5, 6, 7, 8, 9, 10]).map(lambda x: x**2).sum()"
   ]
  },
  {
   "cell_type": "markdown",
   "metadata": {
    "slideshow": {
     "slide_type": "slide"
    }
   },
   "source": [
    "### Create A RDD\n"
   ]
  },
  {
   "cell_type": "code",
   "execution_count": 5,
   "metadata": {},
   "outputs": [
    {
     "name": "stdout",
     "output_type": "stream",
     "text": [
      "<class 'pyspark.rdd.RDD'>\n"
     ]
    }
   ],
   "source": [
    "wordsList = ['cat', 'elephant', 'rat', 'rat', 'cat']\n",
    "wordsRDD = sc.parallelize(wordsList, 4)\n",
    "# Print out the type of wordsRDD\n",
    "print (type(wordsRDD))"
   ]
  },
  {
   "cell_type": "markdown",
   "metadata": {
    "slideshow": {
     "slide_type": "slide"
    }
   },
   "source": [
    "### Call `collect` on an RDD: Lazy Spark"
   ]
  },
  {
   "cell_type": "markdown",
   "metadata": {},
   "source": [
    "Spark is lazy. Until you `collect`, nothing is actually run.\n",
    "\n",
    ">Instead, they just remember the transformations applied to some base dataset (e.g. a file). The transformations are only computed when an action requires a result to be returned to the driver program."
   ]
  },
  {
   "cell_type": "code",
   "execution_count": 6,
   "metadata": {},
   "outputs": [
    {
     "data": {
      "text/plain": [
       "['cat', 'elephant', 'rat', 'rat', 'cat']"
      ]
     },
     "execution_count": 6,
     "metadata": {},
     "output_type": "execute_result"
    }
   ],
   "source": [
    "wordsRDD.collect()"
   ]
  },
  {
   "cell_type": "markdown",
   "metadata": {},
   "source": [
    "```\n",
    "15/10/21 14:59:59 INFO SparkContext: Starting job: collect at <ipython-input-6-dee494da0714>:1\n",
    "15/10/21 14:59:59 INFO DAGScheduler: Got job 0 (collect at <ipython-input-6-dee494da0714>:1) with 4 output partitions (allowLocal=false)\n",
    "15/10/21 14:59:59 INFO DAGScheduler: Final stage: ResultStage 0(collect at <ipython-input-6-dee494da0714>:1)\n",
    "15/10/21 14:59:59 INFO DAGScheduler: Parents of final stage: List()\n",
    "15/10/21 14:59:59 INFO DAGScheduler: Missing parents: List()\n",
    "15/10/21 14:59:59 INFO DAGScheduler: Submitting ResultStage 0 (ParallelCollectionRDD[0] at parallelize at PythonRDD.scala:396), which has no missing parents\n",
    "15/10/21 15:00:00 INFO MemoryStore: ensureFreeSpace(1224) called with curMem=0, maxMem=286300569\n",
    "15/10/21 15:00:00 INFO MemoryStore: Block broadcast_0 stored as values in memory (estimated size 1224.0 B, free 273.0 MB)\n",
    "15/10/21 15:00:00 INFO MemoryStore: ensureFreeSpace(777) called with curMem=1224, maxMem=286300569\n",
    "15/10/21 15:00:00 INFO MemoryStore: Block broadcast_0_piece0 stored as bytes in memory (estimated size 777.0 B, free 273.0 MB)\n",
    "15/10/21 15:00:00 INFO BlockManagerInfo: Added broadcast_0_piece0 in memory on localhost:64361 (size: 777.0 B, free: 273.0 MB)\n",
    "15/10/21 15:00:00 INFO SparkContext: Created broadcast 0 from broadcast at DAGScheduler.scala:874\n",
    "15/10/21 15:00:00 INFO DAGScheduler: Submitting 4 missing tasks from ResultStage 0 (ParallelCollectionRDD[0] at parallelize at PythonRDD.scala:396)\n",
    "15/10/21 15:00:00 INFO TaskSchedulerImpl: Adding task set 0.0 with 4 tasks\n",
    "15/10/21 15:00:00 INFO TaskSetManager: Starting task 0.0 in stage 0.0 (TID 0, localhost, PROCESS_LOCAL, 1379 bytes)\n",
    "15/10/21 15:00:00 INFO TaskSetManager: Starting task 1.0 in stage 0.0 (TID 1, localhost, PROCESS_LOCAL, 1384 bytes)\n",
    "15/10/21 15:00:00 INFO TaskSetManager: Starting task 2.0 in stage 0.0 (TID 2, localhost, PROCESS_LOCAL, 1379 bytes)\n",
    "15/10/21 15:00:00 INFO TaskSetManager: Starting task 3.0 in stage 0.0 (TID 3, localhost, PROCESS_LOCAL, 1403 bytes)\n",
    "15/10/21 15:00:00 INFO Executor: Running task 0.0 in stage 0.0 (TID 0)\n",
    "15/10/21 15:00:00 INFO Executor: Running task 2.0 in stage 0.0 (TID 2)\n",
    "15/10/21 15:00:00 INFO Executor: Running task 1.0 in stage 0.0 (TID 1)\n",
    "15/10/21 15:00:00 INFO Executor: Running task 3.0 in stage 0.0 (TID 3)\n",
    "15/10/21 15:00:00 INFO Executor: Finished task 1.0 in stage 0.0 (TID 1). 646 bytes result sent to driver\n",
    "15/10/21 15:00:00 INFO Executor: Finished task 3.0 in stage 0.0 (TID 3). 665 bytes result sent to driver\n",
    "15/10/21 15:00:00 INFO Executor: Finished task 0.0 in stage 0.0 (TID 0). 641 bytes result sent to driver\n",
    "15/10/21 15:00:00 INFO Executor: Finished task 2.0 in stage 0.0 (TID 2). 641 bytes result sent to driver\n",
    "15/10/21 15:00:00 INFO TaskSetManager: Finished task 1.0 in stage 0.0 (TID 1) in 61 ms on localhost (1/4)\n",
    "15/10/21 15:00:00 INFO TaskSetManager: Finished task 3.0 in stage 0.0 (TID 3) in 60 ms on localhost (2/4)\n",
    "15/10/21 15:00:00 INFO TaskSetManager: Finished task 0.0 in stage 0.0 (TID 0) in 96 ms on localhost (3/4)\n",
    "15/10/21 15:00:00 INFO TaskSetManager: Finished task 2.0 in stage 0.0 (TID 2) in 63 ms on localhost (4/4)\n",
    "15/10/21 15:00:00 INFO DAGScheduler: ResultStage 0 (collect at <ipython-input-6-dee494da0714>:1) finished in 0.120 s\n",
    "15/10/21 15:00:00 INFO TaskSchedulerImpl: Removed TaskSet 0.0, whose tasks have all completed, from pool\n",
    "15/10/21 15:00:00 INFO DAGScheduler: Job 0 finished: collect at <ipython-input-6-dee494da0714>:1, took 0.872367 s\n",
    "```"
   ]
  },
  {
   "cell_type": "markdown",
   "metadata": {},
   "source": [
    "### Operations on RDDs"
   ]
  },
  {
   "cell_type": "markdown",
   "metadata": {},
   "source": [
    "From the Spark Programming Guide:\n",
    "\n",
    ">RDDs support two types of operations: transformations, which create a new dataset from an existing one, and actions, which return a value to the driver program after running a computation on the dataset. For example, map is a transformation that passes each dataset element through a function and returns a new RDD representing the results. On the other hand, reduce is an action that aggregates all the elements of the RDD using some function and returns the final result to the driver program (although there is also a parallel reduceByKey that returns a distributed dataset)."
   ]
  },
  {
   "cell_type": "markdown",
   "metadata": {},
   "source": [
    "### Word Examples"
   ]
  },
  {
   "cell_type": "code",
   "execution_count": 7,
   "metadata": {},
   "outputs": [
    {
     "name": "stdout",
     "output_type": "stream",
     "text": [
      "cats\n"
     ]
    }
   ],
   "source": [
    "def makePlural(word):\n",
    "    return word + 's'\n",
    "\n",
    "print (makePlural('cat'))"
   ]
  },
  {
   "cell_type": "markdown",
   "metadata": {},
   "source": [
    "Transform one RDD into another."
   ]
  },
  {
   "cell_type": "code",
   "execution_count": 8,
   "metadata": {},
   "outputs": [
    {
     "name": "stdout",
     "output_type": "stream",
     "text": [
      "cats\n",
      "['cats', 'elephants']\n"
     ]
    }
   ],
   "source": [
    "pluralRDD = wordsRDD.map(makePlural)\n",
    "print (pluralRDD.first())\n",
    "print (pluralRDD.take(2))\n"
   ]
  },
  {
   "cell_type": "code",
   "execution_count": 9,
   "metadata": {},
   "outputs": [
    {
     "data": {
      "text/plain": [
       "['cats']"
      ]
     },
     "execution_count": 9,
     "metadata": {},
     "output_type": "execute_result"
    }
   ],
   "source": [
    "pluralRDD.take(1)"
   ]
  },
  {
   "cell_type": "code",
   "execution_count": 10,
   "metadata": {},
   "outputs": [
    {
     "data": {
      "text/plain": [
       "['cats', 'elephants', 'rats', 'rats', 'cats']"
      ]
     },
     "execution_count": 10,
     "metadata": {},
     "output_type": "execute_result"
    }
   ],
   "source": [
    "pluralRDD.collect()"
   ]
  },
  {
   "cell_type": "markdown",
   "metadata": {
    "slideshow": {
     "slide_type": "slide"
    }
   },
   "source": [
    "### Key Value Pairs"
   ]
  },
  {
   "cell_type": "code",
   "execution_count": 11,
   "metadata": {},
   "outputs": [
    {
     "name": "stdout",
     "output_type": "stream",
     "text": [
      "[('cat', 1), ('elephant', 1), ('rat', 1), ('rat', 1), ('cat', 1)]\n"
     ]
    }
   ],
   "source": [
    "wordPairs = wordsRDD.map(lambda w: (w, 1))\n",
    "print (wordPairs.collect())"
   ]
  },
  {
   "cell_type": "markdown",
   "metadata": {},
   "source": [
    "```\n",
    "➜  sparklect  ps auxwww | grep pyspark\n",
    "rahul           30685   0.4  0.8  3458120  68712 s012  S+    2:46PM   2:00.21 /System/Library/Java/JavaVirtualMachines/1.6.0.jdk/Contents/Home/bin/java -cp /usr/local/opt/apache-spark/libexec/conf/:/usr/local/opt/apache-spark/libexec/lib/spark-assembly-1.4.0-hadoop2.6.0.jar:/usr/local/opt/apache-spark/libexec/lib/datanucleus-api-jdo-3.2.6.jar:/usr/local/opt/apache-spark/libexec/lib/datanucleus-core-3.2.10.jar:/usr/local/opt/apache-spark/libexec/lib/datanucleus-rdbms-3.2.9.jar -Xms512m -Xmx512m -XX:MaxPermSize=128m org.apache.spark.deploy.SparkSubmit pyspark-shell\n",
    "rahul           31520   0.0  0.0  2432784    480 s011  R+    6:42PM   0:00.00 grep --color=auto --exclude-dir=.bzr --exclude-dir=.cvs --exclude-dir=.git --exclude-dir=.hg --exclude-dir=.svn pyspark\n",
    "rahul           31494   0.0  0.7  2548972  57288 s012  S     6:41PM   0:00.10 python -m pyspark.daemon\n",
    "rahul           31493   0.0  0.7  2548972  57308 s012  S     6:41PM   0:00.10 python -m pyspark.daemon\n",
    "rahul           31492   0.0  0.7  2548972  57288 s012  S     6:41PM   0:00.11 python -m pyspark.daemon\n",
    "rahul           31446   0.0  0.8  2548972  68460 s012  S     6:35PM   0:01.34 python -m pyspark.daemon\n",
    "```"
   ]
  },
  {
   "cell_type": "markdown",
   "metadata": {
    "slideshow": {
     "slide_type": "slide"
    }
   },
   "source": [
    "### WORD COUNT!\n",
    "\n",
    "This little exercise shows how to use mapreduce to calculate the counts of individual words in a list."
   ]
  },
  {
   "cell_type": "code",
   "execution_count": 12,
   "metadata": {},
   "outputs": [
    {
     "name": "stdout",
     "output_type": "stream",
     "text": [
      "[('cat', 2), ('elephant', 1), ('rat', 2)]\n"
     ]
    }
   ],
   "source": [
    "wordsList = ['cat', 'elephant', 'rat', 'rat', 'cat']\n",
    "wordsRDD = sc.parallelize(wordsList, 4)\n",
    "wordCountsCollected = (wordsRDD\n",
    "                       .map(lambda w: (w, 1))\n",
    "                       .reduceByKey(lambda x,y: x+y)\n",
    "                       .collect())\n",
    "print (wordCountsCollected)"
   ]
  },
  {
   "cell_type": "markdown",
   "metadata": {
    "slideshow": {
     "slide_type": "slide"
    }
   },
   "source": [
    "![Tons of shuffling](https://databricks.gitbooks.io/databricks-spark-knowledge-base/content/images/reduce_by.png)"
   ]
  },
  {
   "cell_type": "code",
   "execution_count": 13,
   "metadata": {},
   "outputs": [
    {
     "name": "stdout",
     "output_type": "stream",
     "text": [
      "b'(4) PythonRDD[19] at RDD at PythonRDD.scala:48 []\\n |  MapPartitionsRDD[18] at mapPartitions at PythonRDD.scala:122 []\\n |  ShuffledRDD[17] at partitionBy at NativeMethodAccessorImpl.java:0 []\\n +-(4) PairwiseRDD[16] at reduceByKey at <ipython-input-13-de218d677346>:3 []\\n    |  PythonRDD[15] at reduceByKey at <ipython-input-13-de218d677346>:3 []\\n    |  ParallelCollectionRDD[9] at parallelize at PythonRDD.scala:175 []'\n"
     ]
    }
   ],
   "source": [
    "print ((wordsRDD\n",
    "    .map(lambda w: (w, 1))\n",
    "    .reduceByKey(lambda x,y: x+y)).toDebugString())"
   ]
  },
  {
   "cell_type": "markdown",
   "metadata": {
    "slideshow": {
     "slide_type": "slide"
    }
   },
   "source": [
    "### Using Cache"
   ]
  },
  {
   "cell_type": "code",
   "execution_count": 14,
   "metadata": {},
   "outputs": [
    {
     "name": "stdout",
     "output_type": "stream",
     "text": [
      "ParallelCollectionRDD[20] at parallelize at PythonRDD.scala:175\n"
     ]
    },
    {
     "data": {
      "text/plain": [
       "5"
      ]
     },
     "execution_count": 14,
     "metadata": {},
     "output_type": "execute_result"
    }
   ],
   "source": [
    "wordsList = ['cat', 'elephant', 'rat', 'rat', 'cat']\n",
    "wordsRDD = sc.parallelize(wordsList, 4)\n",
    "print (wordsRDD)\n",
    "wordsRDD.count()"
   ]
  },
  {
   "cell_type": "markdown",
   "metadata": {},
   "source": [
    "Normally, every operation is run from the start. This may be inefficient in many cases. So when appropriate, we may want to cache the result the first time an operation is run on an RDD."
   ]
  },
  {
   "cell_type": "code",
   "execution_count": 15,
   "metadata": {},
   "outputs": [
    {
     "data": {
      "text/plain": [
       "5"
      ]
     },
     "execution_count": 15,
     "metadata": {},
     "output_type": "execute_result"
    }
   ],
   "source": [
    "#this is rerun from the start\n",
    "wordsRDD.count()"
   ]
  },
  {
   "cell_type": "code",
   "execution_count": 16,
   "metadata": {},
   "outputs": [
    {
     "data": {
      "text/plain": [
       "ParallelCollectionRDD[20] at parallelize at PythonRDD.scala:175"
      ]
     },
     "execution_count": 16,
     "metadata": {},
     "output_type": "execute_result"
    }
   ],
   "source": [
    "#default storage level (MEMORY_ONLY)\n",
    "wordsRDD.cache()#nothing done this is still lazy"
   ]
  },
  {
   "cell_type": "code",
   "execution_count": 17,
   "metadata": {},
   "outputs": [
    {
     "data": {
      "text/plain": [
       "5"
      ]
     },
     "execution_count": 17,
     "metadata": {},
     "output_type": "execute_result"
    }
   ],
   "source": [
    "#parallelize is rerun and cached because we told it to cache\n",
    "wordsRDD.count()"
   ]
  },
  {
   "cell_type": "code",
   "execution_count": 18,
   "metadata": {},
   "outputs": [
    {
     "data": {
      "text/plain": [
       "5"
      ]
     },
     "execution_count": 18,
     "metadata": {},
     "output_type": "execute_result"
    }
   ],
   "source": [
    "#this `sc.parallelize` is not rerun in this case\n",
    "wordsRDD.count()"
   ]
  },
  {
   "cell_type": "markdown",
   "metadata": {},
   "source": [
    "Where is this useful: it is when you have branching parts or loops, so that you dont do things again and again. Spark, being \"lazy\" will rerun the chain again. So `cache` or `persist` serves as a checkpoint, breaking the RDD chain or the *lineage*."
   ]
  },
  {
   "cell_type": "code",
   "execution_count": 19,
   "metadata": {},
   "outputs": [
    {
     "data": {
      "text/plain": [
       "{'cat': 'mammal',\n",
       " 'elephant': 'mammal',\n",
       " 'heron': 'bird',\n",
       " 'owl': 'bird',\n",
       " 'rat': 'mammal'}"
      ]
     },
     "execution_count": 19,
     "metadata": {},
     "output_type": "execute_result"
    }
   ],
   "source": [
    "birdsList=['heron','owl']\n",
    "animList=wordsList+birdsList\n",
    "animaldict={}\n",
    "for e in wordsList:\n",
    "    animaldict[e]='mammal'\n",
    "for e in birdsList:\n",
    "    animaldict[e]='bird'\n",
    "animaldict"
   ]
  },
  {
   "cell_type": "code",
   "execution_count": 20,
   "metadata": {},
   "outputs": [
    {
     "name": "stdout",
     "output_type": "stream",
     "text": [
      "5 2\n"
     ]
    }
   ],
   "source": [
    "animsrdd = sc.parallelize(animList, 4)\n",
    "animsrdd.cache()\n",
    "#below runs the whole chain but causes cache to be populated\n",
    "mammalcount=animsrdd.filter(lambda w: animaldict[w]=='mammal').count()\n",
    "#now only the filter is carried out\n",
    "birdcount=animsrdd.filter(lambda w: animaldict[w]=='bird').count()\n",
    "print (mammalcount, birdcount)"
   ]
  },
  {
   "cell_type": "code",
   "execution_count": null,
   "metadata": {
    "collapsed": true
   },
   "outputs": [],
   "source": []
  },
  {
   "cell_type": "markdown",
   "metadata": {},
   "source": [
    "### Exercises: Fun with MapReduce\n",
    "\n",
    "Read http://spark.apache.org/docs/latest/programming-guide.html for some useful background and then try out the following exercises"
   ]
  },
  {
   "cell_type": "markdown",
   "metadata": {},
   "source": [
    "The file `./sparklect/english.stop.txt` contains a list of English stopwords, while the file `./sparklect/shakes/juliuscaesar.txt` contains the entire text of Shakespeare's 'Julius Caesar'.\n",
    "\n",
    "* Load all of the stopwords into a Python list\n",
    "* Load the text of Julius Caesar into an RDD using the `sparkcontext.textfile()` method. Call it `juliusrdd`."
   ]
  },
  {
   "cell_type": "code",
   "execution_count": 21,
   "metadata": {
    "collapsed": true
   },
   "outputs": [],
   "source": [
    "# your turn\n",
    "stopwords = sc.textFile('./sparklect/english.stop.txt')\n",
    "juliusrdd = sc.textFile('./sparklect/shakes/juliuscaesar.txt')\n"
   ]
  },
  {
   "cell_type": "markdown",
   "metadata": {},
   "source": [
    "How many words does Julius Caesar have? *Hint: use `flatMap()`*."
   ]
  },
  {
   "cell_type": "code",
   "execution_count": 22,
   "metadata": {
    "collapsed": true
   },
   "outputs": [],
   "source": [
    "import re, string\n",
    "from string import punctuation"
   ]
  },
  {
   "cell_type": "code",
   "execution_count": 23,
   "metadata": {
    "collapsed": true
   },
   "outputs": [],
   "source": [
    "punc= string.punctuation"
   ]
  },
  {
   "cell_type": "code",
   "execution_count": 105,
   "metadata": {},
   "outputs": [],
   "source": [
    "#https://stackoverflow.com/questions/37221307/how-do-i-strip-all-leading-and-trailing-\n",
    "#punctuation-in-python\n",
    "#https://github.com/tdhopper/rta-pyspark-presentation/blob/master/slides.ipynb\n",
    "#.reduceByKey(lambda a, b: a + b) \\  same as .reduceByKey(add) \\\n",
    "\n",
    "rdd1 = juliusrdd \\\n",
    "                .flatMap(lambda line: line.split()) \\\n",
    "                .map(lambda word: word.strip().lower()) \\\n",
    "                .filter(lambda word: word not in punc) \\\n",
    "                .map(lambda word: word.strip(punctuation)) \\\n",
    "                .map(lambda word: (word, 1)) \\\n",
    "                .reduceByKey(lambda a, b: a + b)"
   ]
  },
  {
   "cell_type": "code",
   "execution_count": 106,
   "metadata": {},
   "outputs": [
    {
     "data": {
      "text/plain": [
       "2944"
      ]
     },
     "execution_count": 106,
     "metadata": {},
     "output_type": "execute_result"
    }
   ],
   "source": [
    "rdd1.count()"
   ]
  },
  {
   "cell_type": "markdown",
   "metadata": {},
   "source": [
    "Now print the first 20 words of Julius Caesar as a Python list."
   ]
  },
  {
   "cell_type": "code",
   "execution_count": 107,
   "metadata": {
    "collapsed": true
   },
   "outputs": [],
   "source": [
    "# your turn"
   ]
  },
  {
   "cell_type": "code",
   "execution_count": 108,
   "metadata": {},
   "outputs": [
    {
     "data": {
      "text/plain": [
       "[('1599', 1),\n",
       " ('tragedy', 1),\n",
       " ('of', 389),\n",
       " ('julius', 5),\n",
       " ('caesar', 237),\n",
       " ('shakespeare', 6),\n",
       " ('dramatis', 1),\n",
       " ('roman', 18),\n",
       " ('statesman', 1),\n",
       " ('triumvir', 2),\n",
       " ('after', 11),\n",
       " (\"caesar's\", 41),\n",
       " ('mark', 33),\n",
       " ('his', 161),\n",
       " ('lepidus', 12),\n",
       " ('third', 20),\n",
       " ('marcus', 7),\n",
       " ('leader', 1),\n",
       " ('against', 10),\n",
       " ('instigator', 1),\n",
       " ('trebonius', 17),\n",
       " ('caius', 14),\n",
       " ('ligarius', 15),\n",
       " ('decius', 26),\n",
       " ('metellus', 19),\n",
       " ('cinna', 40),\n",
       " ('calpurnia', 15),\n",
       " ('portia', 30),\n",
       " ('senator', 1),\n",
       " ('popilius', 8),\n",
       " ('lena', 3),\n",
       " ('messala', 47),\n",
       " ('artemidorus', 7),\n",
       " ('rhetoric', 1),\n",
       " ('poet', 10),\n",
       " ('varro', 12),\n",
       " ('clitus', 15),\n",
       " ('strato', 13),\n",
       " ('lucius', 59),\n",
       " ('dardanius', 8),\n",
       " ('pindarus', 20),\n",
       " ('ghost', 8),\n",
       " ('citizens', 7),\n",
       " ('soldiers', 6),\n",
       " ('messengers', 2),\n",
       " ('this', 170),\n",
       " ('version', 5),\n",
       " ('is', 260),\n",
       " ('copyright', 5),\n",
       " ('world', 23),\n",
       " ('library', 5),\n",
       " ('inc', 5),\n",
       " ('project', 5),\n",
       " ('gutenberg', 5),\n",
       " ('carnegie', 5),\n",
       " ('mellon', 5),\n",
       " ('university', 5),\n",
       " ('machine', 5),\n",
       " ('may', 42),\n",
       " ('long', 10),\n",
       " ('as', 140),\n",
       " ('1', 5),\n",
       " ('are', 119),\n",
       " ('others', 10),\n",
       " ('use', 15),\n",
       " ('only', 14),\n",
       " ('used', 6),\n",
       " ('prohibited', 5),\n",
       " ('commercial', 5),\n",
       " ('distribution', 5),\n",
       " ('service', 6),\n",
       " ('charges', 6),\n",
       " ('scene', 20),\n",
       " ('conspirators', 6),\n",
       " ('near', 9),\n",
       " ('philippi', 13),\n",
       " ('act', 7),\n",
       " ('i', 519),\n",
       " ('enter', 43),\n",
       " ('certain', 6),\n",
       " ('home', 12),\n",
       " ('creatures', 2),\n",
       " ('holiday', 3),\n",
       " ('know', 68),\n",
       " ('mechanical', 1),\n",
       " ('ought', 2),\n",
       " ('walk', 8),\n",
       " ('upon', 48),\n",
       " ('laboring', 1),\n",
       " ('sign', 4),\n",
       " ('profession', 1),\n",
       " ('speak', 40),\n",
       " ('trade', 6),\n",
       " ('thou', 116),\n",
       " ('commoner', 7),\n",
       " ('why', 43),\n",
       " ('carpenter', 1),\n",
       " ('where', 29),\n",
       " ('thy', 54),\n",
       " ('rule', 2),\n",
       " ('dost', 10),\n",
       " ('best', 13),\n",
       " ('truly', 8),\n",
       " ('in', 228),\n",
       " ('fine', 1),\n",
       " ('workman', 1),\n",
       " ('am', 57),\n",
       " ('but', 146),\n",
       " ('would', 46),\n",
       " ('say', 37),\n",
       " ('safe', 4),\n",
       " ('indeed', 11),\n",
       " ('mender', 1),\n",
       " ('knave', 4),\n",
       " ('out', 27),\n",
       " ('yet', 42),\n",
       " ('mend', 2),\n",
       " (\"mean'st\", 1),\n",
       " ('cobble', 1),\n",
       " ('live', 16),\n",
       " ('awl', 2),\n",
       " ('no', 93),\n",
       " (\"tradesman's\", 1),\n",
       " ('matters', 3),\n",
       " ('nor', 24),\n",
       " (\"women's\", 1),\n",
       " ('shoes', 2),\n",
       " ('when', 67),\n",
       " ('danger', 3),\n",
       " ('them', 61),\n",
       " ('proper', 3),\n",
       " ('ever', 11),\n",
       " ('trod', 1),\n",
       " ('have', 148),\n",
       " ('wherefore', 6),\n",
       " ('shop', 1),\n",
       " ('these', 39),\n",
       " ('streets', 11),\n",
       " ('wear', 4),\n",
       " ('myself', 20),\n",
       " ('into', 15),\n",
       " ('more', 35),\n",
       " ('work', 9),\n",
       " ('we', 96),\n",
       " ('make', 26),\n",
       " ('brings', 3),\n",
       " ('he', 193),\n",
       " ('tributaries', 1),\n",
       " ('grace', 4),\n",
       " ('captive', 1),\n",
       " ('blocks', 1),\n",
       " ('stones', 3),\n",
       " ('worse', 4),\n",
       " ('than', 42),\n",
       " ('senseless', 1),\n",
       " ('things', 17),\n",
       " ('pompey', 4),\n",
       " (\"climb'd\", 1),\n",
       " ('walls', 3),\n",
       " ('towers', 1),\n",
       " ('there', 49),\n",
       " ('sat', 1),\n",
       " ('livelong', 1),\n",
       " ('expectation', 1),\n",
       " ('pass', 6),\n",
       " ('appear', 8),\n",
       " ('an', 33),\n",
       " ('universal', 1),\n",
       " ('shout', 6),\n",
       " ('underneath', 2),\n",
       " ('her', 11),\n",
       " ('hear', 37),\n",
       " ('sounds', 1),\n",
       " ('shores', 3),\n",
       " ('do', 132),\n",
       " ('now', 63),\n",
       " ('put', 16),\n",
       " ('attire', 1),\n",
       " ('flowers', 1),\n",
       " ('way', 13),\n",
       " (\"pompey's\", 6),\n",
       " ('run', 16),\n",
       " ('houses', 2),\n",
       " ('fall', 11),\n",
       " ('knees', 2),\n",
       " ('pray', 7),\n",
       " ('intermit', 1),\n",
       " ('plague', 1),\n",
       " ('needs', 1),\n",
       " ('must', 36),\n",
       " ('ingratitude', 2),\n",
       " ('go', 43),\n",
       " ('good', 71),\n",
       " ('countrymen', 12),\n",
       " ('fault', 4),\n",
       " ('poor', 9),\n",
       " ('draw', 2),\n",
       " ('weep', 6),\n",
       " ('tears', 4),\n",
       " ('till', 22),\n",
       " ('exeunt', 27),\n",
       " ('metal', 1),\n",
       " ('vanish', 1),\n",
       " ('guiltiness', 1),\n",
       " ('down', 26),\n",
       " ('towards', 2),\n",
       " (\"deck'd\", 1),\n",
       " ('ceremonies', 4),\n",
       " ('feast', 2),\n",
       " ('lupercal', 2),\n",
       " ('matter', 10),\n",
       " ('let', 64),\n",
       " ('hung', 2),\n",
       " (\"i'll\", 13),\n",
       " ('away', 18),\n",
       " ('thick', 2),\n",
       " (\"pluck'd\", 3),\n",
       " ('fly', 16),\n",
       " ('pitch', 1),\n",
       " ('above', 5),\n",
       " ('us', 63),\n",
       " ('public', 4),\n",
       " ('flourish', 5),\n",
       " ('follows', 2),\n",
       " ('peace', 17),\n",
       " ('speaks', 5),\n",
       " ('music', 5),\n",
       " ('ceases', 1),\n",
       " ('stand', 34),\n",
       " ('doth', 30),\n",
       " ('speed', 4),\n",
       " ('touch', 2),\n",
       " ('barren', 1),\n",
       " ('touched', 1),\n",
       " ('chase', 1),\n",
       " ('shake', 7),\n",
       " ('says', 9),\n",
       " ('set', 14),\n",
       " ('leave', 19),\n",
       " ('ceremony', 2),\n",
       " ('calls', 3),\n",
       " ('bid', 17),\n",
       " ('again', 20),\n",
       " ('cry', 10),\n",
       " ('beware', 4),\n",
       " ('ides', 7),\n",
       " ('before', 15),\n",
       " ('throng', 3),\n",
       " ('look', 31),\n",
       " (\"say'st\", 1),\n",
       " ('once', 14),\n",
       " ('dreamer', 1),\n",
       " ('sennet', 2),\n",
       " ('gamesome', 1),\n",
       " ('lack', 1),\n",
       " ('quick', 2),\n",
       " ('spirit', 16),\n",
       " ('hinder', 1),\n",
       " ('late', 3),\n",
       " ('eyes', 14),\n",
       " ('love', 34),\n",
       " ('was', 64),\n",
       " ('bear', 23),\n",
       " ('strange', 7),\n",
       " ('loves', 8),\n",
       " ('deceived', 2),\n",
       " ('turn', 8),\n",
       " ('trouble', 3),\n",
       " ('passions', 1),\n",
       " ('conceptions', 1),\n",
       " ('give', 35),\n",
       " ('soil', 1),\n",
       " ('perhaps', 2),\n",
       " ('behaviors', 1),\n",
       " ('further', 6),\n",
       " ('neglect', 1),\n",
       " ('at', 59),\n",
       " ('forgets', 1),\n",
       " ('other', 14),\n",
       " ('passion', 2),\n",
       " ('means', 10),\n",
       " ('whereof', 1),\n",
       " ('value', 1),\n",
       " ('cogitations', 1),\n",
       " ('tell', 37),\n",
       " ('tis', 23),\n",
       " ('just', 2),\n",
       " ('very', 12),\n",
       " ('mirrors', 1),\n",
       " ('hidden', 1),\n",
       " ('shadow', 1),\n",
       " ('heard', 8),\n",
       " ('noble', 39),\n",
       " ('dangers', 3),\n",
       " ('prepared', 1),\n",
       " ('cannot', 7),\n",
       " ('glass', 1),\n",
       " ('modestly', 1),\n",
       " ('discover', 2),\n",
       " ('jealous', 2),\n",
       " ('gentle', 10),\n",
       " ('common', 9),\n",
       " ('stale', 1),\n",
       " ('oaths', 1),\n",
       " ('new', 3),\n",
       " ('fawn', 2),\n",
       " ('rout', 1),\n",
       " ('shouting', 1),\n",
       " ('fear', 29),\n",
       " ('king', 4),\n",
       " ('think', 23),\n",
       " ('impart', 1),\n",
       " ('toward', 3),\n",
       " ('honor', 14),\n",
       " ('both', 8),\n",
       " ('name', 15),\n",
       " ('virtue', 6),\n",
       " ('subject', 1),\n",
       " ('story', 1),\n",
       " ('single', 1),\n",
       " ('self', 1),\n",
       " ('free', 5),\n",
       " ('fed', 1),\n",
       " ('endure', 7),\n",
       " ('cold', 6),\n",
       " ('raw', 2),\n",
       " ('gusty', 1),\n",
       " ('said', 10),\n",
       " ('swim', 2),\n",
       " ('point', 6),\n",
       " ('plunged', 1),\n",
       " ('bade', 4),\n",
       " (\"roar'd\", 1),\n",
       " ('buffet', 1),\n",
       " ('aside', 5),\n",
       " ('stemming', 1),\n",
       " ('arrive', 1),\n",
       " ('proposed', 1),\n",
       " ('help', 2),\n",
       " ('flames', 1),\n",
       " ('troy', 1),\n",
       " ('shoulder', 1),\n",
       " ('waves', 1),\n",
       " ('become', 3),\n",
       " ('creature', 2),\n",
       " ('bend', 3),\n",
       " ('carelessly', 1),\n",
       " ('fever', 1),\n",
       " ('true', 17),\n",
       " ('lips', 3),\n",
       " ('color', 2),\n",
       " ('whose', 5),\n",
       " ('lose', 4),\n",
       " ('groan', 3),\n",
       " ('books', 1),\n",
       " ('alas', 9),\n",
       " ('ye', 9),\n",
       " ('amaze', 1),\n",
       " ('temper', 2),\n",
       " ('start', 2),\n",
       " ('majestic', 1),\n",
       " ('palm', 3),\n",
       " ('believe', 6),\n",
       " ('applauses', 1),\n",
       " (\"heap'd\", 1),\n",
       " ('bestride', 1),\n",
       " ('like', 40),\n",
       " ('colossus', 1),\n",
       " ('huge', 3),\n",
       " ('peep', 1),\n",
       " ('ourselves', 5),\n",
       " ('dishonorable', 1),\n",
       " ('graves', 3),\n",
       " ('yours', 10),\n",
       " ('sound', 4),\n",
       " ('mouth', 3),\n",
       " ('heavy', 3),\n",
       " ('conjure', 1),\n",
       " ('em', 6),\n",
       " ('names', 2),\n",
       " ('feed', 1),\n",
       " ('hast', 13),\n",
       " ('lost', 2),\n",
       " ('famed', 1),\n",
       " (\"encompass'd\", 1),\n",
       " ('room', 5),\n",
       " ('state', 5),\n",
       " ('easily', 1),\n",
       " ('thought', 7),\n",
       " ('recount', 1),\n",
       " ('hereafter', 2),\n",
       " ('entreat', 3),\n",
       " ('consider', 3),\n",
       " ('meet', 18),\n",
       " ('high', 6),\n",
       " ('chew', 1),\n",
       " ('rather', 8),\n",
       " ('villager', 1),\n",
       " ('repute', 1),\n",
       " ('son', 7),\n",
       " ('conditions', 2),\n",
       " ('thus', 16),\n",
       " ('fire', 19),\n",
       " ('re-enter', 14),\n",
       " ('games', 1),\n",
       " ('pluck', 4),\n",
       " ('proceeded', 2),\n",
       " ('spot', 2),\n",
       " ('brow', 3),\n",
       " ('rest', 12),\n",
       " ('chidden', 1),\n",
       " ('pale', 2),\n",
       " ('looks', 6),\n",
       " ('ferret', 1),\n",
       " ('seen', 9),\n",
       " ('fat', 1),\n",
       " ('nights', 2),\n",
       " ('yond', 2),\n",
       " ('hungry', 1),\n",
       " ('thinks', 2),\n",
       " ('fatter', 1),\n",
       " ('spare', 1),\n",
       " ('reads', 2),\n",
       " ('observer', 1),\n",
       " ('quite', 4),\n",
       " ('deeds', 4),\n",
       " ('plays', 2),\n",
       " ('hears', 1),\n",
       " ('smiles', 4),\n",
       " (\"scorn'd\", 1),\n",
       " ('anything', 10),\n",
       " ('never', 16),\n",
       " (\"heart's\", 1),\n",
       " ('behold', 4),\n",
       " ('themselves', 6),\n",
       " (\"fear'd\", 2),\n",
       " ('always', 1),\n",
       " ('right', 6),\n",
       " ('ear', 4),\n",
       " (\"pull'd\", 1),\n",
       " ('cloak', 1),\n",
       " ('chanced', 4),\n",
       " ('sad', 4),\n",
       " ('ask', 2),\n",
       " ('offered', 7),\n",
       " ('shouted', 2),\n",
       " ('thrice', 6),\n",
       " ('last', 8),\n",
       " ('gentler', 1),\n",
       " ('putting', 1),\n",
       " ('neighbors', 1),\n",
       " ('twas', 3),\n",
       " ('neither', 3),\n",
       " ('coronets', 1),\n",
       " ('told', 3),\n",
       " ('fain', 1),\n",
       " ('fingers', 3),\n",
       " ('refused', 3),\n",
       " ('rabblement', 1),\n",
       " ('hooted', 1),\n",
       " ('threw', 1),\n",
       " ('nightcaps', 1),\n",
       " ('uttered', 1),\n",
       " ('deal', 1),\n",
       " ('stinking', 1),\n",
       " ('choked', 2),\n",
       " ('swounded', 1),\n",
       " ('own', 11),\n",
       " ('durst', 7),\n",
       " ('laugh', 2),\n",
       " ('caesars', 1),\n",
       " ('speechless', 1),\n",
       " ('falling', 2),\n",
       " ('sickness', 5),\n",
       " ('mean', 10),\n",
       " ('sure', 10),\n",
       " ('pleased', 1),\n",
       " ('players', 1),\n",
       " ('came', 7),\n",
       " ('perceived', 1),\n",
       " ('plucked', 1),\n",
       " ('doublet', 1),\n",
       " ('throat', 1),\n",
       " ('cut', 6),\n",
       " ('occupation', 1),\n",
       " ('rogues', 1),\n",
       " ('worships', 1),\n",
       " ('infirmity', 1),\n",
       " ('three', 7),\n",
       " ('four', 1),\n",
       " ('stood', 3),\n",
       " ('forgave', 1),\n",
       " (\"there's\", 6),\n",
       " ('spoke', 5),\n",
       " ('greek', 2),\n",
       " ('effect', 2),\n",
       " (\"ne'er\", 3),\n",
       " ('understood', 1),\n",
       " ('shook', 1),\n",
       " ('news', 4),\n",
       " ('silence', 3),\n",
       " ('promised', 1),\n",
       " ('dine', 1),\n",
       " ('tomorrow', 7),\n",
       " ('mind', 8),\n",
       " ('worth', 5),\n",
       " ('eating', 1),\n",
       " ('farewell', 11),\n",
       " ('blunt', 2),\n",
       " ('school', 3),\n",
       " ('execution', 1),\n",
       " ('enterprise', 7),\n",
       " ('however', 1),\n",
       " ('tardy', 1),\n",
       " ('form', 3),\n",
       " ('rudeness', 1),\n",
       " ('digest', 2),\n",
       " ('honorable', 15),\n",
       " ('minds', 4),\n",
       " ('likes', 1),\n",
       " ('night', 29),\n",
       " ('several', 5),\n",
       " ('throw', 2),\n",
       " ('writings', 1),\n",
       " ('opinion', 5),\n",
       " ('holds', 2),\n",
       " ('ambition', 4),\n",
       " ('glanced', 1),\n",
       " ('days', 5),\n",
       " ('iii', 6),\n",
       " ('even', 17),\n",
       " ('stare', 3),\n",
       " ('earth', 5),\n",
       " ('unfirm', 1),\n",
       " ('rived', 2),\n",
       " ('knotty', 1),\n",
       " ('oaks', 1),\n",
       " ('ocean', 1),\n",
       " ('rage', 3),\n",
       " ('threatening', 1),\n",
       " ('dropping', 1),\n",
       " ('incenses', 1),\n",
       " ('send', 11),\n",
       " ('destruction', 2),\n",
       " ('wonderful', 1),\n",
       " ('flame', 1),\n",
       " ('twenty', 2),\n",
       " ('torches', 1),\n",
       " ('sensible', 1),\n",
       " ('lion', 3),\n",
       " ('annoying', 1),\n",
       " ('women', 3),\n",
       " ('transformed', 1),\n",
       " ('swore', 2),\n",
       " ('bird', 1),\n",
       " ('shrieking', 1),\n",
       " ('conjointly', 1),\n",
       " ('climate', 1),\n",
       " ('strange-disposed', 1),\n",
       " ('sky', 1),\n",
       " ('pleasing', 1),\n",
       " ('heavens', 5),\n",
       " ('known', 4),\n",
       " ('full', 9),\n",
       " (\"walk'd\", 2),\n",
       " ('perilous', 1),\n",
       " ('unbraced', 2),\n",
       " ('bared', 1),\n",
       " ('bosom', 3),\n",
       " ('cross', 3),\n",
       " ('open', 2),\n",
       " ('flash', 1),\n",
       " ('tempt', 4),\n",
       " ('mighty', 14),\n",
       " ('tokens', 1),\n",
       " ('dreadful', 4),\n",
       " ('heralds', 1),\n",
       " ('dull', 1),\n",
       " ('sparks', 2),\n",
       " ('cast', 2),\n",
       " ('wonder', 2),\n",
       " ('cause', 15),\n",
       " ('fires', 1),\n",
       " ('gliding', 1),\n",
       " ('ghosts', 2),\n",
       " ('birds', 1),\n",
       " ('beasts', 2),\n",
       " ('quality', 4),\n",
       " ('kind', 4),\n",
       " ('calculate', 1),\n",
       " ('change', 8),\n",
       " ('ordinance', 1),\n",
       " ('natures', 1),\n",
       " ('preformed', 1),\n",
       " ('faculties', 1),\n",
       " ('infused', 1),\n",
       " ('spirits', 7),\n",
       " ('lightens', 1),\n",
       " ('mightier', 1),\n",
       " ('action', 2),\n",
       " ('eruptions', 1),\n",
       " ('ancestors', 3),\n",
       " ('womanish', 1),\n",
       " ('establish', 1),\n",
       " ('sea', 2),\n",
       " ('save', 3),\n",
       " ('italy', 2),\n",
       " ('bondage', 2),\n",
       " ('therein', 2),\n",
       " ('defeat', 1),\n",
       " ('stony', 1),\n",
       " ('tower', 1),\n",
       " ('beaten', 1),\n",
       " ('brass', 1),\n",
       " ('airless', 1),\n",
       " ('dungeon', 1),\n",
       " ('links', 1),\n",
       " ('retentive', 1),\n",
       " ('strength', 2),\n",
       " ('weary', 2),\n",
       " ('worldly', 1),\n",
       " ('bars', 1),\n",
       " ('power', 6),\n",
       " ('dismiss', 1),\n",
       " ('tyranny', 3),\n",
       " ('bondman', 5),\n",
       " ('bears', 11),\n",
       " ('captivity', 1),\n",
       " ('sheep', 1),\n",
       " ('hinds', 1),\n",
       " ('haste', 4),\n",
       " ('straws', 1),\n",
       " ('rubbish', 1),\n",
       " ('led', 3),\n",
       " ('willing', 2),\n",
       " (\"arm'd\", 2),\n",
       " ('fleering', 1),\n",
       " ('factious', 1),\n",
       " ('far', 7),\n",
       " ('goes', 6),\n",
       " ('farthest', 1),\n",
       " ('already', 4),\n",
       " ('noblest-minded', 1),\n",
       " ('undergo', 1),\n",
       " ('stir', 8),\n",
       " ('complexion', 1),\n",
       " (\"favor's\", 1),\n",
       " ('bloody', 10),\n",
       " ('terrible', 2),\n",
       " ('close', 3),\n",
       " ('awhile', 5),\n",
       " ('incorporate', 2),\n",
       " ('two', 10),\n",
       " ('sights', 2),\n",
       " ('yes', 6),\n",
       " ('win', 1),\n",
       " ('take', 23),\n",
       " ('chair', 2),\n",
       " ('wax', 1),\n",
       " ('statue', 5),\n",
       " ('repair', 2),\n",
       " ('house', 19),\n",
       " ('papers', 1),\n",
       " ('entire', 1),\n",
       " ('encounter', 1),\n",
       " ('sits', 2),\n",
       " (\"people's\", 1),\n",
       " ('offense', 4),\n",
       " ('richest', 1),\n",
       " ('conceited', 1),\n",
       " ('midnight', 1),\n",
       " ('awake', 9),\n",
       " ('orchard', 1),\n",
       " ('progress', 1),\n",
       " ('guess', 1),\n",
       " ('call', 6),\n",
       " ('spurn', 2),\n",
       " (\"crown'd\", 3),\n",
       " ('question', 3),\n",
       " ('bright', 1),\n",
       " ('adder', 1),\n",
       " ('grant', 5),\n",
       " ('disjoins', 1),\n",
       " (\"sway'd\", 2),\n",
       " ('proof', 3),\n",
       " ('young', 11),\n",
       " ('turns', 3),\n",
       " ('upmost', 1),\n",
       " ('round', 4),\n",
       " ('scorning', 1),\n",
       " ('degrees', 1),\n",
       " ('ascend', 1),\n",
       " ('lest', 5),\n",
       " ('prevent', 4),\n",
       " ('quarrel', 1),\n",
       " ('extremities', 1),\n",
       " (\"hatch'd\", 1),\n",
       " ('kill', 7),\n",
       " ('shell', 1),\n",
       " ('lie', 10),\n",
       " ('letter', 2),\n",
       " ('boy', 13),\n",
       " ('calendar', 1),\n",
       " ('bring', 10),\n",
       " ('whizzing', 1),\n",
       " ('read', 14),\n",
       " ('instigations', 1),\n",
       " (\"dropp'd\", 1),\n",
       " ('took', 5),\n",
       " ('tarquin', 1),\n",
       " ('entreated', 1),\n",
       " ('wasted', 1),\n",
       " ('fifteen', 1),\n",
       " ('gate', 1),\n",
       " ('slept', 2),\n",
       " ('acting', 1),\n",
       " ('motion', 3),\n",
       " ('interim', 1),\n",
       " ('dream', 4),\n",
       " ('genius', 1),\n",
       " ('mortal', 1),\n",
       " ('insurrection', 1),\n",
       " ('brother', 12),\n",
       " ('hats', 1),\n",
       " ('ears', 5),\n",
       " ('shamest', 1),\n",
       " ('evils', 3),\n",
       " ('dark', 1),\n",
       " ('mask', 1),\n",
       " ('none', 8),\n",
       " ('hide', 6),\n",
       " ('path', 1),\n",
       " ('native', 1),\n",
       " ('semblance', 1),\n",
       " ('dim', 1),\n",
       " ('prevention', 2),\n",
       " ('morrow', 7),\n",
       " ('hither', 6),\n",
       " ('cares', 1),\n",
       " ('betwixt', 1),\n",
       " ('east', 2),\n",
       " ('pardon', 10),\n",
       " ('confess', 2),\n",
       " ('sun', 3),\n",
       " ('youthful', 1),\n",
       " ('year', 1),\n",
       " ('months', 1),\n",
       " ('higher', 2),\n",
       " ('presents', 1),\n",
       " ('oath', 4),\n",
       " ('souls', 4),\n",
       " (\"time's\", 1),\n",
       " ('betimes', 2),\n",
       " ('melting', 1),\n",
       " ('secret', 2),\n",
       " ('palter', 1),\n",
       " ('honesty', 3),\n",
       " ('engaged', 1),\n",
       " ('cautelous', 1),\n",
       " ('carrions', 1),\n",
       " ('suffering', 1),\n",
       " ('wrongs', 2),\n",
       " ('causes', 1),\n",
       " ('performance', 1),\n",
       " ('nobly', 1),\n",
       " ('bastardy', 1),\n",
       " ('silver', 1),\n",
       " ('purchase', 1),\n",
       " (\"men's\", 2),\n",
       " ('voices', 1),\n",
       " ('commend', 3),\n",
       " ('judgement', 2),\n",
       " ('ruled', 2),\n",
       " ('youths', 1),\n",
       " ('gravity', 1),\n",
       " (\"touch'd\", 2),\n",
       " ('urged', 2),\n",
       " ('beloved', 1),\n",
       " ('shrewd', 1),\n",
       " ('improve', 1),\n",
       " ('stretch', 1),\n",
       " ('annoy', 1),\n",
       " ('head', 5),\n",
       " ('envy', 2),\n",
       " (\"let's\", 6),\n",
       " ('boldly', 1),\n",
       " ('wrathfully', 1),\n",
       " ('carve', 1),\n",
       " ('hew', 1),\n",
       " ('carcass', 1),\n",
       " ('hounds', 2),\n",
       " ('subtle', 1),\n",
       " ('appearing', 1),\n",
       " ('purgers', 1),\n",
       " ('murderers', 1),\n",
       " ('ingrated', 1),\n",
       " ('die', 17),\n",
       " ('sports', 1),\n",
       " ('him-let', 1),\n",
       " ('strikes', 1),\n",
       " ('count', 1),\n",
       " ('stricken', 1),\n",
       " ('doubtful', 1),\n",
       " ('superstitious', 1),\n",
       " ('apparent', 1),\n",
       " (\"unaccustom'd\", 1),\n",
       " ('terror', 2),\n",
       " ('persuasion', 1),\n",
       " ('augurers', 2),\n",
       " (\"o'ersway\", 1),\n",
       " ('elephants', 1),\n",
       " ('lions', 2),\n",
       " ('flatterers', 4),\n",
       " ('utter', 2),\n",
       " ('uttermost', 1),\n",
       " ('rated', 1),\n",
       " ('s', 1),\n",
       " ('yourselves', 6),\n",
       " ('gentlemen', 3),\n",
       " ('merrily', 1),\n",
       " ('purposes', 2),\n",
       " ('untired', 1),\n",
       " ('formal', 1),\n",
       " ('asleep', 2),\n",
       " ('dew', 1),\n",
       " ('slumber', 2),\n",
       " ('figures', 1),\n",
       " ('fantasies', 1),\n",
       " ('commit', 1),\n",
       " ('yesternight', 1),\n",
       " ('supper', 1),\n",
       " ('suddenly', 1),\n",
       " ('arose', 1),\n",
       " ('sighing', 1),\n",
       " (\"ask'd\", 1),\n",
       " ('stared', 1),\n",
       " (\"answer'd\", 3),\n",
       " ('waiter', 1),\n",
       " ('gave', 5),\n",
       " ('fearing', 3),\n",
       " ('strengthen', 1),\n",
       " ('enkindled', 1),\n",
       " ('withal', 3),\n",
       " ('sometime', 1),\n",
       " ('shape', 1),\n",
       " ('acquainted', 1),\n",
       " ('steal', 2),\n",
       " ('wholesome', 1),\n",
       " ('dare', 4),\n",
       " ('rheumy', 1),\n",
       " ('beauty', 1),\n",
       " ('vow', 1),\n",
       " ('unfold', 2),\n",
       " ('resort', 1),\n",
       " ('seven', 2),\n",
       " ('kneel', 3),\n",
       " ('marriage', 1),\n",
       " ('excepted', 1),\n",
       " ('secrets', 3),\n",
       " ('meals', 1),\n",
       " ('sometimes', 1),\n",
       " ('dwell', 4),\n",
       " ('suburbs', 1),\n",
       " ('harlot', 1),\n",
       " ('ruddy', 1),\n",
       " ('drops', 3),\n",
       " ('visit', 3),\n",
       " ('heart', 27),\n",
       " ('daughter', 1),\n",
       " ('stronger', 1),\n",
       " (\"father'd\", 1),\n",
       " ('husbanded', 1),\n",
       " ('counsels', 1),\n",
       " ('disclose', 1),\n",
       " ('voluntary', 1),\n",
       " ('thigh', 1),\n",
       " (\"husband's\", 1),\n",
       " ('render', 2),\n",
       " ('hark', 8),\n",
       " ('partake', 1),\n",
       " ('brows', 2),\n",
       " ('vouchsafe', 2),\n",
       " ('brave', 5),\n",
       " ('kerchief', 1),\n",
       " ('derived', 1),\n",
       " ('loins', 1),\n",
       " ('mortified', 1),\n",
       " ('strive', 1),\n",
       " ('impossible', 2),\n",
       " ('nightgown', 1),\n",
       " ('murther', 1),\n",
       " ('sacrifice', 1),\n",
       " ('opinions', 1),\n",
       " ('success', 3),\n",
       " (\"threaten'd\", 1),\n",
       " ('fright', 1),\n",
       " ('horrid', 1),\n",
       " ('watch', 2),\n",
       " ('whelped', 1),\n",
       " ('yielded', 1),\n",
       " ('fight', 4),\n",
       " ('drizzled', 1),\n",
       " ('horses', 2),\n",
       " ('shriek', 1),\n",
       " ('beyond', 1),\n",
       " ('avoided', 1),\n",
       " ('end', 8),\n",
       " ('purposed', 1),\n",
       " ('predictions', 1),\n",
       " ('comets', 1),\n",
       " ('blaze', 1),\n",
       " ('princes', 2),\n",
       " ('valiant', 6),\n",
       " ('wonders', 1),\n",
       " ('seeing', 2),\n",
       " ('plucking', 1),\n",
       " ('offering', 1),\n",
       " (\"litter'd\", 1),\n",
       " ('elder', 2),\n",
       " ('consumed', 1),\n",
       " ('keeps', 1),\n",
       " ('knee', 2),\n",
       " ('prevail', 1),\n",
       " (\"stretch'd\", 2),\n",
       " (\"laugh'd\", 1),\n",
       " ('private', 3),\n",
       " ('satisfaction', 1),\n",
       " ('dreamt', 2),\n",
       " ('fountain', 1),\n",
       " ('spouts', 1),\n",
       " ('smiling', 2),\n",
       " ('warnings', 1),\n",
       " ('portents', 1),\n",
       " (\"begg'd\", 1),\n",
       " ('interpreted', 1),\n",
       " ('vision', 1),\n",
       " ('fortunate', 2),\n",
       " ('pipes', 1),\n",
       " ('tinctures', 1),\n",
       " ('stains', 1),\n",
       " ('cognizance', 1),\n",
       " ('expounded', 1),\n",
       " ('mock', 1),\n",
       " ('lo', 2),\n",
       " ('yield', 3),\n",
       " ('robe', 1),\n",
       " ('publius', 13),\n",
       " ('enemy', 10),\n",
       " ('ague', 1),\n",
       " (\"is't\", 3),\n",
       " (\"o'clock\", 3),\n",
       " ('eight', 1),\n",
       " ('pains', 1),\n",
       " ('prepare', 5),\n",
       " ('blame', 5),\n",
       " ('store', 2),\n",
       " ('wine', 5),\n",
       " ('straightway', 1),\n",
       " ('wronged', 1),\n",
       " ('beest', 1),\n",
       " ('security', 1),\n",
       " ('defend', 2),\n",
       " ('suitor', 2),\n",
       " ('teeth', 4),\n",
       " ('emulation', 1),\n",
       " ('mayest', 1),\n",
       " ('traitors', 9),\n",
       " ('contrive', 1),\n",
       " ('iv', 3),\n",
       " ('prithee', 4),\n",
       " ('errand', 1),\n",
       " ('madam', 5),\n",
       " ('sickly', 2),\n",
       " ('suitors', 2),\n",
       " ('rumor', 1),\n",
       " ('lady', 3),\n",
       " ('ninth', 1),\n",
       " ('suit', 5),\n",
       " ('befriend', 1),\n",
       " (\"harm's\", 1),\n",
       " ('chance', 2),\n",
       " ('praetors', 1),\n",
       " ('thine', 4),\n",
       " ('merry', 2),\n",
       " ('sitting', 1),\n",
       " ('schedule', 1),\n",
       " (\"o'er\", 3),\n",
       " ('touches', 2),\n",
       " ('nearer', 1),\n",
       " ('served', 2),\n",
       " ('delay', 1),\n",
       " ('advances', 1),\n",
       " ('slay', 2),\n",
       " ('rears', 1),\n",
       " ('ready', 4),\n",
       " ('puissant', 1),\n",
       " ('throws', 1),\n",
       " ('kneels', 1),\n",
       " ('couchings', 1),\n",
       " ('courtesies', 1),\n",
       " ...]"
      ]
     },
     "execution_count": 108,
     "metadata": {},
     "output_type": "execute_result"
    }
   ],
   "source": [
    "rdd1.collect()"
   ]
  },
  {
   "cell_type": "code",
   "execution_count": 76,
   "metadata": {},
   "outputs": [
    {
     "name": "stdout",
     "output_type": "stream",
     "text": [
      "[('and', 655), ('the', 612), ('i', 519), ('to', 419), ('you', 391), ('of', 389), ('brutus', 366), ('that', 290), ('a', 267), ('not', 262), ('is', 260), ('caesar', 237), ('in', 228), ('cassius', 227), ('it', 194), ('he', 193), ('me', 189), ('my', 189), ('for', 187), ('this', 170)]\n"
     ]
    }
   ],
   "source": [
    "# https://stackoverflow.com/questions/30787635/takeordered-descending-pyspark\n",
    "# note: no need for the print(), i just like the horizontal layout\n",
    "rdd2 = rdd1.takeOrdered(20, key=lambda x: -x[1])\n",
    "print(rdd2)"
   ]
  },
  {
   "cell_type": "code",
   "execution_count": 74,
   "metadata": {},
   "outputs": [
    {
     "name": "stdout",
     "output_type": "stream",
     "text": [
      "['and', 'the', 'i', 'to', 'you', 'of', 'brutus', 'that', 'a', 'not', 'is', 'caesar', 'in', 'cassius', 'it', 'he', 'me', 'my', 'for', 'this']\n"
     ]
    }
   ],
   "source": [
    "# note: no need for the print(), i just like the horizontal layout\n",
    "print([x[0] for x in rdd2])"
   ]
  },
  {
   "cell_type": "code",
   "execution_count": null,
   "metadata": {
    "collapsed": true
   },
   "outputs": [],
   "source": []
  },
  {
   "cell_type": "code",
   "execution_count": 29,
   "metadata": {
    "collapsed": true
   },
   "outputs": [],
   "source": [
    "# your turn"
   ]
  },
  {
   "cell_type": "markdown",
   "metadata": {},
   "source": [
    "Now print the first 20 words of Julius Caesar, **after removing all the stopwords**. *Hint: use `filter()`*."
   ]
  },
  {
   "cell_type": "code",
   "execution_count": 141,
   "metadata": {},
   "outputs": [
    {
     "name": "stdout",
     "output_type": "stream",
     "text": [
      "['1599', 'tragedy', 'of', 'julius', 'caesar', 'shakespeare', 'dramatis', 'roman', 'statesman', 'triumvir', 'after', \"caesar's\", 'mark', 'his', 'lepidus', 'third', 'marcus', 'leader', 'against', 'instigator', 'trebonius', 'caius', 'ligarius', 'decius', 'metellus', 'cinna', 'calpurnia', 'portia', 'senator', 'popilius', 'lena', 'messala', 'artemidorus', 'rhetoric', 'poet', 'varro', 'clitus', 'strato', 'lucius', 'dardanius', 'pindarus', 'ghost', 'citizens', 'soldiers', 'messengers', 'this', 'version', 'is', 'copyright', 'world', 'library', 'inc', 'project', 'gutenberg', 'carnegie', 'mellon', 'university', 'machine', 'may', 'long', 'as', '1', 'are', 'others', 'use', 'only', 'used', 'prohibited', 'commercial', 'distribution', 'service', 'charges', 'scene', 'conspirators', 'near', 'philippi', 'act', 'i', 'enter', 'certain', 'home', 'creatures', 'holiday', 'know', 'mechanical', 'ought', 'walk', 'upon', 'laboring', 'sign', 'profession', 'speak', 'trade', 'thou', 'commoner', 'why', 'carpenter', 'where', 'thy', 'rule', 'dost', 'best', 'truly', 'in', 'fine', 'workman', 'am', 'but', 'would', 'say', 'safe', 'indeed', 'mender', 'knave', 'out', 'yet', 'mend', \"mean'st\", 'cobble', 'live', 'awl', 'no', \"tradesman's\", 'matters', 'nor', \"women's\", 'shoes', 'when', 'danger', 'them', 'proper', 'ever', 'trod', 'have', 'wherefore', 'shop', 'these', 'streets', 'wear', 'myself', 'into', 'more', 'work', 'we', 'make', 'brings', 'he', 'tributaries', 'grace', 'captive', 'blocks', 'stones', 'worse', 'than', 'senseless', 'things', 'pompey', \"climb'd\", 'walls', 'towers', 'there', 'sat', 'livelong', 'expectation', 'pass', 'appear', 'an', 'universal', 'shout', 'underneath', 'her', 'hear', 'sounds', 'shores', 'do', 'now', 'put', 'attire', 'flowers', 'way', \"pompey's\", 'run', 'houses', 'fall', 'knees', 'pray', 'intermit', 'plague', 'needs', 'must', 'ingratitude', 'go', 'good', 'countrymen', 'fault', 'poor', 'draw', 'weep', 'tears', 'till', 'exeunt', 'metal', 'vanish', 'guiltiness', 'down', 'towards', \"deck'd\", 'ceremonies', 'feast', 'lupercal', 'matter', 'let', 'hung', \"i'll\", 'away', 'thick', \"pluck'd\", 'fly', 'pitch', 'above', 'us', 'public', 'flourish', 'follows', 'peace', 'speaks', 'music', 'ceases', 'stand', 'doth', 'speed', 'touch', 'barren', 'touched', 'chase', 'shake', 'says', 'set', 'leave', 'ceremony', 'calls', 'bid', 'again', 'cry', 'beware', 'ides', 'before', 'throng', 'look', \"say'st\", 'once', 'dreamer', 'sennet', 'gamesome', 'lack', 'quick', 'spirit', 'hinder', 'late', 'eyes', 'love', 'was', 'bear', 'strange', 'loves', 'deceived', 'turn', 'trouble', 'passions', 'conceptions', 'give', 'soil', 'perhaps', 'behaviors', 'further', 'neglect', 'at', 'forgets', 'other', 'passion', 'means', 'whereof', 'value', 'cogitations', 'tell', 'tis', 'just', 'very', 'mirrors', 'hidden', 'shadow', 'heard', 'noble', 'dangers', 'prepared', 'cannot', 'glass', 'modestly', 'discover', 'jealous', 'gentle', 'common', 'stale', 'oaths', 'new', 'fawn', 'rout', 'shouting', 'fear', 'king', 'think', 'impart', 'toward', 'honor', 'both', 'name', 'virtue', 'subject', 'story', 'single', 'self', 'free', 'fed', 'endure', 'cold', 'raw', 'gusty', 'said', 'swim', 'point', 'plunged', 'bade', \"roar'd\", 'buffet', 'aside', 'stemming', 'arrive', 'proposed', 'help', 'flames', 'troy', 'shoulder', 'waves', 'become', 'creature', 'bend', 'carelessly', 'fever', 'true', 'lips', 'color', 'whose', 'lose', 'groan', 'books', 'alas', 'ye', 'amaze', 'temper', 'start', 'majestic', 'palm', 'believe', 'applauses', \"heap'd\", 'bestride', 'like', 'colossus', 'huge', 'peep', 'ourselves', 'dishonorable', 'graves', 'yours', 'sound', 'mouth', 'heavy', 'conjure', 'em', 'names', 'feed', 'hast', 'lost', 'famed', \"encompass'd\", 'room', 'state', 'easily', 'thought', 'recount', 'hereafter', 'entreat', 'consider', 'meet', 'high', 'chew', 'rather', 'villager', 'repute', 'son', 'conditions', 'thus', 'fire', 're-enter', 'games', 'pluck', 'proceeded', 'spot', 'brow', 'rest', 'chidden', 'pale', 'looks', 'ferret', 'seen', 'fat', 'nights', 'yond', 'hungry', 'thinks', 'fatter', 'spare', 'reads', 'observer', 'quite', 'deeds', 'plays', 'hears', 'smiles', \"scorn'd\", 'anything', 'never', \"heart's\", 'behold', 'themselves', \"fear'd\", 'always', 'right', 'ear', \"pull'd\", 'cloak', 'chanced', 'sad', 'ask', 'offered', 'shouted', 'thrice', 'last', 'gentler', 'putting', 'neighbors', 'twas', 'neither', 'coronets', 'told', 'fain', 'fingers', 'refused', 'rabblement', 'hooted', 'threw', 'nightcaps', 'uttered', 'deal', 'stinking', 'choked', 'swounded', 'own', 'durst', 'laugh', 'caesars', 'speechless', 'falling', 'sickness', 'mean', 'sure', 'pleased', 'players', 'came', 'perceived', 'plucked', 'doublet', 'throat', 'cut', 'occupation', 'rogues', 'worships', 'infirmity', 'three', 'four', 'stood', 'forgave', \"there's\", 'spoke', 'greek', 'effect', \"ne'er\", 'understood', 'shook', 'news', 'silence', 'promised', 'dine', 'tomorrow', 'mind', 'worth', 'eating', 'farewell', 'blunt', 'school', 'execution', 'enterprise', 'however', 'tardy', 'form', 'rudeness', 'digest', 'honorable', 'minds', 'likes', 'night', 'several', 'throw', 'writings', 'opinion', 'holds', 'ambition', 'glanced', 'days', 'iii', 'even', 'stare', 'earth', 'unfirm', 'rived', 'knotty', 'oaks', 'ocean', 'rage', 'threatening', 'dropping', 'incenses', 'send', 'destruction', 'wonderful', 'flame', 'twenty', 'torches', 'sensible', 'lion', 'annoying', 'women', 'transformed', 'swore', 'bird', 'shrieking', 'conjointly', 'climate', 'strange-disposed', 'sky', 'pleasing', 'heavens', 'known', 'full', \"walk'd\", 'perilous', 'unbraced', 'bared', 'bosom', 'cross', 'open', 'flash', 'tempt', 'mighty', 'tokens', 'dreadful', 'heralds', 'dull', 'sparks', 'cast', 'wonder', 'cause', 'fires', 'gliding', 'ghosts', 'birds', 'beasts', 'quality', 'kind', 'calculate', 'change', 'ordinance', 'natures', 'preformed', 'faculties', 'infused', 'spirits', 'lightens', 'mightier', 'action', 'eruptions', 'ancestors', 'womanish', 'establish', 'sea', 'save', 'italy', 'bondage', 'therein', 'defeat', 'stony', 'tower', 'beaten', 'brass', 'airless', 'dungeon', 'links', 'retentive', 'strength', 'weary', 'worldly', 'bars', 'power', 'dismiss', 'tyranny', 'bondman', 'bears', 'captivity', 'sheep', 'hinds', 'haste', 'straws', 'rubbish', 'led', 'willing', \"arm'd\", 'fleering', 'factious', 'far', 'goes', 'farthest', 'already', 'noblest-minded', 'undergo', 'stir', 'complexion', \"favor's\", 'bloody', 'terrible', 'close', 'awhile', 'incorporate', 'two', 'sights', 'yes', 'win', 'take', 'chair', 'wax', 'statue', 'repair', 'house', 'papers', 'entire', 'encounter', 'sits', \"people's\", 'offense', 'richest', 'conceited', 'midnight', 'awake', 'orchard', 'progress', 'guess', 'call', 'spurn', \"crown'd\", 'question', 'bright', 'adder', 'grant', 'disjoins', \"sway'd\", 'proof', 'young', 'turns', 'upmost', 'round', 'scorning', 'degrees', 'ascend', 'lest', 'prevent', 'quarrel', 'extremities', \"hatch'd\", 'kill', 'shell', 'lie', 'letter', 'boy', 'calendar', 'bring', 'whizzing', 'read', 'instigations', \"dropp'd\", 'took', 'tarquin', 'entreated', 'wasted', 'fifteen', 'gate', 'slept', 'acting', 'motion', 'interim', 'dream', 'genius', 'mortal', 'insurrection', 'brother', 'hats', 'ears', 'shamest', 'evils', 'dark', 'mask', 'none', 'hide', 'path', 'native', 'semblance', 'dim', 'prevention', 'morrow', 'hither', 'cares', 'betwixt', 'east', 'pardon', 'confess', 'sun', 'youthful', 'year', 'months', 'higher', 'presents', 'oath', 'souls', \"time's\", 'betimes', 'melting', 'secret', 'palter', 'honesty', 'engaged', 'cautelous', 'carrions', 'suffering', 'wrongs', 'causes', 'performance', 'nobly', 'bastardy', 'silver', 'purchase', \"men's\", 'voices', 'commend', 'judgement', 'ruled', 'youths', 'gravity', \"touch'd\", 'urged', 'beloved', 'shrewd', 'improve', 'stretch', 'annoy', 'head', 'envy', \"let's\", 'boldly', 'wrathfully', 'carve', 'hew', 'carcass', 'hounds', 'subtle', 'appearing', 'purgers', 'murderers', 'ingrated', 'die', 'sports', 'him-let', 'strikes', 'count', 'stricken', 'doubtful', 'superstitious', 'apparent', \"unaccustom'd\", 'terror', 'persuasion', 'augurers', \"o'ersway\", 'elephants', 'lions', 'flatterers', 'utter', 'uttermost', 'rated', 's', 'yourselves', 'gentlemen', 'merrily', 'purposes', 'untired', 'formal', 'asleep', 'dew', 'slumber', 'figures', 'fantasies', 'commit', 'yesternight', 'supper', 'suddenly', 'arose', 'sighing', \"ask'd\", 'stared', \"answer'd\", 'waiter', 'gave', 'fearing', 'strengthen', 'enkindled', 'withal', 'sometime', 'shape', 'acquainted', 'steal', 'wholesome', 'dare', 'rheumy', 'beauty', 'vow', 'unfold', 'resort', 'seven', 'kneel', 'marriage', 'excepted', 'secrets', 'meals', 'sometimes', 'dwell', 'suburbs', 'harlot', 'ruddy', 'drops', 'visit', 'heart', 'daughter', 'stronger', \"father'd\", 'husbanded', 'counsels', 'disclose', 'voluntary', 'thigh', \"husband's\", 'render', 'hark', 'partake', 'brows', 'vouchsafe', 'brave', 'kerchief', 'derived', 'loins', 'mortified', 'strive', 'impossible', 'nightgown', 'murther', 'sacrifice', 'opinions', 'success', \"threaten'd\", 'fright', 'horrid', 'watch', 'whelped', 'yielded', 'fight', 'drizzled', 'horses', 'shriek', 'beyond', 'avoided', 'end', 'purposed', 'predictions', 'comets', 'blaze', 'princes', 'valiant', 'wonders', 'seeing', 'plucking', 'offering', \"litter'd\", 'elder', 'consumed', 'keeps', 'knee', 'prevail', \"stretch'd\", \"laugh'd\", 'private', 'satisfaction', 'dreamt', 'fountain', 'spouts', 'smiling', 'warnings', 'portents', \"begg'd\", 'interpreted', 'vision', 'fortunate', 'pipes', 'tinctures', 'stains', 'cognizance', 'expounded', 'mock', 'lo', 'yield', 'robe', 'publius', 'enemy', 'ague', \"is't\", \"o'clock\", 'eight', 'pains', 'prepare', 'blame', 'store', 'wine', 'straightway', 'wronged', 'beest', 'security', 'defend', 'suitor', 'teeth', 'emulation', 'mayest', 'traitors', 'contrive', 'iv', 'prithee', 'errand', 'madam', 'sickly', 'suitors', 'rumor', 'lady', 'ninth', 'suit', 'befriend', \"harm's\", 'chance', 'praetors', 'thine', 'merry', 'sitting', 'schedule', \"o'er\", 'touches', 'nearer', 'served', 'delay', 'advances', 'slay', 'rears', 'ready', 'puissant', 'throws', 'kneels', 'couchings', 'courtesies', 'decree', 'law', 'fond', 'rebel', \"thaw'd\", 'melteth', 'sweet', \"court'sies\", 'spaniel-fawning', 'banished', 'cur', 'repealing', 'immediate', 'repeal', 'low', 'move', 'prayers', 'painted', \"furnish'd\", 'apprehensive', 'unassailable', 'olympus', 'stab', 'dies', 'affrighted', 'paid', 'pulpit', 'mutiny', 'harm', 'person', 'abide', 'deed', 'doers', 'amazed', 'wives', 'pleasures', 'drawing', 'cuts', 'years', 'benefit', 'abridged', 'stoop', 'elbows', 'swords', 'weapons', 'lofty', 'unknown', 'basis', 'knot', 'country', 'boldest', 'master', 'loving', 'loved', 'safely', 'living', 'thorough', 'untrod', 'faith', 'depart', \"untouch'd\", 'falls', 'triumphs', 'measure', \"death's\", 'purpled', 'fulfill', 'thousand', 'though', 'bleeding', 'business', 'pity', 'drives', 'points', 'malice', 'disposing', 'appeased', 'multitude', 'ground', 'conceit', 'flatterer', 'grieve', 'dearer', 'making', 'shaking', 'foes', 'presence', 'corse', 'hart', \"sign'd\", 'compact', \"prick'd\", 'looking', 'savage', 'spectacle', 'regard', 'moreover', 'produce', 'funeral', 'protest', 'lawful', 'speech', \"do't\", 'ended', 'meek', 'noblest', 'lived', 'tide', 'shed', 'costly', 'ruby', \"quarter'd\", 'hot', \"monarch's\", 'dogs', 'smell', 'carrion', 'serve', 'letters', 'apart', 'catching', 'beads', 'water', 'shalt', 'borne', 'try', 'discourse', 'numbers', 'citizen', 'compare', 'ascended', 'censure', 'senses', 'assembly', 'demand', 'rose', 'slaves', 'slew', 'enrolled', 'glory', 'extenuated', 'enforced', 'fourth', 'finds', 'twere', 'rid', 'praise', 'evil', 'bones', 'grievous', 'grievously', 'faithful', 'coffers', 'fill', 'wept', 'presented', 'kingly', 'refuse', 'disprove', 'withholds', 'mourn', 'methinks', 'sayings', 'rightly', 'nobler', 'begins', 'parchment', 'seal', 'commons', 'testament', 'sacred', 'hair', 'mention', 'wills', 'bequeathing', 'legacy', 'wood', 'hearing', 'inflame', 'heirs', 'murtherers', 'descend', 'hearse', 'nervii', 'ran', 'rent', 'well-beloved', \"follow'd\", 'unkindly', \"knock'd\", 'dearly', \"vanquish'd\", 'burst', 'muffling', 'feel', 'dint', 'wounded', \"marr'd\", 'piteous', 'forgot', 'drachmas', 'walks', 'new-planted', 'orchards', 'recreate', 'benches', 'thither', 'madmen', 'gates', 'unluckily', 'charge', 'wander', 'something', 'married', 'bachelor', 'briefly', 'wisely', \"you'll\", 'proceed', 'answered', 'dwelling', 'verses', \"casca's\", 'seated', 'damn', 'sent', 'errands', 'three-fold', 'share', 'proscription', 'divers', 'loads', 'ass', 'gold', 'treasure', 'graze', 'tried', 'soldier', 'stop', \"train'd\", 'barren-spirited', 'levying', 'alliance', 'disclosed', 'surest', 'millions', 'salutation', 'ill', 'officers', 'doubted', 'instances', 'friendly', 'sicken', 'useth', 'tricks', 'simple', 'hollow', 'gallant', 'crests', 'deceitful', 'jades', 'trial', 'gently', 'enlarge', 'guard', 'praying', 'slighted', 'nice', 'mart', 'offices', 'undeservers', 'corruption', 'villain', 'foremost', 'contaminate', 'space', 'large', 'bait', 'hedge', 'farther', 'possible', 'choler', 'frighted', 'stares', 'bouge', 'crouch', 'testy', 'vaunting', 'tempted', 'sums', 'money', 'peasants', 'indirection', 'pay', 'legions', 'grows', 'covetous', 'lock', 'counters', 'fool', 'infirmities', \"flatterer's\", 'aweary', \"learn'd\", 'naked', \"pluto's\", 'hate', 'worst', 'lovedst', 'sheathe', 'scope', 'dishonor', 'lamb', 'anger', 'vexeth', 'chides', 'grudge', 'rhyme', 'jigging', 'companion', 'lodge', 'companies', 'bowl', 'philosophy', 'accidental', 'scaped', 'killing', 'touching', 'loss', 'impatient', 'tidings', 'distract', 'attendants', 'absent', \"swallow'd\", 'pledge', 'cup', 'necessities', 'tenure', 'meditating', 'losses', 'marching', 'nimbleness', 'twixt', 'forced', 'fuller', 'encouraged', 'ripe', 'increaseth', 'decline', 'voyage', 'shallows', 'miseries', 'current', 'ventures', 'obey', 'necessity', 'niggard', 'gown', 'repose', 'everything', \"speak'st\", 'book', \"an't\", 'duty', 'past', 'tune', 'layest', 'mace', 'wake', 'leaf', 'burns', 'shapes', 'apparition', 'vanishest', 'proves', 'battles', 'warn', 'tut', 'bosoms', 'fasten', 'field', 'exigent', 'parley', 'until', 'blows', 'strokes', 'witness', 'hole', 'crying', 'bees', 'honeyless', 'soundless', \"stol'n\", 'threat', 'apes', \"bow'd\", 'damned', 'neck', 'arguing', 'redder', 'thirty', 'added', 'couldst', 'worthless', 'masker', 'hurl', 'stomachs', 'billow', 'storm', \"compell'd\", 'liberties', 'partly', 'presage', 'ensign', 'eagles', 'gorging', 'feeding', 'consorted', 'steads', 'prey', 'shadows', 'fatal', 'constantly', 'incertain', 'befall', 'determined', 'govern', 'below', 'parting', \"day's\", 'alarum', 'ride', 'demeanor', 'push', 'overthrow', 'tents', 'lovest', 'assured', 'compass', 'parthia', 'whatsoever', 'attempt', 'freeman', 'search', \"cover'd\", 'guide', 'overthrown', 'rays', 'mistrust', 'hateful', \"melancholy's\", 'child', \"kill'st\", \"engender'd\", 'darts', 'misconstrued', 'apace', 'regarded', \"roman's\", 'kills', 'upward', 'slain', 'moe', 'thasos', 'funerals', 'discomfort', 'labio', 'flavio', 'fighting', 'bastard', \"country's\", 'diest', 'bravely', 'offers', 'assure', 'prize', 'statilius', 'slaying', 'whispers', 'meditates', \"appear'd\", 'fields', 'beat', 'pit', 'sword-hilts', 'losing', \"life's\", \"labor'd\", 'smatch', 'retreat', 'proved', 'saying', 'latest', \"mix'd\", 'honorably', 'the', 'by', 'william', 'personae', 'and', 'general', 'octavius', 'death', 'later', 'augustus', 'first', 'emperor', 'rome', 'antony', 'friend', 'a', 'member', 'triumvirate', 'brutus', 'conspiracy', 'cassius', 'casca', 'conspirator', 'cimber', 'wife', 'cicero', 'flavius', 'tribune', 'marullus', 'cato', 'supportor', 'lucilius', 'titinius', 'volumnius', 'teacher', 'servant', 'to', 'claudio', 'soothsayer', 'senators', 'commoners', 'servants', 'electronic', 'complete', 'works', '1990-1993', 'provided', 'etext', 'with', 'permission', 'readable', 'copies', 'be', 'distributed', 'so', 'such', 'for', 'your', 'or', 'personal', '2', 'not', 'commercially', 'includes', 'any', 'that', 'download', 'time', 'membership', 'camp', 'sardis', 'plains', 'street', 'hence', 'you', 'idle', 'get', 'what', 'being', 'day', 'without', 'art', 'sir', 'leather', 'apron', 'apparel', 'on', 'second', 'respect', 'cobbler', 'answer', 'me', 'directly', 'hope', 'conscience', 'which', 'bad', 'soles', 'naughty', 'nay', 'beseech', 'if', 'can', 'saucy', 'fellow', 'all', 'meddle', 'surgeon', 'old', 'they', 'great', 'recover', 'men', \"neat's\", 'gone', 'my', 'handiwork', 'today', 'lead', 'about', 'their', 'see', 'rejoice', 'triumph', 'conquest', 'follow', 'him', 'bonds', 'chariot', 'wheels', 'o', 'hard', 'hearts', 'cruel', 'knew', 'many', 'oft', 'up', 'battlements', 'windows', 'yea', 'chimney', 'tops', 'infants', 'arms', 'patient', 'saw', 'made', 'tiber', 'trembled', 'banks', 'replication', 'concave', 'cull', 'strew', 'comes', 'over', 'blood', 'gods', 'light', 'assemble', 'sort', 'channel', 'lowest', 'stream', 'kiss', 'most', 'exalted', 'whether', 'basest', 'moved', 'tongue-tied', 'capitol', 'will', 'disrobe', 'images', 'find', 'it', 'trophies', 'drive', 'vulgar', 'from', 'too', 'perceive', 'growing', 'feathers', 'wing', 'ordinary', 'who', 'else', 'soar', 'view', 'keep', 'servile', 'fearfulness', 'ii', 'place', 'course', 'crowd', 'among', 'ho', 'here', 'lord', \"antonio's\", 'antonio', 'forget', 'our', 'elders', 'holy', 'off', 'sterile', 'curse', 'shall', 'remember', \"perform'd\", 'ha', 'every', 'noise', 'still', 'press', 'tongue', 'shriller', \"turn'd\", 'march', 'man', 'face', 'come', 'order', 'some', 'part', 'desires', 'observe', 'gentleness', 'show', 'wont', 'stubborn', 'hand', \"veil'd\", 'countenance', 'merely', 'vexed', 'difference', 'therefore', 'friends', 'grieved', 'number', 'one', 'construe', 'himself', 'war', 'shows', 'then', 'much', 'mistook', 'breast', 'mine', 'hath', 'buried', 'thoughts', 'worthy', 'eye', 'sees', 'itself', 'reflection', 'lamented', 'worthiness', 'might', 'except', 'immortal', 'speaking', 'groaning', \"age's\", 'yoke', \"wish'd\", 'had', 'seek', 'since', 'yourself', 'well', 'were', 'laugher', 'did', 'protester', 'hug', 'scandal', 'profess', 'banqueting', 'hold', 'dangerous', 'people', 'choose', 'ay', 'aught', 'indifferently', 'outward', 'favor', 'life', 'lief', 'awe', 'thing', 'born', \"winter's\", 'troubled', 'chafing', 'darest', 'leap', 'angry', 'flood', 'yonder', 'word', 'accoutred', 'torrent', 'lusty', 'sinews', 'throwing', 'controversy', 'ere', 'could', 'cried', 'sink', 'aeneas', 'ancestor', 'anchises', 'tired', 'god', 'wretched', 'body', 'nod', 'spain', 'fit', 'how', 'coward', 'same', 'luster', 'romans', 'write', 'speeches', 'drink', 'sick', 'girl', 'feeble', 'should', 'alone', 'another', 'honors', 'narrow', 'petty', 'under', 'legs', 'masters', 'fates', 'dear', 'stars', 'underlings', 'sounded', 'together', 'fair', 'weigh', 'soon', 'meat', 'grown', 'age', 'shamed', 'breed', 'bloods', 'went', \"talk'd\", 'wide', 'enough', 'fathers', \"brook'd\", 'eternal', 'devil', 'nothing', 'aim', 'times', 'present', 'patience', 'lay', 'glad', 'weak', 'words', 'struck', 'train', 'done', 'returning', 'sleeve', 'sour', 'fashion', 'note', 'glow', \"calpurnia's\", 'cheek', 'fiery', \"cross'd\", 'conference', 'sleek-headed', 'sleep', 'has', 'lean', \"he's\", 'given', 'liable', 'avoid', 'through', 'seldom', \"mock'd\", 'smile', 'ease', 'whiles', 'greater', 'thee', 'deaf', \"think'st\", 'crown', 'back', 'fell', 'ashouting', 'marry', 'wast', 'honest', 'manner', \"hang'd\", 'mere', 'foolery', 'offer', 'thinking', 'loath', 'clapped', 'chopped', 'hands', 'sweaty', 'breath', 'because', 'almost', 'opening', 'receiving', 'air', 'soft', 'wound', 'marketplace', 'foamed', 'tagrag', 'clap', 'hiss', 'according', 'displeased', 'theatre', 'unto', 'herd', 'ope', 'been', 'taken', 'hell', 'amiss', 'desired', 'wenches', 'soul', 'heed', 'stabbed', 'mothers', 'less', 'those', 'smiled', 'heads', 'pulling', 'scarfs', 'fare', 'sup', 'tonight', 'forth', 'alive', 'dinner', 'expect', 'exit', 'mettle', 'bold', 'puts', 'sauce', 'wit', 'gives', 'stomach', 'better', 'appetite', 'please', 'wait', 'wrought', 'disposed', 'firm', 'seduced', 'humor', 'tending', 'wherein', 'obscurely', 'seat', 'thunder', 'lightning', 'opposite', 'sides', 'sword', 'drawn', 'brought', 'breathless', 'sway', 'shakes', 'tempests', 'scolding', 'winds', 'ambitious', 'swell', 'foam', 'clouds', 'tempest', 'either', 'civil', 'strife', 'heaven', 'slave', 'sight', 'held', 'left', 'burn', \"join'd\", \"remain'd\", \"unscorch'd\", 'besides', 'met', \"glaz'd\", 'surly', 'heap', 'hundred', 'ghastly', 'yesterday', 'sit', 'noonday', 'howling', 'prodigies', 'reasons', 'natural', 'portentous', 'clean', 'purpose', 'disturbed', \"who's\", 'voice', 'menace', 'faults', 'submitting', 'thunderstone', 'blue', \"seem'd\", 'tremble', 'astonish', 'want', 'gaze', 'impatience', 'fools', 'children', 'monstrous', 'instruments', 'warning', 'thunders', 'opens', 'roars', 'thyself', 'prodigious', 'fearful', 'thews', 'limbs', 'woe', 'while', 'dead', \"govern'd\", 'sufferance', 'land', 'dagger', 'deliver', 'strong', 'tyrants', 'iron', 'lacks', 'pleasure', 'cancel', 'tyrant', 'wolf', 'begin', 'trash', 'offal', 'serves', 'base', 'illuminate', 'vile', 'grief', 'indifferent', 'tell-tale', 'redress', 'griefs', 'foot', 'bargain', 'honorable-dangerous', 'consequence', 'stay', 'porch', 'walking', 'element', 'gait', 'attempts', \"stay'd\", \"on't\", 'party', 'content', 'paper', \"praetor's\", 'window', 'hie', 'bestow', 'parts', 'ours', 'next', 'yields', 'alchemy', 'need', 'soundly', \"call'd\", 'taper', 'study', 'lighted', 'nature', 'craves', 'wary', 'sting', 'abuse', 'greatness', 'remorse', 'truth', 'affections', 'reason', 'lowliness', \"ambition's\", 'ladder', 'whereto', 'climber-upward', 'attains', 'augmented', \"serpent's\", 'egg', 'grow', 'mischievous', 'burneth', 'closet', 'searching', 'flint', 'found', \"seal'd\", 'bed', 'exhalations', \"sleep'st\", 'etc', 'strike', 'often', 'piece', \"man's\", 'promise', 'receivest', 'petition', 'knocking', 'within', 'somebody', 'knocks', 'whet', 'between', 'phantasma', 'hideous', 'council', 'little', 'kingdom', 'suffers', 'door', 'desire', 'half', 'faces', 'cloaks', 'faction', 'wilt', 'cavern', 'visage', 'affability', 'erebus', 'hour', 'along', 'wish', 'welcome', 'watchful', 'interpose', 'whisper', 'lies', 'break', 'yongrey', 'lines', 'fret', 'arises', 'south', 'weighing', 'season', 'north', 'stands', 'swear', 'resolution', 'motives', 'high-sighted', 'range', 'each', 'drop', 'lottery', 'kindle', 'cowards', 'steel', 'valor', 'spur', 'prick', 'bond', 'priests', 'doubt', 'stain', 'insuppressive', 'guilty', 'smallest', 'particle', \"pass'd\", 'hairs', 'buy', 'wildness', 'whit', 'outlive', 'contriver', 'seem', 'hack', 'wrath', 'afterwards', 'limb', 'sacrificers', 'butchers', 'dismember', 'bleed', 'dish', 'chide', 'necessary', 'envious', 'arm', 'company', 'clock', 'main', 'fantasy', 'dreams', 'resolved', 'unicorns', \"betray'd\", 'trees', 'glasses', 'holes', 'toils', 'hates', 'does', 'flattered', 'bent', 'fetch', 'eighth', 'fail', 'morning', \"we'll\", 'disperse', 'fresh', 'actors', 'constancy', 'fast', 'enjoy', 'honey-heavy', 'busy', 'care', 'draws', 'brains', 'rise', 'health', 'condition', 'ungently', 'stole', 'musing', 'across', 'ungentle', \"scratch'd\", 'impatiently', \"stamp'd\", 'insisted', 'hoping', 'eat', 'talk', \"prevail'd\", 'wise', 'embrace', 'physical', 'suck', 'humors', 'dank', 'contagion', 'unpurged', 'add', 'charm', 'commended', 'vows', 'six', 'darkness', 'appertain', 'limitation', 'comfort', 'woman', 'reputed', \"cato's\", 'sex', 'giving', 'engagements', 'charactery', 'spake', 'chose', 'exploit', 'healthful', 'bow', 'discard', 'exorcist', 'conjured', \"what's\", 'whole', 'also', 'going', 'whom', 'new-fired', 'sufficeth', 'leads', \"look'd\", 'vanished', 'recounts', 'lioness', \"yawn'd\", 'fierce', 'warriors', 'ranks', 'squadrons', 'battle', 'hurtled', 'neigh', 'dying', 'squeal', 'beggars', 'deaths', 'taste', 'seems', 'entrails', 'beast', 'shame', 'cowardice', 'knows', 'wisdom', 'confidence', 'senate', \"here's\", 'hail', 'happy', 'greeting', 'false', 'falser', 'afeard', 'greybeards', 'satisfy', 'stays', 'she', 'pure', 'bathe', 'apply', 'imminent', 'spouting', 'bathed', 'signifies', 'reviving', 'relics', 'signified', 'concluded', 'apt', \"render'd\", 'someone', 'afraid', 'proceeding', 'bids', 'foolish', 'fears', 'ashamed', 'morrow,caesar', \"stirr'd\", 'early', 'strucken', 'thank', 'courtesy', 'revels', 'notwithstanding', 'waited', \"hour's\", 'yearns', 'reading', 'trust', 'lover', 'laments', 'shouldst', 'side', 'mountain', 'tween', \"woman's\", 'counsel', 'return', 'listen', 'bustling', 'fray', 'wind', 'sooth', \"know'st\", 'intended', 'heels', 'void', 'faint', 'severally', 'leisure', 'humble', \"mine's\", 'ourself', 'instantly', 'mad', 'sirrah', 'urge', 'petitions', 'thrive', 'discovered', 'makes', 'sudden', 'constant', 'presently', 'prefer', \"address'd\", 'lowly', 'preordinance', 'low-crooked', 'wrong', 'satisfied', 'sweetly', \"banish'd\", 'flattery', 'desiring', 'freedom', 'beg', 'enfranchisement', 'northern', 'star', \"true-fix'd\", 'resting', 'firmament', 'skies', \"unnumber'd\", 'shine', 'flesh', 'rank', 'unshaked', 'remain', 'lift', 'bootless', 'et', 'tu', 'brute', 'liberty', 'proclaim', 'pulpits', 'debt', \"where's\", 'confounded', 'standing', 'cheer', 'rushing', 'mischief', 'fled', 'doomsday', 'besmear', 'waving', 'red', 'wash', 'ages', 'acted', 'states', 'unborn', 'accents', 'sport', 'worthier', 'dust', \"antony's\", 'prostrate', 'royal', \"honor'd\", 'deserved', 'fortunes', 'affairs', 'hazards', 'misgiving', 'shrewdly', 'conquests', 'glories', 'spoils', 'shrunk', 'intend', 'instrument', 'rich', 'whilst', 'reek', 'smoke', 'choice', 'pitiful', 'leaden', 'brothers', 'receive', 'reverence', 'dignities', 'beside', 'least', 'credit', 'slippery', 'ways', 'wounds', 'weeping', 'terms', 'friendship', 'enemies', \"bay'd\", 'didst', 'hunters', 'spoil', \"crimson'd\", 'lethe', 'forest', 'deer', 'modesty', 'praising', 'depend', \"that's\", 'becomes', 'consent', 'contented', 'rites', 'advantage', 'devise', 'ruins', 'prophesy', 'dumb', 'mouths', 'utterance', 'domestic', 'fury', 'cumber', 'objects', 'familiar', 'custom', 'ranging', 'revenge', 'ate', 'confines', 'havoc', 'slip', 'foul', 'burial', 'coming', 'big', 'sorrow', 'began', 'leagues', 'post', 'mourning', 'safety', 'oration', 'issue', 'lend', 'forum', 'audience', 'rendered', 'lovers', 'silent', 'judge', 'freemen', 'joy', 'fortune', 'offended', 'rude', 'pause', 'reply', 'offenses', 'suffered', 'mourned', 'commonwealth', 'shouts', 'clamors', 'sake', \"allow'd\", 'beholding', 'blest', 'bury', 'lives', 'interred', 'captives', 'ransoms', 'sterner', 'stuff', 'brutish', 'coffin', \"mark'd\", 'dip', 'napkins', 'memory', \"o'ershot\", 'daggers', \"stabb'd\", 'villains', 'compel', 'ring', 'mantle', \"summer's\", 'evening', 'tent', 'overcame', 'cursed', 'doors', 'angel', 'unkindest', 'treason', \"flourish'd\", 'gracious', 'vesture', 'woeful', 'revenged', 'traitor', 'orator', 'plain', 'ruffle', 'seventy-five', 'arbors', 'forever', 'abroad', 'brands', 'forms', 'afoot', 'straight', 'mood', 'notice', 'whither', 'bang', 'tear', 'pieces', \"name's\", 'firebrands', 'table', \"sister's\", 'determine', 'legacies', 'slight', 'unmeritable', 'divided', 'black', 'sentence', 'slanderous', 'sweat', 'driven', 'having', 'load', 'empty', 'horse', 'appoint', 'provender', 'teach', 'corporal', 'taught', 'feeds', 'arts', 'imitations', 'staled', 'property', 'powers', 'combined', 'covert', 'perils', 'stake', 'mischiefs', 'drum', 'greets', 'undone', 'received', 'described', 'cooling', 'decay', 'army', 'meant', 'sard', 'arrived', 'sober', 'hides', 'softly', 'armies', 'wrangle', 'commanders', \"wrong'd\", \"condemn'd\", 'noted', 'pella', 'taking', 'bribes', 'sardians', 'case', 'comment', 'itching', 'sell', 'chastisement', 'justice', 'supporting', 'robbers', 'grasped', 'dog', 'bay', 'moon', 'older', 'practice', 'abler', 'rash', 'madman', 'proud', 'choleric', 'bondmen', 'venom', 'spleen', 'split', 'mirth', 'laughter', 'waspish', 'learn', 'presume', 'sorry', 'threats', 'denied', 'raise', 'coin', 'wring', 'rascal', 'thunderbolts', 'dash', \"friend's\", 'practise', 'hated', 'braved', \"check'd\", 'observed', 'notebook', \"conn'd\", 'rote', 'richer', 'yoked', 'carries', 'hasty', 'spark', \"ill-temper'd\", 'mother', 'forgetful', 'henceforth', 'overearnest', \"he'll\", 'generals', 'followed', \"i'm\", 'vilely', 'cynic', 'wars', 'immediately', 'insupportable', 'absence', 'died', 'unkindness', 'drinks', 'thirsty', \"o'erswell\", 'bending', 'expedition', 'selfsame', 'addition', 'bills', 'outlawry', 'agree', 'seventy', 'proscriptions', 'writ', 'waste', 'doing', 'lying', 'defense', 'force', 'affection', 'grudged', 'contribution', \"refresh'd\", 'new-added', 'utmost', 'brim-full', 'height', 'omitted', 'bound', 'afloat', 'deep', 'crept', 'beginning', 'division', 'everyone', 'drowsily', \"o'erwatch'd\", 'cushions', 'sirs', 'otherwise', 'bethink', 'sought', 'pocket', 'lordship', 'canst', 'strain', 'song', 'sleepy', 'murtherous', \"break'st\", 'weakness', 'makest', 'comest', 'strings', 'criedst', 'v', 'hopes', 'hills', 'upper', 'regions', 'answering', 'places', 'bravery', 'courage', 'messenger', 'signal', 'posture', 'rob', 'hybla', 'stingless', 'buzzing', \"hack'd\", \"show'd\", \"fawn'd\", 'kissing', 'feet', 'behind', 'strooke', 'avenged', 'slaughter', 'unless', \"bring'st\", 'wert', 'peevish', 'reveler', 'defiance', 'blow', 'bark', 'hazard', 'converse', 'birthday', 'epicurus', 'former', \"perch'd\", 'ravens', 'crows', 'kites', 'downward', 'canopy', 'cowardly', 'arming', 'providence', 'begun', 'everlasting', 'loud', \"octavia's\", 'alarums', 'turning', 'eagerly', 'enclosed', 'hill', 'mount', 'spurs', 'troops', 'notest', 'ascends', 'breathed', 'horsemen', 'lights', \"ta'en\", 'descends', 'prisoner', 'saving', 'bowels', 'hilts', 'stabs', \"kill'd\", 'disconsolate', 'setting', 'dews', 'error', 'conceived', 'birth', 'thrusting', 'report', 'piercing', 'envenomed', 'wreath', 'victory', 'garland', 'bidding', \"whe'er\", 'owe', 'foe', 'mayst', 'kindness', 'wheer', 'remains', 'rock', 'torchlight', 'request', 'vessel', 'runs', 'list', 'seest', 'tarry', 'office', 'tarrying', 'attain', 'history', 'hangs', \"master's\", 'conquerors', 'entertain', 'elements', 'ordered']\n"
     ]
    }
   ],
   "source": [
    "print([x[0] for x in rdd1.collect()])"
   ]
  },
  {
   "cell_type": "code",
   "execution_count": 142,
   "metadata": {
    "collapsed": true
   },
   "outputs": [],
   "source": [
    "rdd_lst = [x[0] for x in rdd1.collect()]"
   ]
  },
  {
   "cell_type": "code",
   "execution_count": 148,
   "metadata": {},
   "outputs": [],
   "source": [
    "xxx = sc.parallelize(rdd_lst)"
   ]
  },
  {
   "cell_type": "code",
   "execution_count": 149,
   "metadata": {},
   "outputs": [
    {
     "name": "stderr",
     "output_type": "stream",
     "text": [
      "Traceback (most recent call last):\n",
      "  File \"/home/azure052/spark-2.3.0-bin-hadoop2.7/python/pyspark/cloudpickle.py\", line 235, in dump\n",
      "    return Pickler.dump(self, obj)\n",
      "  File \"/home/azure052/anaconda3/lib/python3.6/pickle.py\", line 409, in dump\n",
      "    self.save(obj)\n",
      "  File \"/home/azure052/anaconda3/lib/python3.6/pickle.py\", line 476, in save\n",
      "    f(self, obj) # Call unbound method with explicit self\n",
      "  File \"/home/azure052/anaconda3/lib/python3.6/pickle.py\", line 751, in save_tuple\n",
      "    save(element)\n",
      "  File \"/home/azure052/anaconda3/lib/python3.6/pickle.py\", line 476, in save\n",
      "    f(self, obj) # Call unbound method with explicit self\n",
      "  File \"/home/azure052/spark-2.3.0-bin-hadoop2.7/python/pyspark/cloudpickle.py\", line 378, in save_function\n",
      "    self.save_function_tuple(obj)\n",
      "  File \"/home/azure052/spark-2.3.0-bin-hadoop2.7/python/pyspark/cloudpickle.py\", line 529, in save_function_tuple\n",
      "    save(closure_values)\n",
      "  File \"/home/azure052/anaconda3/lib/python3.6/pickle.py\", line 476, in save\n",
      "    f(self, obj) # Call unbound method with explicit self\n",
      "  File \"/home/azure052/anaconda3/lib/python3.6/pickle.py\", line 781, in save_list\n",
      "    self._batch_appends(obj)\n",
      "  File \"/home/azure052/anaconda3/lib/python3.6/pickle.py\", line 808, in _batch_appends\n",
      "    save(tmp[0])\n",
      "  File \"/home/azure052/anaconda3/lib/python3.6/pickle.py\", line 476, in save\n",
      "    f(self, obj) # Call unbound method with explicit self\n",
      "  File \"/home/azure052/spark-2.3.0-bin-hadoop2.7/python/pyspark/cloudpickle.py\", line 378, in save_function\n",
      "    self.save_function_tuple(obj)\n",
      "  File \"/home/azure052/spark-2.3.0-bin-hadoop2.7/python/pyspark/cloudpickle.py\", line 529, in save_function_tuple\n",
      "    save(closure_values)\n",
      "  File \"/home/azure052/anaconda3/lib/python3.6/pickle.py\", line 476, in save\n",
      "    f(self, obj) # Call unbound method with explicit self\n",
      "  File \"/home/azure052/anaconda3/lib/python3.6/pickle.py\", line 781, in save_list\n",
      "    self._batch_appends(obj)\n",
      "  File \"/home/azure052/anaconda3/lib/python3.6/pickle.py\", line 808, in _batch_appends\n",
      "    save(tmp[0])\n",
      "  File \"/home/azure052/anaconda3/lib/python3.6/pickle.py\", line 476, in save\n",
      "    f(self, obj) # Call unbound method with explicit self\n",
      "  File \"/home/azure052/spark-2.3.0-bin-hadoop2.7/python/pyspark/cloudpickle.py\", line 372, in save_function\n",
      "    self.save_function_tuple(obj)\n",
      "  File \"/home/azure052/spark-2.3.0-bin-hadoop2.7/python/pyspark/cloudpickle.py\", line 525, in save_function_tuple\n",
      "    save(f_globals)\n",
      "  File \"/home/azure052/anaconda3/lib/python3.6/pickle.py\", line 476, in save\n",
      "    f(self, obj) # Call unbound method with explicit self\n",
      "  File \"/home/azure052/anaconda3/lib/python3.6/pickle.py\", line 821, in save_dict\n",
      "    self._batch_setitems(obj.items())\n",
      "  File \"/home/azure052/anaconda3/lib/python3.6/pickle.py\", line 852, in _batch_setitems\n",
      "    save(v)\n",
      "  File \"/home/azure052/anaconda3/lib/python3.6/pickle.py\", line 496, in save\n",
      "    rv = reduce(self.proto)\n",
      "  File \"/home/azure052/spark-2.3.0-bin-hadoop2.7/python/pyspark/rdd.py\", line 220, in __getnewargs__\n",
      "    \"It appears that you are attempting to broadcast an RDD or reference an RDD from an \"\n",
      "Exception: It appears that you are attempting to broadcast an RDD or reference an RDD from an action or transformation. RDD transformations and actions can only be invoked by the driver, not inside of other transformations; for example, rdd1.map(lambda x: rdd2.values.count() * x) is invalid because the values transformation and count action cannot be performed inside of the rdd1.map transformation. For more information, see SPARK-5063.\n"
     ]
    },
    {
     "ename": "PicklingError",
     "evalue": "Could not serialize object: Exception: It appears that you are attempting to broadcast an RDD or reference an RDD from an action or transformation. RDD transformations and actions can only be invoked by the driver, not inside of other transformations; for example, rdd1.map(lambda x: rdd2.values.count() * x) is invalid because the values transformation and count action cannot be performed inside of the rdd1.map transformation. For more information, see SPARK-5063.",
     "output_type": "error",
     "traceback": [
      "\u001b[0;31m---------------------------------------------------------------------------\u001b[0m",
      "\u001b[0;31mException\u001b[0m                                 Traceback (most recent call last)",
      "\u001b[0;32m~/spark-2.3.0-bin-hadoop2.7/python/pyspark/cloudpickle.py\u001b[0m in \u001b[0;36mdump\u001b[0;34m(self, obj)\u001b[0m\n\u001b[1;32m    234\u001b[0m         \u001b[0;32mtry\u001b[0m\u001b[0;34m:\u001b[0m\u001b[0;34m\u001b[0m\u001b[0m\n\u001b[0;32m--> 235\u001b[0;31m             \u001b[0;32mreturn\u001b[0m \u001b[0mPickler\u001b[0m\u001b[0;34m.\u001b[0m\u001b[0mdump\u001b[0m\u001b[0;34m(\u001b[0m\u001b[0mself\u001b[0m\u001b[0;34m,\u001b[0m \u001b[0mobj\u001b[0m\u001b[0;34m)\u001b[0m\u001b[0;34m\u001b[0m\u001b[0m\n\u001b[0m\u001b[1;32m    236\u001b[0m         \u001b[0;32mexcept\u001b[0m \u001b[0mRuntimeError\u001b[0m \u001b[0;32mas\u001b[0m \u001b[0me\u001b[0m\u001b[0;34m:\u001b[0m\u001b[0;34m\u001b[0m\u001b[0m\n",
      "\u001b[0;32m~/anaconda3/lib/python3.6/pickle.py\u001b[0m in \u001b[0;36mdump\u001b[0;34m(self, obj)\u001b[0m\n\u001b[1;32m    408\u001b[0m             \u001b[0mself\u001b[0m\u001b[0;34m.\u001b[0m\u001b[0mframer\u001b[0m\u001b[0;34m.\u001b[0m\u001b[0mstart_framing\u001b[0m\u001b[0;34m(\u001b[0m\u001b[0;34m)\u001b[0m\u001b[0;34m\u001b[0m\u001b[0m\n\u001b[0;32m--> 409\u001b[0;31m         \u001b[0mself\u001b[0m\u001b[0;34m.\u001b[0m\u001b[0msave\u001b[0m\u001b[0;34m(\u001b[0m\u001b[0mobj\u001b[0m\u001b[0;34m)\u001b[0m\u001b[0;34m\u001b[0m\u001b[0m\n\u001b[0m\u001b[1;32m    410\u001b[0m         \u001b[0mself\u001b[0m\u001b[0;34m.\u001b[0m\u001b[0mwrite\u001b[0m\u001b[0;34m(\u001b[0m\u001b[0mSTOP\u001b[0m\u001b[0;34m)\u001b[0m\u001b[0;34m\u001b[0m\u001b[0m\n",
      "\u001b[0;32m~/anaconda3/lib/python3.6/pickle.py\u001b[0m in \u001b[0;36msave\u001b[0;34m(self, obj, save_persistent_id)\u001b[0m\n\u001b[1;32m    475\u001b[0m         \u001b[0;32mif\u001b[0m \u001b[0mf\u001b[0m \u001b[0;32mis\u001b[0m \u001b[0;32mnot\u001b[0m \u001b[0;32mNone\u001b[0m\u001b[0;34m:\u001b[0m\u001b[0;34m\u001b[0m\u001b[0m\n\u001b[0;32m--> 476\u001b[0;31m             \u001b[0mf\u001b[0m\u001b[0;34m(\u001b[0m\u001b[0mself\u001b[0m\u001b[0;34m,\u001b[0m \u001b[0mobj\u001b[0m\u001b[0;34m)\u001b[0m \u001b[0;31m# Call unbound method with explicit self\u001b[0m\u001b[0;34m\u001b[0m\u001b[0m\n\u001b[0m\u001b[1;32m    477\u001b[0m             \u001b[0;32mreturn\u001b[0m\u001b[0;34m\u001b[0m\u001b[0m\n",
      "\u001b[0;32m~/anaconda3/lib/python3.6/pickle.py\u001b[0m in \u001b[0;36msave_tuple\u001b[0;34m(self, obj)\u001b[0m\n\u001b[1;32m    750\u001b[0m         \u001b[0;32mfor\u001b[0m \u001b[0melement\u001b[0m \u001b[0;32min\u001b[0m \u001b[0mobj\u001b[0m\u001b[0;34m:\u001b[0m\u001b[0;34m\u001b[0m\u001b[0m\n\u001b[0;32m--> 751\u001b[0;31m             \u001b[0msave\u001b[0m\u001b[0;34m(\u001b[0m\u001b[0melement\u001b[0m\u001b[0;34m)\u001b[0m\u001b[0;34m\u001b[0m\u001b[0m\n\u001b[0m\u001b[1;32m    752\u001b[0m \u001b[0;34m\u001b[0m\u001b[0m\n",
      "\u001b[0;32m~/anaconda3/lib/python3.6/pickle.py\u001b[0m in \u001b[0;36msave\u001b[0;34m(self, obj, save_persistent_id)\u001b[0m\n\u001b[1;32m    475\u001b[0m         \u001b[0;32mif\u001b[0m \u001b[0mf\u001b[0m \u001b[0;32mis\u001b[0m \u001b[0;32mnot\u001b[0m \u001b[0;32mNone\u001b[0m\u001b[0;34m:\u001b[0m\u001b[0;34m\u001b[0m\u001b[0m\n\u001b[0;32m--> 476\u001b[0;31m             \u001b[0mf\u001b[0m\u001b[0;34m(\u001b[0m\u001b[0mself\u001b[0m\u001b[0;34m,\u001b[0m \u001b[0mobj\u001b[0m\u001b[0;34m)\u001b[0m \u001b[0;31m# Call unbound method with explicit self\u001b[0m\u001b[0;34m\u001b[0m\u001b[0m\n\u001b[0m\u001b[1;32m    477\u001b[0m             \u001b[0;32mreturn\u001b[0m\u001b[0;34m\u001b[0m\u001b[0m\n",
      "\u001b[0;32m~/spark-2.3.0-bin-hadoop2.7/python/pyspark/cloudpickle.py\u001b[0m in \u001b[0;36msave_function\u001b[0;34m(self, obj, name)\u001b[0m\n\u001b[1;32m    377\u001b[0m             \u001b[0;32mif\u001b[0m \u001b[0mklass\u001b[0m \u001b[0;32mis\u001b[0m \u001b[0;32mNone\u001b[0m \u001b[0;32mor\u001b[0m \u001b[0mklass\u001b[0m \u001b[0;32mis\u001b[0m \u001b[0;32mnot\u001b[0m \u001b[0mobj\u001b[0m\u001b[0;34m:\u001b[0m\u001b[0;34m\u001b[0m\u001b[0m\n\u001b[0;32m--> 378\u001b[0;31m                 \u001b[0mself\u001b[0m\u001b[0;34m.\u001b[0m\u001b[0msave_function_tuple\u001b[0m\u001b[0;34m(\u001b[0m\u001b[0mobj\u001b[0m\u001b[0;34m)\u001b[0m\u001b[0;34m\u001b[0m\u001b[0m\n\u001b[0m\u001b[1;32m    379\u001b[0m                 \u001b[0;32mreturn\u001b[0m\u001b[0;34m\u001b[0m\u001b[0m\n",
      "\u001b[0;32m~/spark-2.3.0-bin-hadoop2.7/python/pyspark/cloudpickle.py\u001b[0m in \u001b[0;36msave_function_tuple\u001b[0;34m(self, func)\u001b[0m\n\u001b[1;32m    528\u001b[0m         \u001b[0msave\u001b[0m\u001b[0;34m(\u001b[0m\u001b[0mfunc\u001b[0m\u001b[0;34m.\u001b[0m\u001b[0m__module__\u001b[0m\u001b[0;34m)\u001b[0m\u001b[0;34m\u001b[0m\u001b[0m\n\u001b[0;32m--> 529\u001b[0;31m         \u001b[0msave\u001b[0m\u001b[0;34m(\u001b[0m\u001b[0mclosure_values\u001b[0m\u001b[0;34m)\u001b[0m\u001b[0;34m\u001b[0m\u001b[0m\n\u001b[0m\u001b[1;32m    530\u001b[0m         \u001b[0mwrite\u001b[0m\u001b[0;34m(\u001b[0m\u001b[0mpickle\u001b[0m\u001b[0;34m.\u001b[0m\u001b[0mTUPLE\u001b[0m\u001b[0;34m)\u001b[0m\u001b[0;34m\u001b[0m\u001b[0m\n",
      "\u001b[0;32m~/anaconda3/lib/python3.6/pickle.py\u001b[0m in \u001b[0;36msave\u001b[0;34m(self, obj, save_persistent_id)\u001b[0m\n\u001b[1;32m    475\u001b[0m         \u001b[0;32mif\u001b[0m \u001b[0mf\u001b[0m \u001b[0;32mis\u001b[0m \u001b[0;32mnot\u001b[0m \u001b[0;32mNone\u001b[0m\u001b[0;34m:\u001b[0m\u001b[0;34m\u001b[0m\u001b[0m\n\u001b[0;32m--> 476\u001b[0;31m             \u001b[0mf\u001b[0m\u001b[0;34m(\u001b[0m\u001b[0mself\u001b[0m\u001b[0;34m,\u001b[0m \u001b[0mobj\u001b[0m\u001b[0;34m)\u001b[0m \u001b[0;31m# Call unbound method with explicit self\u001b[0m\u001b[0;34m\u001b[0m\u001b[0m\n\u001b[0m\u001b[1;32m    477\u001b[0m             \u001b[0;32mreturn\u001b[0m\u001b[0;34m\u001b[0m\u001b[0m\n",
      "\u001b[0;32m~/anaconda3/lib/python3.6/pickle.py\u001b[0m in \u001b[0;36msave_list\u001b[0;34m(self, obj)\u001b[0m\n\u001b[1;32m    780\u001b[0m         \u001b[0mself\u001b[0m\u001b[0;34m.\u001b[0m\u001b[0mmemoize\u001b[0m\u001b[0;34m(\u001b[0m\u001b[0mobj\u001b[0m\u001b[0;34m)\u001b[0m\u001b[0;34m\u001b[0m\u001b[0m\n\u001b[0;32m--> 781\u001b[0;31m         \u001b[0mself\u001b[0m\u001b[0;34m.\u001b[0m\u001b[0m_batch_appends\u001b[0m\u001b[0;34m(\u001b[0m\u001b[0mobj\u001b[0m\u001b[0;34m)\u001b[0m\u001b[0;34m\u001b[0m\u001b[0m\n\u001b[0m\u001b[1;32m    782\u001b[0m \u001b[0;34m\u001b[0m\u001b[0m\n",
      "\u001b[0;32m~/anaconda3/lib/python3.6/pickle.py\u001b[0m in \u001b[0;36m_batch_appends\u001b[0;34m(self, items)\u001b[0m\n\u001b[1;32m    807\u001b[0m             \u001b[0;32melif\u001b[0m \u001b[0mn\u001b[0m\u001b[0;34m:\u001b[0m\u001b[0;34m\u001b[0m\u001b[0m\n\u001b[0;32m--> 808\u001b[0;31m                 \u001b[0msave\u001b[0m\u001b[0;34m(\u001b[0m\u001b[0mtmp\u001b[0m\u001b[0;34m[\u001b[0m\u001b[0;36m0\u001b[0m\u001b[0;34m]\u001b[0m\u001b[0;34m)\u001b[0m\u001b[0;34m\u001b[0m\u001b[0m\n\u001b[0m\u001b[1;32m    809\u001b[0m                 \u001b[0mwrite\u001b[0m\u001b[0;34m(\u001b[0m\u001b[0mAPPEND\u001b[0m\u001b[0;34m)\u001b[0m\u001b[0;34m\u001b[0m\u001b[0m\n",
      "\u001b[0;32m~/anaconda3/lib/python3.6/pickle.py\u001b[0m in \u001b[0;36msave\u001b[0;34m(self, obj, save_persistent_id)\u001b[0m\n\u001b[1;32m    475\u001b[0m         \u001b[0;32mif\u001b[0m \u001b[0mf\u001b[0m \u001b[0;32mis\u001b[0m \u001b[0;32mnot\u001b[0m \u001b[0;32mNone\u001b[0m\u001b[0;34m:\u001b[0m\u001b[0;34m\u001b[0m\u001b[0m\n\u001b[0;32m--> 476\u001b[0;31m             \u001b[0mf\u001b[0m\u001b[0;34m(\u001b[0m\u001b[0mself\u001b[0m\u001b[0;34m,\u001b[0m \u001b[0mobj\u001b[0m\u001b[0;34m)\u001b[0m \u001b[0;31m# Call unbound method with explicit self\u001b[0m\u001b[0;34m\u001b[0m\u001b[0m\n\u001b[0m\u001b[1;32m    477\u001b[0m             \u001b[0;32mreturn\u001b[0m\u001b[0;34m\u001b[0m\u001b[0m\n",
      "\u001b[0;32m~/spark-2.3.0-bin-hadoop2.7/python/pyspark/cloudpickle.py\u001b[0m in \u001b[0;36msave_function\u001b[0;34m(self, obj, name)\u001b[0m\n\u001b[1;32m    377\u001b[0m             \u001b[0;32mif\u001b[0m \u001b[0mklass\u001b[0m \u001b[0;32mis\u001b[0m \u001b[0;32mNone\u001b[0m \u001b[0;32mor\u001b[0m \u001b[0mklass\u001b[0m \u001b[0;32mis\u001b[0m \u001b[0;32mnot\u001b[0m \u001b[0mobj\u001b[0m\u001b[0;34m:\u001b[0m\u001b[0;34m\u001b[0m\u001b[0m\n\u001b[0;32m--> 378\u001b[0;31m                 \u001b[0mself\u001b[0m\u001b[0;34m.\u001b[0m\u001b[0msave_function_tuple\u001b[0m\u001b[0;34m(\u001b[0m\u001b[0mobj\u001b[0m\u001b[0;34m)\u001b[0m\u001b[0;34m\u001b[0m\u001b[0m\n\u001b[0m\u001b[1;32m    379\u001b[0m                 \u001b[0;32mreturn\u001b[0m\u001b[0;34m\u001b[0m\u001b[0m\n",
      "\u001b[0;32m~/spark-2.3.0-bin-hadoop2.7/python/pyspark/cloudpickle.py\u001b[0m in \u001b[0;36msave_function_tuple\u001b[0;34m(self, func)\u001b[0m\n\u001b[1;32m    528\u001b[0m         \u001b[0msave\u001b[0m\u001b[0;34m(\u001b[0m\u001b[0mfunc\u001b[0m\u001b[0;34m.\u001b[0m\u001b[0m__module__\u001b[0m\u001b[0;34m)\u001b[0m\u001b[0;34m\u001b[0m\u001b[0m\n\u001b[0;32m--> 529\u001b[0;31m         \u001b[0msave\u001b[0m\u001b[0;34m(\u001b[0m\u001b[0mclosure_values\u001b[0m\u001b[0;34m)\u001b[0m\u001b[0;34m\u001b[0m\u001b[0m\n\u001b[0m\u001b[1;32m    530\u001b[0m         \u001b[0mwrite\u001b[0m\u001b[0;34m(\u001b[0m\u001b[0mpickle\u001b[0m\u001b[0;34m.\u001b[0m\u001b[0mTUPLE\u001b[0m\u001b[0;34m)\u001b[0m\u001b[0;34m\u001b[0m\u001b[0m\n",
      "\u001b[0;32m~/anaconda3/lib/python3.6/pickle.py\u001b[0m in \u001b[0;36msave\u001b[0;34m(self, obj, save_persistent_id)\u001b[0m\n\u001b[1;32m    475\u001b[0m         \u001b[0;32mif\u001b[0m \u001b[0mf\u001b[0m \u001b[0;32mis\u001b[0m \u001b[0;32mnot\u001b[0m \u001b[0;32mNone\u001b[0m\u001b[0;34m:\u001b[0m\u001b[0;34m\u001b[0m\u001b[0m\n\u001b[0;32m--> 476\u001b[0;31m             \u001b[0mf\u001b[0m\u001b[0;34m(\u001b[0m\u001b[0mself\u001b[0m\u001b[0;34m,\u001b[0m \u001b[0mobj\u001b[0m\u001b[0;34m)\u001b[0m \u001b[0;31m# Call unbound method with explicit self\u001b[0m\u001b[0;34m\u001b[0m\u001b[0m\n\u001b[0m\u001b[1;32m    477\u001b[0m             \u001b[0;32mreturn\u001b[0m\u001b[0;34m\u001b[0m\u001b[0m\n",
      "\u001b[0;32m~/anaconda3/lib/python3.6/pickle.py\u001b[0m in \u001b[0;36msave_list\u001b[0;34m(self, obj)\u001b[0m\n\u001b[1;32m    780\u001b[0m         \u001b[0mself\u001b[0m\u001b[0;34m.\u001b[0m\u001b[0mmemoize\u001b[0m\u001b[0;34m(\u001b[0m\u001b[0mobj\u001b[0m\u001b[0;34m)\u001b[0m\u001b[0;34m\u001b[0m\u001b[0m\n\u001b[0;32m--> 781\u001b[0;31m         \u001b[0mself\u001b[0m\u001b[0;34m.\u001b[0m\u001b[0m_batch_appends\u001b[0m\u001b[0;34m(\u001b[0m\u001b[0mobj\u001b[0m\u001b[0;34m)\u001b[0m\u001b[0;34m\u001b[0m\u001b[0m\n\u001b[0m\u001b[1;32m    782\u001b[0m \u001b[0;34m\u001b[0m\u001b[0m\n",
      "\u001b[0;32m~/anaconda3/lib/python3.6/pickle.py\u001b[0m in \u001b[0;36m_batch_appends\u001b[0;34m(self, items)\u001b[0m\n\u001b[1;32m    807\u001b[0m             \u001b[0;32melif\u001b[0m \u001b[0mn\u001b[0m\u001b[0;34m:\u001b[0m\u001b[0;34m\u001b[0m\u001b[0m\n\u001b[0;32m--> 808\u001b[0;31m                 \u001b[0msave\u001b[0m\u001b[0;34m(\u001b[0m\u001b[0mtmp\u001b[0m\u001b[0;34m[\u001b[0m\u001b[0;36m0\u001b[0m\u001b[0;34m]\u001b[0m\u001b[0;34m)\u001b[0m\u001b[0;34m\u001b[0m\u001b[0m\n\u001b[0m\u001b[1;32m    809\u001b[0m                 \u001b[0mwrite\u001b[0m\u001b[0;34m(\u001b[0m\u001b[0mAPPEND\u001b[0m\u001b[0;34m)\u001b[0m\u001b[0;34m\u001b[0m\u001b[0m\n",
      "\u001b[0;32m~/anaconda3/lib/python3.6/pickle.py\u001b[0m in \u001b[0;36msave\u001b[0;34m(self, obj, save_persistent_id)\u001b[0m\n\u001b[1;32m    475\u001b[0m         \u001b[0;32mif\u001b[0m \u001b[0mf\u001b[0m \u001b[0;32mis\u001b[0m \u001b[0;32mnot\u001b[0m \u001b[0;32mNone\u001b[0m\u001b[0;34m:\u001b[0m\u001b[0;34m\u001b[0m\u001b[0m\n\u001b[0;32m--> 476\u001b[0;31m             \u001b[0mf\u001b[0m\u001b[0;34m(\u001b[0m\u001b[0mself\u001b[0m\u001b[0;34m,\u001b[0m \u001b[0mobj\u001b[0m\u001b[0;34m)\u001b[0m \u001b[0;31m# Call unbound method with explicit self\u001b[0m\u001b[0;34m\u001b[0m\u001b[0m\n\u001b[0m\u001b[1;32m    477\u001b[0m             \u001b[0;32mreturn\u001b[0m\u001b[0;34m\u001b[0m\u001b[0m\n",
      "\u001b[0;32m~/spark-2.3.0-bin-hadoop2.7/python/pyspark/cloudpickle.py\u001b[0m in \u001b[0;36msave_function\u001b[0;34m(self, obj, name)\u001b[0m\n\u001b[1;32m    371\u001b[0m                 or themodule is None):\n\u001b[0;32m--> 372\u001b[0;31m             \u001b[0mself\u001b[0m\u001b[0;34m.\u001b[0m\u001b[0msave_function_tuple\u001b[0m\u001b[0;34m(\u001b[0m\u001b[0mobj\u001b[0m\u001b[0;34m)\u001b[0m\u001b[0;34m\u001b[0m\u001b[0m\n\u001b[0m\u001b[1;32m    373\u001b[0m             \u001b[0;32mreturn\u001b[0m\u001b[0;34m\u001b[0m\u001b[0m\n",
      "\u001b[0;32m~/spark-2.3.0-bin-hadoop2.7/python/pyspark/cloudpickle.py\u001b[0m in \u001b[0;36msave_function_tuple\u001b[0;34m(self, func)\u001b[0m\n\u001b[1;32m    524\u001b[0m         \u001b[0;31m# save the rest of the func data needed by _fill_function\u001b[0m\u001b[0;34m\u001b[0m\u001b[0;34m\u001b[0m\u001b[0m\n\u001b[0;32m--> 525\u001b[0;31m         \u001b[0msave\u001b[0m\u001b[0;34m(\u001b[0m\u001b[0mf_globals\u001b[0m\u001b[0;34m)\u001b[0m\u001b[0;34m\u001b[0m\u001b[0m\n\u001b[0m\u001b[1;32m    526\u001b[0m         \u001b[0msave\u001b[0m\u001b[0;34m(\u001b[0m\u001b[0mdefaults\u001b[0m\u001b[0;34m)\u001b[0m\u001b[0;34m\u001b[0m\u001b[0m\n",
      "\u001b[0;32m~/anaconda3/lib/python3.6/pickle.py\u001b[0m in \u001b[0;36msave\u001b[0;34m(self, obj, save_persistent_id)\u001b[0m\n\u001b[1;32m    475\u001b[0m         \u001b[0;32mif\u001b[0m \u001b[0mf\u001b[0m \u001b[0;32mis\u001b[0m \u001b[0;32mnot\u001b[0m \u001b[0;32mNone\u001b[0m\u001b[0;34m:\u001b[0m\u001b[0;34m\u001b[0m\u001b[0m\n\u001b[0;32m--> 476\u001b[0;31m             \u001b[0mf\u001b[0m\u001b[0;34m(\u001b[0m\u001b[0mself\u001b[0m\u001b[0;34m,\u001b[0m \u001b[0mobj\u001b[0m\u001b[0;34m)\u001b[0m \u001b[0;31m# Call unbound method with explicit self\u001b[0m\u001b[0;34m\u001b[0m\u001b[0m\n\u001b[0m\u001b[1;32m    477\u001b[0m             \u001b[0;32mreturn\u001b[0m\u001b[0;34m\u001b[0m\u001b[0m\n",
      "\u001b[0;32m~/anaconda3/lib/python3.6/pickle.py\u001b[0m in \u001b[0;36msave_dict\u001b[0;34m(self, obj)\u001b[0m\n\u001b[1;32m    820\u001b[0m         \u001b[0mself\u001b[0m\u001b[0;34m.\u001b[0m\u001b[0mmemoize\u001b[0m\u001b[0;34m(\u001b[0m\u001b[0mobj\u001b[0m\u001b[0;34m)\u001b[0m\u001b[0;34m\u001b[0m\u001b[0m\n\u001b[0;32m--> 821\u001b[0;31m         \u001b[0mself\u001b[0m\u001b[0;34m.\u001b[0m\u001b[0m_batch_setitems\u001b[0m\u001b[0;34m(\u001b[0m\u001b[0mobj\u001b[0m\u001b[0;34m.\u001b[0m\u001b[0mitems\u001b[0m\u001b[0;34m(\u001b[0m\u001b[0;34m)\u001b[0m\u001b[0;34m)\u001b[0m\u001b[0;34m\u001b[0m\u001b[0m\n\u001b[0m\u001b[1;32m    822\u001b[0m \u001b[0;34m\u001b[0m\u001b[0m\n",
      "\u001b[0;32m~/anaconda3/lib/python3.6/pickle.py\u001b[0m in \u001b[0;36m_batch_setitems\u001b[0;34m(self, items)\u001b[0m\n\u001b[1;32m    851\u001b[0m                 \u001b[0msave\u001b[0m\u001b[0;34m(\u001b[0m\u001b[0mk\u001b[0m\u001b[0;34m)\u001b[0m\u001b[0;34m\u001b[0m\u001b[0m\n\u001b[0;32m--> 852\u001b[0;31m                 \u001b[0msave\u001b[0m\u001b[0;34m(\u001b[0m\u001b[0mv\u001b[0m\u001b[0;34m)\u001b[0m\u001b[0;34m\u001b[0m\u001b[0m\n\u001b[0m\u001b[1;32m    853\u001b[0m                 \u001b[0mwrite\u001b[0m\u001b[0;34m(\u001b[0m\u001b[0mSETITEM\u001b[0m\u001b[0;34m)\u001b[0m\u001b[0;34m\u001b[0m\u001b[0m\n",
      "\u001b[0;32m~/anaconda3/lib/python3.6/pickle.py\u001b[0m in \u001b[0;36msave\u001b[0;34m(self, obj, save_persistent_id)\u001b[0m\n\u001b[1;32m    495\u001b[0m             \u001b[0;32mif\u001b[0m \u001b[0mreduce\u001b[0m \u001b[0;32mis\u001b[0m \u001b[0;32mnot\u001b[0m \u001b[0;32mNone\u001b[0m\u001b[0;34m:\u001b[0m\u001b[0;34m\u001b[0m\u001b[0m\n\u001b[0;32m--> 496\u001b[0;31m                 \u001b[0mrv\u001b[0m \u001b[0;34m=\u001b[0m \u001b[0mreduce\u001b[0m\u001b[0;34m(\u001b[0m\u001b[0mself\u001b[0m\u001b[0;34m.\u001b[0m\u001b[0mproto\u001b[0m\u001b[0;34m)\u001b[0m\u001b[0;34m\u001b[0m\u001b[0m\n\u001b[0m\u001b[1;32m    497\u001b[0m             \u001b[0;32melse\u001b[0m\u001b[0;34m:\u001b[0m\u001b[0;34m\u001b[0m\u001b[0m\n",
      "\u001b[0;32m~/spark-2.3.0-bin-hadoop2.7/python/pyspark/rdd.py\u001b[0m in \u001b[0;36m__getnewargs__\u001b[0;34m(self)\u001b[0m\n\u001b[1;32m    219\u001b[0m         raise Exception(\n\u001b[0;32m--> 220\u001b[0;31m             \u001b[0;34m\"It appears that you are attempting to broadcast an RDD or reference an RDD from an \"\u001b[0m\u001b[0;34m\u001b[0m\u001b[0m\n\u001b[0m\u001b[1;32m    221\u001b[0m             \u001b[0;34m\"action or transformation. RDD transformations and actions can only be invoked by the \"\u001b[0m\u001b[0;34m\u001b[0m\u001b[0m\n",
      "\u001b[0;31mException\u001b[0m: It appears that you are attempting to broadcast an RDD or reference an RDD from an action or transformation. RDD transformations and actions can only be invoked by the driver, not inside of other transformations; for example, rdd1.map(lambda x: rdd2.values.count() * x) is invalid because the values transformation and count action cannot be performed inside of the rdd1.map transformation. For more information, see SPARK-5063.",
      "\nDuring handling of the above exception, another exception occurred:\n",
      "\u001b[0;31mPicklingError\u001b[0m                             Traceback (most recent call last)",
      "\u001b[0;32m~/anaconda3/lib/python3.6/site-packages/IPython/core/formatters.py\u001b[0m in \u001b[0;36m__call__\u001b[0;34m(self, obj)\u001b[0m\n\u001b[1;32m    691\u001b[0m                 \u001b[0mtype_pprinters\u001b[0m\u001b[0;34m=\u001b[0m\u001b[0mself\u001b[0m\u001b[0;34m.\u001b[0m\u001b[0mtype_printers\u001b[0m\u001b[0;34m,\u001b[0m\u001b[0;34m\u001b[0m\u001b[0m\n\u001b[1;32m    692\u001b[0m                 deferred_pprinters=self.deferred_printers)\n\u001b[0;32m--> 693\u001b[0;31m             \u001b[0mprinter\u001b[0m\u001b[0;34m.\u001b[0m\u001b[0mpretty\u001b[0m\u001b[0;34m(\u001b[0m\u001b[0mobj\u001b[0m\u001b[0;34m)\u001b[0m\u001b[0;34m\u001b[0m\u001b[0m\n\u001b[0m\u001b[1;32m    694\u001b[0m             \u001b[0mprinter\u001b[0m\u001b[0;34m.\u001b[0m\u001b[0mflush\u001b[0m\u001b[0;34m(\u001b[0m\u001b[0;34m)\u001b[0m\u001b[0;34m\u001b[0m\u001b[0m\n\u001b[1;32m    695\u001b[0m             \u001b[0;32mreturn\u001b[0m \u001b[0mstream\u001b[0m\u001b[0;34m.\u001b[0m\u001b[0mgetvalue\u001b[0m\u001b[0;34m(\u001b[0m\u001b[0;34m)\u001b[0m\u001b[0;34m\u001b[0m\u001b[0m\n",
      "\u001b[0;32m~/anaconda3/lib/python3.6/site-packages/IPython/lib/pretty.py\u001b[0m in \u001b[0;36mpretty\u001b[0;34m(self, obj)\u001b[0m\n\u001b[1;32m    378\u001b[0m                             \u001b[0;32mif\u001b[0m \u001b[0mcallable\u001b[0m\u001b[0;34m(\u001b[0m\u001b[0mmeth\u001b[0m\u001b[0;34m)\u001b[0m\u001b[0;34m:\u001b[0m\u001b[0;34m\u001b[0m\u001b[0m\n\u001b[1;32m    379\u001b[0m                                 \u001b[0;32mreturn\u001b[0m \u001b[0mmeth\u001b[0m\u001b[0;34m(\u001b[0m\u001b[0mobj\u001b[0m\u001b[0;34m,\u001b[0m \u001b[0mself\u001b[0m\u001b[0;34m,\u001b[0m \u001b[0mcycle\u001b[0m\u001b[0;34m)\u001b[0m\u001b[0;34m\u001b[0m\u001b[0m\n\u001b[0;32m--> 380\u001b[0;31m             \u001b[0;32mreturn\u001b[0m \u001b[0m_default_pprint\u001b[0m\u001b[0;34m(\u001b[0m\u001b[0mobj\u001b[0m\u001b[0;34m,\u001b[0m \u001b[0mself\u001b[0m\u001b[0;34m,\u001b[0m \u001b[0mcycle\u001b[0m\u001b[0;34m)\u001b[0m\u001b[0;34m\u001b[0m\u001b[0m\n\u001b[0m\u001b[1;32m    381\u001b[0m         \u001b[0;32mfinally\u001b[0m\u001b[0;34m:\u001b[0m\u001b[0;34m\u001b[0m\u001b[0m\n\u001b[1;32m    382\u001b[0m             \u001b[0mself\u001b[0m\u001b[0;34m.\u001b[0m\u001b[0mend_group\u001b[0m\u001b[0;34m(\u001b[0m\u001b[0;34m)\u001b[0m\u001b[0;34m\u001b[0m\u001b[0m\n",
      "\u001b[0;32m~/anaconda3/lib/python3.6/site-packages/IPython/lib/pretty.py\u001b[0m in \u001b[0;36m_default_pprint\u001b[0;34m(obj, p, cycle)\u001b[0m\n\u001b[1;32m    493\u001b[0m     \u001b[0;32mif\u001b[0m \u001b[0m_safe_getattr\u001b[0m\u001b[0;34m(\u001b[0m\u001b[0mklass\u001b[0m\u001b[0;34m,\u001b[0m \u001b[0;34m'__repr__'\u001b[0m\u001b[0;34m,\u001b[0m \u001b[0;32mNone\u001b[0m\u001b[0;34m)\u001b[0m \u001b[0;32mis\u001b[0m \u001b[0;32mnot\u001b[0m \u001b[0mobject\u001b[0m\u001b[0;34m.\u001b[0m\u001b[0m__repr__\u001b[0m\u001b[0;34m:\u001b[0m\u001b[0;34m\u001b[0m\u001b[0m\n\u001b[1;32m    494\u001b[0m         \u001b[0;31m# A user-provided repr. Find newlines and replace them with p.break_()\u001b[0m\u001b[0;34m\u001b[0m\u001b[0;34m\u001b[0m\u001b[0m\n\u001b[0;32m--> 495\u001b[0;31m         \u001b[0m_repr_pprint\u001b[0m\u001b[0;34m(\u001b[0m\u001b[0mobj\u001b[0m\u001b[0;34m,\u001b[0m \u001b[0mp\u001b[0m\u001b[0;34m,\u001b[0m \u001b[0mcycle\u001b[0m\u001b[0;34m)\u001b[0m\u001b[0;34m\u001b[0m\u001b[0m\n\u001b[0m\u001b[1;32m    496\u001b[0m         \u001b[0;32mreturn\u001b[0m\u001b[0;34m\u001b[0m\u001b[0m\n\u001b[1;32m    497\u001b[0m     \u001b[0mp\u001b[0m\u001b[0;34m.\u001b[0m\u001b[0mbegin_group\u001b[0m\u001b[0;34m(\u001b[0m\u001b[0;36m1\u001b[0m\u001b[0;34m,\u001b[0m \u001b[0;34m'<'\u001b[0m\u001b[0;34m)\u001b[0m\u001b[0;34m\u001b[0m\u001b[0m\n",
      "\u001b[0;32m~/anaconda3/lib/python3.6/site-packages/IPython/lib/pretty.py\u001b[0m in \u001b[0;36m_repr_pprint\u001b[0;34m(obj, p, cycle)\u001b[0m\n\u001b[1;32m    691\u001b[0m     \u001b[0;34m\"\"\"A pprint that just redirects to the normal repr function.\"\"\"\u001b[0m\u001b[0;34m\u001b[0m\u001b[0m\n\u001b[1;32m    692\u001b[0m     \u001b[0;31m# Find newlines and replace them with p.break_()\u001b[0m\u001b[0;34m\u001b[0m\u001b[0;34m\u001b[0m\u001b[0m\n\u001b[0;32m--> 693\u001b[0;31m     \u001b[0moutput\u001b[0m \u001b[0;34m=\u001b[0m \u001b[0mrepr\u001b[0m\u001b[0;34m(\u001b[0m\u001b[0mobj\u001b[0m\u001b[0;34m)\u001b[0m\u001b[0;34m\u001b[0m\u001b[0m\n\u001b[0m\u001b[1;32m    694\u001b[0m     \u001b[0;32mfor\u001b[0m \u001b[0midx\u001b[0m\u001b[0;34m,\u001b[0m\u001b[0moutput_line\u001b[0m \u001b[0;32min\u001b[0m \u001b[0menumerate\u001b[0m\u001b[0;34m(\u001b[0m\u001b[0moutput\u001b[0m\u001b[0;34m.\u001b[0m\u001b[0msplitlines\u001b[0m\u001b[0;34m(\u001b[0m\u001b[0;34m)\u001b[0m\u001b[0;34m)\u001b[0m\u001b[0;34m:\u001b[0m\u001b[0;34m\u001b[0m\u001b[0m\n\u001b[1;32m    695\u001b[0m         \u001b[0;32mif\u001b[0m \u001b[0midx\u001b[0m\u001b[0;34m:\u001b[0m\u001b[0;34m\u001b[0m\u001b[0m\n",
      "\u001b[0;32m~/spark-2.3.0-bin-hadoop2.7/python/pyspark/rdd.py\u001b[0m in \u001b[0;36m__repr__\u001b[0;34m(self)\u001b[0m\n\u001b[1;32m    213\u001b[0m \u001b[0;34m\u001b[0m\u001b[0m\n\u001b[1;32m    214\u001b[0m     \u001b[0;32mdef\u001b[0m \u001b[0m__repr__\u001b[0m\u001b[0;34m(\u001b[0m\u001b[0mself\u001b[0m\u001b[0;34m)\u001b[0m\u001b[0;34m:\u001b[0m\u001b[0;34m\u001b[0m\u001b[0m\n\u001b[0;32m--> 215\u001b[0;31m         \u001b[0;32mreturn\u001b[0m \u001b[0mself\u001b[0m\u001b[0;34m.\u001b[0m\u001b[0m_jrdd\u001b[0m\u001b[0;34m.\u001b[0m\u001b[0mtoString\u001b[0m\u001b[0;34m(\u001b[0m\u001b[0;34m)\u001b[0m\u001b[0;34m\u001b[0m\u001b[0m\n\u001b[0m\u001b[1;32m    216\u001b[0m \u001b[0;34m\u001b[0m\u001b[0m\n\u001b[1;32m    217\u001b[0m     \u001b[0;32mdef\u001b[0m \u001b[0m__getnewargs__\u001b[0m\u001b[0;34m(\u001b[0m\u001b[0mself\u001b[0m\u001b[0;34m)\u001b[0m\u001b[0;34m:\u001b[0m\u001b[0;34m\u001b[0m\u001b[0m\n",
      "\u001b[0;32m~/spark-2.3.0-bin-hadoop2.7/python/pyspark/rdd.py\u001b[0m in \u001b[0;36m_jrdd\u001b[0;34m(self)\u001b[0m\n\u001b[1;32m   2468\u001b[0m \u001b[0;34m\u001b[0m\u001b[0m\n\u001b[1;32m   2469\u001b[0m         wrapped_func = _wrap_function(self.ctx, self.func, self._prev_jrdd_deserializer,\n\u001b[0;32m-> 2470\u001b[0;31m                                       self._jrdd_deserializer, profiler)\n\u001b[0m\u001b[1;32m   2471\u001b[0m         python_rdd = self.ctx._jvm.PythonRDD(self._prev_jrdd.rdd(), wrapped_func,\n\u001b[1;32m   2472\u001b[0m                                              self.preservesPartitioning)\n",
      "\u001b[0;32m~/spark-2.3.0-bin-hadoop2.7/python/pyspark/rdd.py\u001b[0m in \u001b[0;36m_wrap_function\u001b[0;34m(sc, func, deserializer, serializer, profiler)\u001b[0m\n\u001b[1;32m   2401\u001b[0m     \u001b[0;32massert\u001b[0m \u001b[0mserializer\u001b[0m\u001b[0;34m,\u001b[0m \u001b[0;34m\"serializer should not be empty\"\u001b[0m\u001b[0;34m\u001b[0m\u001b[0m\n\u001b[1;32m   2402\u001b[0m     \u001b[0mcommand\u001b[0m \u001b[0;34m=\u001b[0m \u001b[0;34m(\u001b[0m\u001b[0mfunc\u001b[0m\u001b[0;34m,\u001b[0m \u001b[0mprofiler\u001b[0m\u001b[0;34m,\u001b[0m \u001b[0mdeserializer\u001b[0m\u001b[0;34m,\u001b[0m \u001b[0mserializer\u001b[0m\u001b[0;34m)\u001b[0m\u001b[0;34m\u001b[0m\u001b[0m\n\u001b[0;32m-> 2403\u001b[0;31m     \u001b[0mpickled_command\u001b[0m\u001b[0;34m,\u001b[0m \u001b[0mbroadcast_vars\u001b[0m\u001b[0;34m,\u001b[0m \u001b[0menv\u001b[0m\u001b[0;34m,\u001b[0m \u001b[0mincludes\u001b[0m \u001b[0;34m=\u001b[0m \u001b[0m_prepare_for_python_RDD\u001b[0m\u001b[0;34m(\u001b[0m\u001b[0msc\u001b[0m\u001b[0;34m,\u001b[0m \u001b[0mcommand\u001b[0m\u001b[0;34m)\u001b[0m\u001b[0;34m\u001b[0m\u001b[0m\n\u001b[0m\u001b[1;32m   2404\u001b[0m     return sc._jvm.PythonFunction(bytearray(pickled_command), env, includes, sc.pythonExec,\n\u001b[1;32m   2405\u001b[0m                                   sc.pythonVer, broadcast_vars, sc._javaAccumulator)\n",
      "\u001b[0;32m~/spark-2.3.0-bin-hadoop2.7/python/pyspark/rdd.py\u001b[0m in \u001b[0;36m_prepare_for_python_RDD\u001b[0;34m(sc, command)\u001b[0m\n\u001b[1;32m   2387\u001b[0m     \u001b[0;31m# the serialized command will be compressed by broadcast\u001b[0m\u001b[0;34m\u001b[0m\u001b[0;34m\u001b[0m\u001b[0m\n\u001b[1;32m   2388\u001b[0m     \u001b[0mser\u001b[0m \u001b[0;34m=\u001b[0m \u001b[0mCloudPickleSerializer\u001b[0m\u001b[0;34m(\u001b[0m\u001b[0;34m)\u001b[0m\u001b[0;34m\u001b[0m\u001b[0m\n\u001b[0;32m-> 2389\u001b[0;31m     \u001b[0mpickled_command\u001b[0m \u001b[0;34m=\u001b[0m \u001b[0mser\u001b[0m\u001b[0;34m.\u001b[0m\u001b[0mdumps\u001b[0m\u001b[0;34m(\u001b[0m\u001b[0mcommand\u001b[0m\u001b[0;34m)\u001b[0m\u001b[0;34m\u001b[0m\u001b[0m\n\u001b[0m\u001b[1;32m   2390\u001b[0m     \u001b[0;32mif\u001b[0m \u001b[0mlen\u001b[0m\u001b[0;34m(\u001b[0m\u001b[0mpickled_command\u001b[0m\u001b[0;34m)\u001b[0m \u001b[0;34m>\u001b[0m \u001b[0;34m(\u001b[0m\u001b[0;36m1\u001b[0m \u001b[0;34m<<\u001b[0m \u001b[0;36m20\u001b[0m\u001b[0;34m)\u001b[0m\u001b[0;34m:\u001b[0m  \u001b[0;31m# 1M\u001b[0m\u001b[0;34m\u001b[0m\u001b[0m\n\u001b[1;32m   2391\u001b[0m         \u001b[0;31m# The broadcast will have same life cycle as created PythonRDD\u001b[0m\u001b[0;34m\u001b[0m\u001b[0;34m\u001b[0m\u001b[0m\n",
      "\u001b[0;32m~/spark-2.3.0-bin-hadoop2.7/python/pyspark/serializers.py\u001b[0m in \u001b[0;36mdumps\u001b[0;34m(self, obj)\u001b[0m\n\u001b[1;32m    566\u001b[0m \u001b[0;34m\u001b[0m\u001b[0m\n\u001b[1;32m    567\u001b[0m     \u001b[0;32mdef\u001b[0m \u001b[0mdumps\u001b[0m\u001b[0;34m(\u001b[0m\u001b[0mself\u001b[0m\u001b[0;34m,\u001b[0m \u001b[0mobj\u001b[0m\u001b[0;34m)\u001b[0m\u001b[0;34m:\u001b[0m\u001b[0;34m\u001b[0m\u001b[0m\n\u001b[0;32m--> 568\u001b[0;31m         \u001b[0;32mreturn\u001b[0m \u001b[0mcloudpickle\u001b[0m\u001b[0;34m.\u001b[0m\u001b[0mdumps\u001b[0m\u001b[0;34m(\u001b[0m\u001b[0mobj\u001b[0m\u001b[0;34m,\u001b[0m \u001b[0;36m2\u001b[0m\u001b[0;34m)\u001b[0m\u001b[0;34m\u001b[0m\u001b[0m\n\u001b[0m\u001b[1;32m    569\u001b[0m \u001b[0;34m\u001b[0m\u001b[0m\n\u001b[1;32m    570\u001b[0m \u001b[0;34m\u001b[0m\u001b[0m\n",
      "\u001b[0;32m~/spark-2.3.0-bin-hadoop2.7/python/pyspark/cloudpickle.py\u001b[0m in \u001b[0;36mdumps\u001b[0;34m(obj, protocol)\u001b[0m\n\u001b[1;32m    916\u001b[0m \u001b[0;34m\u001b[0m\u001b[0m\n\u001b[1;32m    917\u001b[0m     \u001b[0mcp\u001b[0m \u001b[0;34m=\u001b[0m \u001b[0mCloudPickler\u001b[0m\u001b[0;34m(\u001b[0m\u001b[0mfile\u001b[0m\u001b[0;34m,\u001b[0m\u001b[0mprotocol\u001b[0m\u001b[0;34m)\u001b[0m\u001b[0;34m\u001b[0m\u001b[0m\n\u001b[0;32m--> 918\u001b[0;31m     \u001b[0mcp\u001b[0m\u001b[0;34m.\u001b[0m\u001b[0mdump\u001b[0m\u001b[0;34m(\u001b[0m\u001b[0mobj\u001b[0m\u001b[0;34m)\u001b[0m\u001b[0;34m\u001b[0m\u001b[0m\n\u001b[0m\u001b[1;32m    919\u001b[0m \u001b[0;34m\u001b[0m\u001b[0m\n\u001b[1;32m    920\u001b[0m     \u001b[0;32mreturn\u001b[0m \u001b[0mfile\u001b[0m\u001b[0;34m.\u001b[0m\u001b[0mgetvalue\u001b[0m\u001b[0;34m(\u001b[0m\u001b[0;34m)\u001b[0m\u001b[0;34m\u001b[0m\u001b[0m\n",
      "\u001b[0;32m~/spark-2.3.0-bin-hadoop2.7/python/pyspark/cloudpickle.py\u001b[0m in \u001b[0;36mdump\u001b[0;34m(self, obj)\u001b[0m\n\u001b[1;32m    247\u001b[0m                 \u001b[0mmsg\u001b[0m \u001b[0;34m=\u001b[0m \u001b[0;34m\"Could not serialize object: %s: %s\"\u001b[0m \u001b[0;34m%\u001b[0m \u001b[0;34m(\u001b[0m\u001b[0me\u001b[0m\u001b[0;34m.\u001b[0m\u001b[0m__class__\u001b[0m\u001b[0;34m.\u001b[0m\u001b[0m__name__\u001b[0m\u001b[0;34m,\u001b[0m \u001b[0memsg\u001b[0m\u001b[0;34m)\u001b[0m\u001b[0;34m\u001b[0m\u001b[0m\n\u001b[1;32m    248\u001b[0m             \u001b[0mprint_exec\u001b[0m\u001b[0;34m(\u001b[0m\u001b[0msys\u001b[0m\u001b[0;34m.\u001b[0m\u001b[0mstderr\u001b[0m\u001b[0;34m)\u001b[0m\u001b[0;34m\u001b[0m\u001b[0m\n\u001b[0;32m--> 249\u001b[0;31m             \u001b[0;32mraise\u001b[0m \u001b[0mpickle\u001b[0m\u001b[0;34m.\u001b[0m\u001b[0mPicklingError\u001b[0m\u001b[0;34m(\u001b[0m\u001b[0mmsg\u001b[0m\u001b[0;34m)\u001b[0m\u001b[0;34m\u001b[0m\u001b[0m\n\u001b[0m\u001b[1;32m    250\u001b[0m \u001b[0;34m\u001b[0m\u001b[0m\n\u001b[1;32m    251\u001b[0m \u001b[0;34m\u001b[0m\u001b[0m\n",
      "\u001b[0;31mPicklingError\u001b[0m: Could not serialize object: Exception: It appears that you are attempting to broadcast an RDD or reference an RDD from an action or transformation. RDD transformations and actions can only be invoked by the driver, not inside of other transformations; for example, rdd1.map(lambda x: rdd2.values.count() * x) is invalid because the values transformation and count action cannot be performed inside of the rdd1.map transformation. For more information, see SPARK-5063."
     ]
    }
   ],
   "source": [
    "xxx.filter(lambda word: word not in stopwords)"
   ]
  },
  {
   "cell_type": "code",
   "execution_count": null,
   "metadata": {
    "collapsed": true
   },
   "outputs": [],
   "source": []
  },
  {
   "cell_type": "code",
   "execution_count": null,
   "metadata": {
    "collapsed": true
   },
   "outputs": [],
   "source": []
  },
  {
   "cell_type": "code",
   "execution_count": null,
   "metadata": {
    "collapsed": true
   },
   "outputs": [],
   "source": []
  },
  {
   "cell_type": "markdown",
   "metadata": {},
   "source": [
    "Now, use the word counting MapReduce code you've seen before. Count the number of times each word occurs and print the top 20 results as a list of tuples of the form `(word, count)`. *Hint: use `takeOrdered()` instead of `take()`*"
   ]
  },
  {
   "cell_type": "code",
   "execution_count": 68,
   "metadata": {},
   "outputs": [
    {
     "name": "stdout",
     "output_type": "stream",
     "text": [
      "[('1599', 1), ('tragedy', 1), ('of', 389), ('julius', 5), ('caesar', 237), ('shakespeare', 6), ('dramatis', 1), ('roman', 18), ('statesman', 1), ('triumvir', 2), ('after', 11), (\"caesar's\", 41), ('mark', 33), ('his', 161), ('lepidus', 12), ('third', 20), ('marcus', 7), ('leader', 1), ('against', 10), ('instigator', 1), ('trebonius', 17), ('caius', 14), ('ligarius', 15), ('decius', 26), ('metellus', 19), ('cinna', 40), ('calpurnia', 15), ('portia', 30), ('senator', 1), ('popilius', 8), ('lena', 3), ('messala', 47), ('artemidorus', 7), ('rhetoric', 1), ('poet', 10), ('varro', 12), ('clitus', 15), ('strato', 13), ('lucius', 59), ('dardanius', 8), ('pindarus', 20), ('ghost', 8), ('citizens', 7), ('soldiers', 6), ('messengers', 2), ('this', 170), ('version', 5), ('is', 260), ('copyright', 5), ('world', 23), ('library', 5), ('inc', 5), ('project', 5), ('gutenberg', 5), ('carnegie', 5), ('mellon', 5), ('university', 5), ('machine', 5), ('may', 42), ('long', 10), ('as', 140), ('1', 5), ('are', 119), ('others', 10), ('use', 15), ('only', 14), ('used', 6), ('prohibited', 5), ('commercial', 5), ('distribution', 5), ('service', 6), ('charges', 6), ('scene', 20), ('conspirators', 6), ('near', 9), ('philippi', 13), ('act', 7), ('i', 519), ('enter', 43), ('certain', 6), ('home', 12), ('creatures', 2), ('holiday', 3), ('know', 68), ('mechanical', 1), ('ought', 2), ('walk', 8), ('upon', 48), ('laboring', 1), ('sign', 4), ('profession', 1), ('speak', 40), ('trade', 6), ('thou', 116), ('commoner', 7), ('why', 43), ('carpenter', 1), ('where', 29), ('thy', 54), ('rule', 2), ('dost', 10), ('best', 13), ('truly', 8), ('in', 228), ('fine', 1), ('workman', 1), ('am', 57), ('but', 146), ('would', 46), ('say', 37), ('safe', 4), ('indeed', 11), ('mender', 1), ('knave', 4), ('out', 27), ('yet', 42), ('mend', 2), (\"mean'st\", 1), ('cobble', 1), ('live', 16), ('awl', 2), ('no', 93), (\"tradesman's\", 1), ('matters', 3), ('nor', 24), (\"women's\", 1), ('shoes', 2), ('when', 67), ('danger', 3), ('them', 61), ('proper', 3), ('ever', 11), ('trod', 1), ('have', 148), ('wherefore', 6), ('shop', 1), ('these', 39), ('streets', 11), ('wear', 4), ('myself', 20), ('into', 15), ('more', 35), ('work', 9), ('we', 96), ('make', 26), ('brings', 3), ('he', 193), ('tributaries', 1), ('grace', 4), ('captive', 1), ('blocks', 1), ('stones', 3), ('worse', 4), ('than', 42), ('senseless', 1), ('things', 17), ('pompey', 4), (\"climb'd\", 1), ('walls', 3), ('towers', 1), ('there', 49), ('sat', 1), ('livelong', 1), ('expectation', 1), ('pass', 6), ('appear', 8), ('an', 33), ('universal', 1), ('shout', 6), ('underneath', 2), ('her', 11), ('hear', 37), ('sounds', 1), ('shores', 3), ('do', 132), ('now', 63), ('put', 16), ('attire', 1), ('flowers', 1), ('way', 13), (\"pompey's\", 6), ('run', 16), ('houses', 2), ('fall', 11), ('knees', 2), ('pray', 7), ('intermit', 1), ('plague', 1), ('needs', 1), ('must', 36), ('ingratitude', 2), ('go', 43), ('good', 71), ('countrymen', 12), ('fault', 4), ('poor', 9), ('draw', 2), ('weep', 6), ('tears', 4), ('till', 22), ('exeunt', 27), ('metal', 1), ('vanish', 1), ('guiltiness', 1), ('down', 26), ('towards', 2), (\"deck'd\", 1), ('ceremonies', 4), ('feast', 2), ('lupercal', 2), ('matter', 10), ('let', 64), ('hung', 2), (\"i'll\", 13), ('away', 18), ('thick', 2), (\"pluck'd\", 3), ('fly', 16), ('pitch', 1), ('above', 5), ('us', 63), ('public', 4), ('flourish', 5), ('follows', 2), ('peace', 17), ('speaks', 5), ('music', 5), ('ceases', 1), ('stand', 34), ('doth', 30), ('speed', 4), ('touch', 2), ('barren', 1), ('touched', 1), ('chase', 1), ('shake', 7), ('says', 9), ('set', 14), ('leave', 19), ('ceremony', 2), ('calls', 3), ('bid', 17), ('again', 20), ('cry', 10), ('beware', 4), ('ides', 7), ('before', 15), ('throng', 3), ('look', 31), (\"say'st\", 1), ('once', 14), ('dreamer', 1), ('sennet', 2), ('gamesome', 1), ('lack', 1), ('quick', 2), ('spirit', 16), ('hinder', 1), ('late', 3), ('eyes', 14), ('love', 34), ('was', 64), ('bear', 23), ('strange', 7), ('loves', 8), ('deceived', 2), ('turn', 8), ('trouble', 3), ('passions', 1), ('conceptions', 1), ('give', 35), ('soil', 1), ('perhaps', 2), ('behaviors', 1), ('further', 6), ('neglect', 1), ('at', 59), ('forgets', 1), ('other', 14), ('passion', 2), ('means', 10), ('whereof', 1), ('value', 1), ('cogitations', 1), ('tell', 37), ('tis', 23), ('just', 2), ('very', 12), ('mirrors', 1), ('hidden', 1), ('shadow', 1), ('heard', 8), ('noble', 39), ('dangers', 3), ('prepared', 1), ('cannot', 7), ('glass', 1), ('modestly', 1), ('discover', 2), ('jealous', 2), ('gentle', 10), ('common', 9), ('stale', 1), ('oaths', 1), ('new', 3), ('fawn', 2), ('rout', 1), ('shouting', 1), ('fear', 29), ('king', 4), ('think', 23), ('impart', 1), ('toward', 3), ('honor', 14), ('both', 8), ('name', 15), ('virtue', 6), ('subject', 1), ('story', 1), ('single', 1), ('self', 1), ('free', 5), ('fed', 1), ('endure', 7), ('cold', 6), ('raw', 2), ('gusty', 1), ('said', 10), ('swim', 2), ('point', 6), ('plunged', 1), ('bade', 4), (\"roar'd\", 1), ('buffet', 1), ('aside', 5), ('stemming', 1), ('arrive', 1), ('proposed', 1), ('help', 2), ('flames', 1), ('troy', 1), ('shoulder', 1), ('waves', 1), ('become', 3), ('creature', 2), ('bend', 3), ('carelessly', 1), ('fever', 1), ('true', 17), ('lips', 3), ('color', 2), ('whose', 5), ('lose', 4), ('groan', 3), ('books', 1), ('alas', 9), ('ye', 9), ('amaze', 1), ('temper', 2), ('start', 2), ('majestic', 1), ('palm', 3), ('believe', 6), ('applauses', 1), (\"heap'd\", 1), ('bestride', 1), ('like', 40), ('colossus', 1), ('huge', 3), ('peep', 1), ('ourselves', 5), ('dishonorable', 1), ('graves', 3), ('yours', 10), ('sound', 4), ('mouth', 3), ('heavy', 3), ('conjure', 1), ('em', 6), ('names', 2), ('feed', 1), ('hast', 13), ('lost', 2), ('famed', 1), (\"encompass'd\", 1), ('room', 5), ('state', 5), ('easily', 1), ('thought', 7), ('recount', 1), ('hereafter', 2), ('entreat', 3), ('consider', 3), ('meet', 18), ('high', 6), ('chew', 1), ('rather', 8), ('villager', 1), ('repute', 1), ('son', 7), ('conditions', 2), ('thus', 16), ('fire', 19), ('re-enter', 14), ('games', 1), ('pluck', 4), ('proceeded', 2), ('spot', 2), ('brow', 3), ('rest', 12), ('chidden', 1), ('pale', 2), ('looks', 6), ('ferret', 1), ('seen', 9), ('fat', 1), ('nights', 2), ('yond', 2), ('hungry', 1), ('thinks', 2), ('fatter', 1), ('spare', 1), ('reads', 2), ('observer', 1), ('quite', 4), ('deeds', 4), ('plays', 2), ('hears', 1), ('smiles', 4), (\"scorn'd\", 1), ('anything', 10), ('never', 16), (\"heart's\", 1), ('behold', 4), ('themselves', 6), (\"fear'd\", 2), ('always', 1), ('right', 6), ('ear', 4), (\"pull'd\", 1), ('cloak', 1), ('chanced', 4), ('sad', 4), ('ask', 2), ('offered', 7), ('shouted', 2), ('thrice', 6), ('last', 8), ('gentler', 1), ('putting', 1), ('neighbors', 1), ('twas', 3), ('neither', 3), ('coronets', 1), ('told', 3), ('fain', 1), ('fingers', 3), ('refused', 3), ('rabblement', 1), ('hooted', 1), ('threw', 1), ('nightcaps', 1), ('uttered', 1), ('deal', 1), ('stinking', 1), ('choked', 2), ('swounded', 1), ('own', 11), ('durst', 7), ('laugh', 2), ('caesars', 1), ('speechless', 1), ('falling', 2), ('sickness', 5), ('mean', 10), ('sure', 10), ('pleased', 1), ('players', 1), ('came', 7), ('perceived', 1), ('plucked', 1), ('doublet', 1), ('throat', 1), ('cut', 6), ('occupation', 1), ('rogues', 1), ('worships', 1), ('infirmity', 1), ('three', 7), ('four', 1), ('stood', 3), ('forgave', 1), (\"there's\", 6), ('spoke', 5), ('greek', 2), ('effect', 2), (\"ne'er\", 3), ('understood', 1), ('shook', 1), ('news', 4), ('silence', 3), ('promised', 1), ('dine', 1), ('tomorrow', 7), ('mind', 8), ('worth', 5), ('eating', 1), ('farewell', 11), ('blunt', 2), ('school', 3), ('execution', 1), ('enterprise', 7), ('however', 1), ('tardy', 1), ('form', 3), ('rudeness', 1), ('digest', 2), ('honorable', 15), ('minds', 4), ('likes', 1), ('night', 29), ('several', 5), ('throw', 2), ('writings', 1), ('opinion', 5), ('holds', 2), ('ambition', 4), ('glanced', 1), ('days', 5), ('iii', 6), ('even', 17), ('stare', 3), ('earth', 5), ('unfirm', 1), ('rived', 2), ('knotty', 1), ('oaks', 1), ('ocean', 1), ('rage', 3), ('threatening', 1), ('dropping', 1), ('incenses', 1), ('send', 11), ('destruction', 2), ('wonderful', 1), ('flame', 1), ('twenty', 2), ('torches', 1), ('sensible', 1), ('lion', 3), ('annoying', 1), ('women', 3), ('transformed', 1), ('swore', 2), ('bird', 1), ('shrieking', 1), ('conjointly', 1), ('climate', 1), ('strange-disposed', 1), ('sky', 1), ('pleasing', 1), ('heavens', 5), ('known', 4), ('full', 9), (\"walk'd\", 2), ('perilous', 1), ('unbraced', 2), ('bared', 1), ('bosom', 3), ('cross', 3), ('open', 2), ('flash', 1), ('tempt', 4), ('mighty', 14), ('tokens', 1), ('dreadful', 4), ('heralds', 1), ('dull', 1), ('sparks', 2), ('cast', 2), ('wonder', 2), ('cause', 15), ('fires', 1), ('gliding', 1), ('ghosts', 2), ('birds', 1), ('beasts', 2), ('quality', 4), ('kind', 4), ('calculate', 1), ('change', 8), ('ordinance', 1), ('natures', 1), ('preformed', 1), ('faculties', 1), ('infused', 1), ('spirits', 7), ('lightens', 1), ('mightier', 1), ('action', 2), ('eruptions', 1), ('ancestors', 3), ('womanish', 1), ('establish', 1), ('sea', 2), ('save', 3), ('italy', 2), ('bondage', 2), ('therein', 2), ('defeat', 1), ('stony', 1), ('tower', 1), ('beaten', 1), ('brass', 1), ('airless', 1), ('dungeon', 1), ('links', 1), ('retentive', 1), ('strength', 2), ('weary', 2), ('worldly', 1), ('bars', 1), ('power', 6), ('dismiss', 1), ('tyranny', 3), ('bondman', 5), ('bears', 11), ('captivity', 1), ('sheep', 1), ('hinds', 1), ('haste', 4), ('straws', 1), ('rubbish', 1), ('led', 3), ('willing', 2), (\"arm'd\", 2), ('fleering', 1), ('factious', 1), ('far', 7), ('goes', 6), ('farthest', 1), ('already', 4), ('noblest-minded', 1), ('undergo', 1), ('stir', 8), ('complexion', 1), (\"favor's\", 1), ('bloody', 10), ('terrible', 2), ('close', 3), ('awhile', 5), ('incorporate', 2), ('two', 10), ('sights', 2), ('yes', 6), ('win', 1), ('take', 23), ('chair', 2), ('wax', 1), ('statue', 5), ('repair', 2), ('house', 19), ('papers', 1), ('entire', 1), ('encounter', 1), ('sits', 2), (\"people's\", 1), ('offense', 4), ('richest', 1), ('conceited', 1), ('midnight', 1), ('awake', 9), ('orchard', 1), ('progress', 1), ('guess', 1), ('call', 6), ('spurn', 2), (\"crown'd\", 3), ('question', 3), ('bright', 1), ('adder', 1), ('grant', 5), ('disjoins', 1), (\"sway'd\", 2), ('proof', 3), ('young', 11), ('turns', 3), ('upmost', 1), ('round', 4), ('scorning', 1), ('degrees', 1), ('ascend', 1), ('lest', 5), ('prevent', 4), ('quarrel', 1), ('extremities', 1), (\"hatch'd\", 1), ('kill', 7), ('shell', 1), ('lie', 10), ('letter', 2), ('boy', 13), ('calendar', 1), ('bring', 10), ('whizzing', 1), ('read', 14), ('instigations', 1), (\"dropp'd\", 1), ('took', 5), ('tarquin', 1), ('entreated', 1), ('wasted', 1), ('fifteen', 1), ('gate', 1), ('slept', 2), ('acting', 1), ('motion', 3), ('interim', 1), ('dream', 4), ('genius', 1), ('mortal', 1), ('insurrection', 1), ('brother', 12), ('hats', 1), ('ears', 5), ('shamest', 1), ('evils', 3), ('dark', 1), ('mask', 1), ('none', 8), ('hide', 6), ('path', 1), ('native', 1), ('semblance', 1), ('dim', 1), ('prevention', 2), ('morrow', 7), ('hither', 6), ('cares', 1), ('betwixt', 1), ('east', 2), ('pardon', 10), ('confess', 2), ('sun', 3), ('youthful', 1), ('year', 1), ('months', 1), ('higher', 2), ('presents', 1), ('oath', 4), ('souls', 4), (\"time's\", 1), ('betimes', 2), ('melting', 1), ('secret', 2), ('palter', 1), ('honesty', 3), ('engaged', 1), ('cautelous', 1), ('carrions', 1), ('suffering', 1), ('wrongs', 2), ('causes', 1), ('performance', 1), ('nobly', 1), ('bastardy', 1), ('silver', 1), ('purchase', 1), (\"men's\", 2), ('voices', 1), ('commend', 3), ('judgement', 2), ('ruled', 2), ('youths', 1), ('gravity', 1), (\"touch'd\", 2), ('urged', 2), ('beloved', 1), ('shrewd', 1), ('improve', 1), ('stretch', 1), ('annoy', 1), ('head', 5), ('envy', 2), (\"let's\", 6), ('boldly', 1), ('wrathfully', 1), ('carve', 1), ('hew', 1), ('carcass', 1), ('hounds', 2), ('subtle', 1), ('appearing', 1), ('purgers', 1), ('murderers', 1), ('ingrated', 1), ('die', 17), ('sports', 1), ('him-let', 1), ('strikes', 1), ('count', 1), ('stricken', 1), ('doubtful', 1), ('superstitious', 1), ('apparent', 1), (\"unaccustom'd\", 1), ('terror', 2), ('persuasion', 1), ('augurers', 2), (\"o'ersway\", 1), ('elephants', 1), ('lions', 2), ('flatterers', 4), ('utter', 2), ('uttermost', 1), ('rated', 1), ('s', 1), ('yourselves', 6), ('gentlemen', 3), ('merrily', 1), ('purposes', 2), ('untired', 1), ('formal', 1), ('asleep', 2), ('dew', 1), ('slumber', 2), ('figures', 1), ('fantasies', 1), ('commit', 1), ('yesternight', 1), ('supper', 1), ('suddenly', 1), ('arose', 1), ('sighing', 1), (\"ask'd\", 1), ('stared', 1), (\"answer'd\", 3), ('waiter', 1), ('gave', 5), ('fearing', 3), ('strengthen', 1), ('enkindled', 1), ('withal', 3), ('sometime', 1), ('shape', 1), ('acquainted', 1), ('steal', 2), ('wholesome', 1), ('dare', 4), ('rheumy', 1), ('beauty', 1), ('vow', 1), ('unfold', 2), ('resort', 1), ('seven', 2), ('kneel', 3), ('marriage', 1), ('excepted', 1), ('secrets', 3), ('meals', 1), ('sometimes', 1), ('dwell', 4), ('suburbs', 1), ('harlot', 1), ('ruddy', 1), ('drops', 3), ('visit', 3), ('heart', 27), ('daughter', 1), ('stronger', 1), (\"father'd\", 1), ('husbanded', 1), ('counsels', 1), ('disclose', 1), ('voluntary', 1), ('thigh', 1), (\"husband's\", 1), ('render', 2), ('hark', 8), ('partake', 1), ('brows', 2), ('vouchsafe', 2), ('brave', 5), ('kerchief', 1), ('derived', 1), ('loins', 1), ('mortified', 1), ('strive', 1), ('impossible', 2), ('nightgown', 1), ('murther', 1), ('sacrifice', 1), ('opinions', 1), ('success', 3), (\"threaten'd\", 1), ('fright', 1), ('horrid', 1), ('watch', 2), ('whelped', 1), ('yielded', 1), ('fight', 4), ('drizzled', 1), ('horses', 2), ('shriek', 1), ('beyond', 1), ('avoided', 1), ('end', 8), ('purposed', 1), ('predictions', 1), ('comets', 1), ('blaze', 1), ('princes', 2), ('valiant', 6), ('wonders', 1), ('seeing', 2), ('plucking', 1), ('offering', 1), (\"litter'd\", 1), ('elder', 2), ('consumed', 1), ('keeps', 1), ('knee', 2), ('prevail', 1), (\"stretch'd\", 2), (\"laugh'd\", 1), ('private', 3), ('satisfaction', 1), ('dreamt', 2), ('fountain', 1), ('spouts', 1), ('smiling', 2), ('warnings', 1), ('portents', 1), (\"begg'd\", 1), ('interpreted', 1), ('vision', 1), ('fortunate', 2), ('pipes', 1), ('tinctures', 1), ('stains', 1), ('cognizance', 1), ('expounded', 1), ('mock', 1), ('lo', 2), ('yield', 3), ('robe', 1), ('publius', 13), ('enemy', 10), ('ague', 1), (\"is't\", 3), (\"o'clock\", 3), ('eight', 1), ('pains', 1), ('prepare', 5), ('blame', 5), ('store', 2), ('wine', 5), ('straightway', 1), ('wronged', 1), ('beest', 1), ('security', 1), ('defend', 2), ('suitor', 2), ('teeth', 4), ('emulation', 1), ('mayest', 1), ('traitors', 9), ('contrive', 1), ('iv', 3), ('prithee', 4), ('errand', 1), ('madam', 5), ('sickly', 2), ('suitors', 2), ('rumor', 1), ('lady', 3), ('ninth', 1), ('suit', 5), ('befriend', 1), (\"harm's\", 1), ('chance', 2), ('praetors', 1), ('thine', 4), ('merry', 2), ('sitting', 1), ('schedule', 1), (\"o'er\", 3), ('touches', 2), ('nearer', 1), ('served', 2), ('delay', 1), ('advances', 1), ('slay', 2), ('rears', 1), ('ready', 4), ('puissant', 1), ('throws', 1), ('kneels', 1), ('couchings', 1), ('courtesies', 1), ('decree', 2), ('law', 1), ('fond', 1), ('rebel', 1), (\"thaw'd\", 1), ('melteth', 1), ('sweet', 3), (\"court'sies\", 1), ('spaniel-fawning', 1), ('banished', 1), ('cur', 2), ('repealing', 1), ('immediate', 1), ('repeal', 1), ('low', 5), ('move', 4), ('prayers', 1), ('painted', 1), (\"furnish'd\", 1), ('apprehensive', 1), ('unassailable', 1), ('olympus', 2), ('stab', 3), ('dies', 3), ('affrighted', 1), ('paid', 1), ('pulpit', 7), ('mutiny', 5), ('harm', 2), ('person', 1), ('abide', 2), ('deed', 8), ('doers', 1), ('amazed', 1), ('wives', 1), ('pleasures', 2), ('drawing', 1), ('cuts', 2), ('years', 4), ('benefit', 2), ('abridged', 1), ('stoop', 3), ('elbows', 1), ('swords', 4), ('weapons', 1), ('lofty', 1), ('unknown', 2), ('basis', 1), ('knot', 1), ('country', 4), ('boldest', 1), ('master', 11), ('loving', 1), ('loved', 6), ('safely', 1), ('living', 4), ('thorough', 2), ('untrod', 1), ('faith', 2), ('depart', 4), (\"untouch'd\", 1), ('falls', 1), ('triumphs', 1), ('measure', 1), (\"death's\", 1), ('purpled', 1), ('fulfill', 1), ('thousand', 1), ('though', 6), ('bleeding', 2), ('business', 4), ('pity', 5), ('drives', 1), ('points', 1), ('malice', 1), ('disposing', 1), ('appeased', 1), ('multitude', 1), ('ground', 4), ('conceit', 1), ('flatterer', 1), ('grieve', 1), ('dearer', 2), ('making', 1), ('shaking', 1), ('foes', 1), ('presence', 1), ('corse', 4), ('hart', 2), (\"sign'd\", 1), ('compact', 1), (\"prick'd\", 3), ('looking', 1), ('savage', 1), ('spectacle', 2), ('regard', 3), ('moreover', 2), ('produce', 1), ('funeral', 6), ('protest', 1), ('lawful', 1), ('speech', 5), (\"do't\", 1), ('ended', 2), ('meek', 1), ('noblest', 3), ('lived', 3), ('tide', 2), ('shed', 2), ('costly', 1), ('ruby', 1), (\"quarter'd\", 2), ('hot', 3), (\"monarch's\", 1), ('dogs', 1), ('smell', 1), ('carrion', 1), ('serve', 1), ('letters', 7), ('apart', 2), ('catching', 1), ('beads', 1), ('water', 1), ('shalt', 4), ('borne', 1), ('try', 2), ('discourse', 1), ('numbers', 1), ('citizen', 69), ('compare', 1), ('ascended', 1), ('censure', 1), ('senses', 1), ('assembly', 1), ('demand', 2), ('rose', 1), ('slaves', 2), ('slew', 3), ('enrolled', 1), ('glory', 2), ('extenuated', 1), ('enforced', 3), ('fourth', 16), ('finds', 1), ('twere', 1), ('rid', 2), ('praise', 1), ('evil', 2), ('bones', 3), ('grievous', 1), ('grievously', 1), ('faithful', 1), ('coffers', 1), ('fill', 2), ('wept', 1), ('presented', 1), ('kingly', 1), ('refuse', 1), ('disprove', 1), ('withholds', 1), ('mourn', 1), ('methinks', 2), ('sayings', 1), ('rightly', 1), ('nobler', 1), ('begins', 2), ('parchment', 1), ('seal', 2), ('commons', 2), ('testament', 2), ('sacred', 1), ('hair', 2), ('mention', 1), ('wills', 1), ('bequeathing', 1), ('legacy', 1), ('wood', 1), ('hearing', 1), ('inflame', 1), ('heirs', 2), ('murtherers', 1), ('descend', 2), ('hearse', 1), ('nervii', 1), ('ran', 3), ('rent', 1), ('well-beloved', 1), (\"follow'd\", 1), ('unkindly', 1), (\"knock'd\", 1), ('dearly', 1), (\"vanquish'd\", 1), ('burst', 1), ('muffling', 1), ('feel', 1), ('dint', 1), ('wounded', 1), (\"marr'd\", 1), ('piteous', 1), ('forgot', 1), ('drachmas', 2), ('walks', 2), ('new-planted', 1), ('orchards', 1), ('recreate', 1), ('benches', 1), ('thither', 1), ('madmen', 1), ('gates', 1), ('unluckily', 1), ('charge', 3), ('wander', 1), ('something', 2), ('married', 2), ('bachelor', 3), ('briefly', 4), ('wisely', 4), (\"you'll\", 1), ('proceed', 1), ('answered', 3), ('dwelling', 1), ('verses', 2), (\"casca's\", 1), ('seated', 1), ('damn', 1), ('sent', 1), ('errands', 1), ('three-fold', 1), ('share', 1), ('proscription', 3), ('divers', 1), ('loads', 1), ('ass', 2), ('gold', 6), ('treasure', 1), ('graze', 1), ('tried', 2), ('soldier', 12), ('stop', 1), (\"train'd\", 1), ('barren-spirited', 1), ('levying', 1), ('alliance', 1), ('disclosed', 1), ('surest', 1), ('millions', 1), ('salutation', 1), ('ill', 5), ('officers', 1), ('doubted', 1), ('instances', 1), ('friendly', 3), ('sicken', 1), ('useth', 1), ('tricks', 1), ('simple', 1), ('hollow', 1), ('gallant', 2), ('crests', 1), ('deceitful', 1), ('jades', 1), ('trial', 1), ('gently', 1), ('enlarge', 1), ('guard', 1), ('praying', 1), ('slighted', 1), ('nice', 1), ('mart', 1), ('offices', 1), ('undeservers', 1), ('corruption', 1), ('villain', 1), ('foremost', 1), ('contaminate', 1), ('space', 1), ('large', 1), ('bait', 1), ('hedge', 1), ('farther', 1), ('possible', 1), ('choler', 1), ('frighted', 1), ('stares', 1), ('bouge', 1), ('crouch', 1), ('testy', 1), ('vaunting', 1), ('tempted', 1), ('sums', 1), ('money', 2), ('peasants', 1), ('indirection', 1), ('pay', 2), ('legions', 4), ('grows', 1), ('covetous', 1), ('lock', 1), ('counters', 1), ('fool', 1), ('infirmities', 1), (\"flatterer's\", 1), ('aweary', 1), (\"learn'd\", 1), ('naked', 1), (\"pluto's\", 1), ('hate', 1), ('worst', 2), ('lovedst', 2), ('sheathe', 1), ('scope', 1), ('dishonor', 1), ('lamb', 1), ('anger', 1), ('vexeth', 1), ('chides', 1), ('grudge', 1), ('rhyme', 1), ('jigging', 1), ('companion', 1), ('lodge', 1), ('companies', 1), ('bowl', 2), ('philosophy', 2), ('accidental', 1), ('scaped', 1), ('killing', 1), ('touching', 1), ('loss', 1), ('impatient', 1), ('tidings', 3), ('distract', 1), ('attendants', 1), ('absent', 1), (\"swallow'd\", 1), ('pledge', 1), ('cup', 1), ('necessities', 1), ('tenure', 1), ('meditating', 1), ('losses', 1), ('marching', 2), ('nimbleness', 1), ('twixt', 1), ('forced', 1), ('fuller', 1), ('encouraged', 1), ('ripe', 1), ('increaseth', 1), ('decline', 1), ('voyage', 1), ('shallows', 1), ('miseries', 1), ('current', 1), ('ventures', 1), ('obey', 1), ('necessity', 1), ('niggard', 1), ('gown', 4), ('repose', 1), ('everything', 3), (\"speak'st\", 1), ('book', 1), (\"an't\", 1), ('duty', 2), ('past', 1), ('tune', 1), ('layest', 1), ('mace', 1), ('wake', 1), ('leaf', 1), ('burns', 1), ('shapes', 1), ('apparition', 1), ('vanishest', 1), ('proves', 1), ('battles', 2), ('warn', 1), ('tut', 1), ('bosoms', 1), ('fasten', 1), ('field', 10), ('exigent', 1), ('parley', 1), ('until', 2), ('blows', 2), ('strokes', 2), ('witness', 2), ('hole', 1), ('crying', 1), ('bees', 1), ('honeyless', 1), ('soundless', 1), (\"stol'n\", 1), ('threat', 1), ('apes', 1), (\"bow'd\", 1), ('damned', 1), ('neck', 1), ('arguing', 1), ('redder', 1), ('thirty', 1), ('added', 1), ('couldst', 1), ('worthless', 1), ('masker', 1), ('hurl', 1), ('stomachs', 1), ('billow', 1), ('storm', 1), (\"compell'd\", 1), ('liberties', 1), ('partly', 2), ('presage', 1), ('ensign', 2), ('eagles', 1), ('gorging', 1), ('feeding', 1), ('consorted', 1), ('steads', 1), ('prey', 1), ('shadows', 1), ('fatal', 1), ('constantly', 1), ('incertain', 1), ('befall', 1), ('determined', 1), ('govern', 1), ('below', 1), ('parting', 2), (\"day's\", 1), ('alarum', 7), ('ride', 5), ('demeanor', 1), ('push', 2), ('overthrow', 1), ('tents', 2), ('lovest', 1), ('assured', 1), ('compass', 1), ('parthia', 1), ('whatsoever', 1), ('attempt', 1), ('freeman', 1), ('search', 1), (\"cover'd\", 1), ('guide', 1), ('overthrown', 1), ('rays', 1), ('mistrust', 2), ('hateful', 1), (\"melancholy's\", 1), ('child', 1), (\"kill'st\", 1), (\"engender'd\", 1), ('darts', 1), ('misconstrued', 1), ('apace', 1), ('regarded', 1), (\"roman's\", 1), ('kills', 1), ('upward', 1), ('slain', 2), ('moe', 1), ('thasos', 1), ('funerals', 1), ('discomfort', 1), ('labio', 1), ('flavio', 1), ('fighting', 1), ('bastard', 1), (\"country's\", 2), ('diest', 2), ('bravely', 1), ('offers', 1), ('assure', 2), ('prize', 1), ('statilius', 1), ('slaying', 1), ('whispers', 2), ('meditates', 1), (\"appear'd\", 1), ('fields', 1), ('beat', 1), ('pit', 1), ('sword-hilts', 1), ('losing', 1), (\"life's\", 1), (\"labor'd\", 1), ('smatch', 1), ('retreat', 1), ('proved', 1), ('saying', 1), ('latest', 1), (\"mix'd\", 1), ('honorably', 1), ('the', 612), ('by', 116), ('william', 6), ('personae', 1), ('and', 655), ('general', 12), ('octavius', 43), ('death', 31), ('later', 1), ('augustus', 1), ('first', 36), ('emperor', 1), ('rome', 43), ('antony', 128), ('friend', 23), ('a', 267), ('member', 1), ('triumvirate', 1), ('brutus', 366), ('conspiracy', 5), ('cassius', 227), ('casca', 72), ('conspirator', 3), ('cimber', 12), ('wife', 9), ('cicero', 16), ('flavius', 8), ('tribune', 2), ('marullus', 9), ('cato', 11), ('supportor', 1), ('lucilius', 27), ('titinius', 37), ('volumnius', 12), ('teacher', 1), ('servant', 18), ('to', 419), ('claudio', 12), ('soothsayer', 14), ('senators', 8), ('commoners', 3), ('servants', 2), ('electronic', 10), ('complete', 5), ('works', 5), ('1990-1993', 5), ('provided', 5), ('etext', 5), ('with', 163), ('permission', 8), ('readable', 5), ('copies', 10), ('be', 156), ('distributed', 10), ('so', 144), ('such', 42), ('for', 187), ('your', 136), ('or', 59), ('personal', 7), ('2', 5), ('not', 262), ('commercially', 5), ('includes', 5), ('any', 22), ('that', 290), ('download', 5), ('time', 31), ('membership', 5), ('camp', 3), ('sardis', 4), ('plains', 2), ('street', 8), ('hence', 12), ('you', 391), ('idle', 3), ('get', 11), ('what', 126), ('being', 10), ('day', 25), ('without', 5), ('art', 23), ('sir', 23), ('leather', 2), ('apron', 1), ('apparel', 1), ('on', 82), ('second', 29), ('respect', 7), ('cobbler', 2), ('answer', 11), ('me', 189), ('directly', 9), ('hope', 3), ('conscience', 1), ('which', 47), ('bad', 8), ('soles', 1), ('naughty', 1), ('nay', 6), ('beseech', 3), ('if', 84), ('can', 19), ('saucy', 3), ('fellow', 13), ('all', 115), ('meddle', 1), ('surgeon', 1), ('old', 8), ('they', 64), ('great', 27), ('recover', 1), ('men', 64), (\"neat's\", 1), ('gone', 10), ('my', 189), ('handiwork', 1), ('today', 19), ('lead', 7), ('about', 19), ('their', 62), ('see', 37), ('rejoice', 3), ('triumph', 4), ('conquest', 3), ('follow', 15), ('him', 165), ('bonds', 1), ('chariot', 2), ('wheels', 1), ('o', 72), ('hard', 8), ('hearts', 11), ('cruel', 3), ('knew', 3), ('many', 15), ('oft', 3), ('up', 34), ('battlements', 1), ('windows', 3), ('yea', 4), ('chimney', 1), ('tops', 1), ('infants', 2), ('arms', 4), ('patient', 4), ('saw', 8), ('made', 17), ('tiber', 5), ('trembled', 1), ('banks', 2), ('replication', 1), ('concave', 1), ('cull', 1), ('strew', 1), ('comes', 16), ('over', 7), ('blood', 24), ('gods', 25), ('light', 4), ('assemble', 1), ('sort', 3), ('channel', 1), ('lowest', 1), ('stream', 2), ('kiss', 3), ('most', 29), ('exalted', 2), ('whether', 4), ('basest', 1), ('moved', 9), ('tongue-tied', 1), ('capitol', 19), ('will', 162), ('disrobe', 1), ('images', 3), ('find', 17), ('it', 194), ('trophies', 1), ('drive', 2), ('vulgar', 1), ('from', 50), ('too', 28), ('perceive', 5), ('growing', 2), ('feathers', 1), ('wing', 2), ('ordinary', 3), ('who', 28), ('else', 13), ('soar', 1), ('view', 1), ('keep', 10), ('servile', 1), ('fearfulness', 1), ('ii', 6), ('place', 14), ('course', 5), ('crowd', 3), ('among', 4), ('ho', 18), ('here', 61), ('lord', 44), (\"antonio's\", 1), ('antonio', 4), ('forget', 3), ('our', 87), ('elders', 1), ('holy', 2), ('off', 19), ('sterile', 1), ('curse', 2), ('shall', 125), ('remember', 8), (\"perform'd\", 1), ('ha', 6), ('every', 25), ('noise', 4), ('still', 11), ('press', 5), ('tongue', 8), ('shriller', 1), (\"turn'd\", 3), ('march', 12), ('man', 56), ('face', 13), ('come', 74), ('order', 3), ('some', 41), ('part', 18), ('desires', 1), ('observe', 2), ('gentleness', 1), ('show', 13), ('wont', 1), ('stubborn', 1), ('hand', 29), (\"veil'd\", 1), ('countenance', 2), ('merely', 1), ('vexed', 1), ('difference', 1), ('therefore', 13), ('friends', 24), ('grieved', 1), ('number', 4), ('one', 32), ('construe', 3), ('himself', 15), ('war', 4), ('shows', 2), ('then', 67), ('much', 29), ('mistook', 1), ('breast', 3), ('mine', 21), ('hath', 35), ('buried', 3), ('thoughts', 4), ('worthy', 9), ('eye', 6), ('sees', 3), ('itself', 3), ('reflection', 2), ('lamented', 1), ('worthiness', 2), ('might', 13), ('except', 1), ('immortal', 3), ('speaking', 2), ('groaning', 2), (\"age's\", 1), ('yoke', 2), (\"wish'd\", 2), ('had', 27), ('seek', 9), ('since', 6), ('yourself', 12), ('well', 50), ('were', 36), ('laugher', 1), ('did', 75), ('protester', 1), ('hug', 1), ('scandal', 1), ('profess', 1), ('banqueting', 1), ('hold', 13), ('dangerous', 8), ('people', 11), ('choose', 2), ('ay', 18), ('aught', 2), ('indifferently', 1), ('outward', 1), ('favor', 2), ('life', 12), ('lief', 1), ('awe', 3), ('thing', 6), ('born', 3), (\"winter's\", 1), ('troubled', 1), ('chafing', 1), ('darest', 1), ('leap', 2), ('angry', 5), ('flood', 4), ('yonder', 3), ('word', 20), ('accoutred', 1), ('torrent', 1), ('lusty', 2), ('sinews', 1), ('throwing', 1), ('controversy', 1), ('ere', 6), ('could', 17), ('cried', 5), ('sink', 3), ('aeneas', 1), ('ancestor', 1), ('anchises', 1), ('tired', 1), ('god', 3), ('wretched', 1), ('body', 15), ('nod', 2), ('spain', 1), ('fit', 6), ('how', 34), ('coward', 4), ('same', 7), ('luster', 1), ('romans', 17), ('write', 4), ('speeches', 1), ('drink', 2), ('sick', 11), ('girl', 1), ('feeble', 4), ('should', 41), ('alone', 6), ('another', 10), ('honors', 5), ('narrow', 2), ('petty', 1), ('under', 9), ('legs', 1), ('masters', 4), ('fates', 3), ('dear', 8), ('stars', 2), ('underlings', 1), ('sounded', 1), ('together', 6), ('fair', 2), ('weigh', 1), ('soon', 3), ('meat', 1), ('grown', 4), ('age', 5), ('shamed', 1), ('breed', 2), ('bloods', 2), ('went', 6), (\"talk'd\", 1), ('wide', 1), ('enough', 9), ('fathers', 2), (\"brook'd\", 1), ('eternal', 1), ('devil', 2), ('nothing', 10), ('aim', 2), ('times', 5), ('present', 4), ('patience', 6), ('lay', 4), ('glad', 4), ('weak', 6), ('words', 12), ('struck', 3), ('train', 3), ('done', 23), ('returning', 1), ('sleeve', 1), ('sour', 1), ('fashion', 7), ('note', 5), ('glow', 1), (\"calpurnia's\", 2), ('cheek', 1), ('fiery', 3), (\"cross'd\", 2), ('conference', 3), ('sleek-headed', 1), ('sleep', 9), ('has', 3), ('lean', 2), (\"he's\", 5), ('given', 4), ('liable', 2), ('avoid', 1), ('through', 6), ('seldom', 1), (\"mock'd\", 1), ('smile', 5), ('ease', 2), ('whiles', 1), ('greater', 3), ('thee', 54), ('deaf', 1), (\"think'st\", 1), ('crown', 12), ('back', 13), ('fell', 12), ('ashouting', 1), ('marry', 3), ('wast', 3), ('honest', 5), ('manner', 3), (\"hang'd\", 1), ('mere', 1), ('foolery', 2), ('offer', 1), ('thinking', 3), ('loath', 1), ('clapped', 1), ('chopped', 1), ('hands', 15), ('sweaty', 1), ('breath', 1), ('because', 3), ('almost', 4), ('opening', 1), ('receiving', 1), ('air', 4), ('soft', 2), ('wound', 3), ('marketplace', 5), ('foamed', 1), ('tagrag', 1), ('clap', 1), ('hiss', 1), ('according', 3), ('displeased', 1), ('theatre', 2), ('unto', 14), ('herd', 1), ('ope', 2), ('been', 10), ('taken', 4), ('hell', 2), ('amiss', 3), ('desired', 1), ('wenches', 1), ('soul', 3), ('heed', 2), ('stabbed', 1), ('mothers', 3), ('less', 4), ('those', 9), ('smiled', 1), ('heads', 4), ('pulling', 1), ('scarfs', 1), ('fare', 6), ('sup', 1), ('tonight', 9), ('forth', 24), ('alive', 5), ('dinner', 1), ('expect', 1), ('exit', 26), ('mettle', 4), ('bold', 3), ('puts', 1), ('sauce', 1), ('wit', 2), ('gives', 5), ('stomach', 1), ('better', 15), ('appetite', 1), ('please', 8), ('wait', 1), ('wrought', 1), ('disposed', 2), ('firm', 1), ('seduced', 1), ('humor', 8), ('tending', 2), ('wherein', 5), ('obscurely', 1), ('seat', 2), ('thunder', 3), ('lightning', 3), ('opposite', 1), ('sides', 2), ('sword', 14), ('drawn', 2), ('brought', 5), ('breathless', 1), ('sway', 1), ('shakes', 1), ('tempests', 1), ('scolding', 1), ('winds', 1), ('ambitious', 8), ('swell', 2), ('foam', 1), ('clouds', 5), ('tempest', 1), ('either', 3), ('civil', 2), ('strife', 2), ('heaven', 5), ('slave', 1), ('sight', 4), ('held', 4), ('left', 6), ('burn', 5), (\"join'd\", 2), (\"remain'd\", 1), (\"unscorch'd\", 1), ('besides', 4), ('met', 1), (\"glaz'd\", 1), ('surly', 1), ('heap', 1), ('hundred', 3), ('ghastly', 1), ('yesterday', 2), ('sit', 4), ('noonday', 1), ('howling', 1), ('prodigies', 2), ('reasons', 8), ('natural', 1), ('portentous', 1), ('clean', 1), ('purpose', 4), ('disturbed', 1), (\"who's\", 4), ('voice', 6), ('menace', 1), ('faults', 4), ('submitting', 1), ('thunderstone', 1), ('blue', 1), (\"seem'd\", 2), ('tremble', 2), ('astonish', 1), ('want', 1), ('gaze', 1), ('impatience', 2), ('fools', 4), ('children', 3), ('monstrous', 4), ('instruments', 2), ('warning', 1), ('thunders', 1), ('opens', 2), ('roars', 1), ('thyself', 2), ('prodigious', 1), ('fearful', 4), ('thews', 1), ('limbs', 3), ('woe', 2), ('while', 5), ('dead', 15), (\"govern'd\", 2), ('sufferance', 2), ('land', 1), ('dagger', 5), ('deliver', 2), ('strong', 10), ('tyrants', 2), ('iron', 1), ('lacks', 1), ('pleasure', 4), ('cancel', 1), ('tyrant', 2), ('wolf', 1), ('begin', 4), ('trash', 3), ('offal', 1), ('serves', 2), ('base', 6), ('illuminate', 1), ('vile', 8), ('grief', 5), ('indifferent', 1), ('tell-tale', 1), ('redress', 6), ('griefs', 5), ('foot', 4), ('bargain', 1), ('honorable-dangerous', 1), ('consequence', 1), ('stay', 16), ('porch', 2), ('walking', 2), ('element', 1), ('gait', 1), ('attempts', 1), (\"stay'd\", 2), (\"on't\", 1), ('party', 1), ('content', 3), ('paper', 3), (\"praetor's\", 1), ('window', 2), ('hie', 3), ('bestow', 2), ('parts', 3), ('ours', 2), ('next', 2), ('yields', 1), ('alchemy', 1), ('need', 5), ('soundly', 1), (\"call'd\", 4), ('taper', 5), ('study', 1), ('lighted', 1), ('nature', 5), ('craves', 1), ('wary', 1), ('sting', 2), ('abuse', 2), ('greatness', 1), ('remorse', 1), ('truth', 3), ('affections', 1), ('reason', 7), ('lowliness', 1), (\"ambition's\", 2), ('ladder', 2), ('whereto', 2), ('climber-upward', 1), ('attains', 1), ('augmented', 1), (\"serpent's\", 1), ('egg', 1), ('grow', 2), ('mischievous', 1), ('burneth', 1), ('closet', 2), ('searching', 1), ('flint', 2), ('found', 6), (\"seal'd\", 1), ('bed', 7), ('exhalations', 1), (\"sleep'st\", 3), ('etc', 2), ('strike', 4), ('often', 2), ('piece', 3), (\"man's\", 3), ('promise', 3), ('receivest', 1), ('petition', 1), ('knocking', 2), ('within', 17), ('somebody', 1), ('knocks', 3), ('whet', 1), ('between', 2), ('phantasma', 1), ('hideous', 1), ('council', 2), ('little', 5), ('kingdom', 1), ('suffers', 1), ('door', 2), ('desire', 3), ('half', 4), ('faces', 2), ('cloaks', 1), ('faction', 1), ('wilt', 6), ('cavern', 1), ('visage', 1), ('affability', 1), ('erebus', 1), ('hour', 8), ('along', 8), ('wish', 6), ('welcome', 8), ('watchful', 1), ('interpose', 1), ('whisper', 2), ('lies', 7), ('break', 6), ('yongrey', 1), ('lines', 1), ('fret', 2), ('arises', 1), ('south', 1), ('weighing', 1), ('season', 1), ('north', 1), ('stands', 4), ('swear', 3), ('resolution', 1), ('motives', 1), ('high-sighted', 1), ('range', 1), ('each', 2), ('drop', 3), ('lottery', 1), ('kindle', 1), ('cowards', 3), ('steel', 3), ('valor', 2), ('spur', 3), ('prick', 2), ('bond', 2), ('priests', 2), ('doubt', 4), ('stain', 1), ('insuppressive', 1), ('guilty', 1), ('smallest', 1), ('particle', 1), (\"pass'd\", 1), ('hairs', 1), ('buy', 1), ('wildness', 2), ('whit', 1), ('outlive', 1), ('contriver', 1), ('seem', 5), ('hack', 1), ('wrath', 1), ('afterwards', 1), ('limb', 1), ('sacrificers', 1), ('butchers', 2), ('dismember', 1), ('bleed', 3), ('dish', 1), ('chide', 1), ('necessary', 2), ('envious', 2), ('arm', 2), ('company', 1), ('clock', 3), ('main', 1), ('fantasy', 2), ('dreams', 2), ('resolved', 5), ('unicorns', 1), (\"betray'd\", 1), ('trees', 1), ('glasses', 1), ('holes', 1), ('toils', 1), ('hates', 1), ('does', 4), ('flattered', 1), ('bent', 2), ('fetch', 6), ('eighth', 1), ('fail', 1), ('morning', 4), (\"we'll\", 15), ('disperse', 1), ('fresh', 2), ('actors', 1), ('constancy', 3), ('fast', 4), ('enjoy', 1), ('honey-heavy', 1), ('busy', 1), ('care', 2), ('draws', 2), ('brains', 1), ('rise', 3), ('health', 4), ('condition', 3), ('ungently', 1), ('stole', 1), ('musing', 1), ('across', 1), ('ungentle', 1), (\"scratch'd\", 1), ('impatiently', 1), (\"stamp'd\", 1), ('insisted', 1), ('hoping', 1), ('eat', 1), ('talk', 8), (\"prevail'd\", 1), ('wise', 4), ('embrace', 1), ('physical', 1), ('suck', 2), ('humors', 1), ('dank', 1), ('contagion', 1), ('unpurged', 1), ('add', 1), ('charm', 1), ('commended', 1), ('vows', 1), ('six', 1), ('darkness', 1), ('appertain', 1), ('limitation', 1), ('comfort', 2), ('woman', 5), ('reputed', 1), (\"cato's\", 2), ('sex', 1), ('giving', 1), ('engagements', 1), ('charactery', 1), ('spake', 1), ('chose', 1), ('exploit', 2), ('healthful', 1), ('bow', 1), ('discard', 1), ('exorcist', 1), ('conjured', 1), (\"what's\", 3), ('whole', 2), ('also', 1), ('going', 6), ('whom', 1), ('new-fired', 1), ('sufficeth', 2), ('leads', 3), (\"look'd\", 1), ('vanished', 1), ('recounts', 1), ('lioness', 1), (\"yawn'd\", 1), ('fierce', 2), ('warriors', 1), ('ranks', 1), ('squadrons', 1), ('battle', 8), ('hurtled', 1), ('neigh', 1), ('dying', 3), ('squeal', 1), ('beggars', 1), ('deaths', 1), ('taste', 3), ('seems', 1), ('entrails', 2), ('beast', 2), ('shame', 3), ('cowardice', 1), ('knows', 3), ('wisdom', 3), ('confidence', 1), ('senate', 9), (\"here's\", 3), ('hail', 3), ('happy', 3), ('greeting', 1), ('false', 2), ('falser', 1), ('afeard', 1), ('greybeards', 1), ('satisfy', 1), ('stays', 1), ('she', 7), ('pure', 1), ('bathe', 2), ('apply', 1), ('imminent', 1), ('spouting', 1), ('bathed', 1), ('signifies', 1), ('reviving', 1), ('relics', 1), ('signified', 1), ('concluded', 1), ('apt', 3), (\"render'd\", 1), ('someone', 1), ('afraid', 1), ('proceeding', 1), ('bids', 1), ('foolish', 1), ('fears', 2), ('ashamed', 1), ('morrow,caesar', 1), (\"stirr'd\", 1), ('early', 3), ('strucken', 2), ('thank', 3), ('courtesy', 2), ('revels', 1), ('notwithstanding', 1), ('waited', 1), (\"hour's\", 1), ('yearns', 1), ('reading', 2), ('trust', 1), ('lover', 2), ('laments', 1), ('shouldst', 2), ('side', 5), ('mountain', 1), ('tween', 2), (\"woman's\", 1), ('counsel', 1), ('return', 1), ('listen', 2), ('bustling', 1), ('fray', 1), ('wind', 3), ('sooth', 1), (\"know'st\", 2), ('intended', 2), ('heels', 2), ('void', 1), ('faint', 1), ('severally', 2), ('leisure', 1), ('humble', 2), (\"mine's\", 1), ('ourself', 1), ('instantly', 1), ('mad', 2), ('sirrah', 5), ('urge', 3), ('petitions', 1), ('thrive', 2), ('discovered', 1), ('makes', 3), ('sudden', 3), ('constant', 4), ('presently', 4), ('prefer', 2), (\"address'd\", 1), ('lowly', 1), ('preordinance', 1), ('low-crooked', 1), ('wrong', 17), ('satisfied', 6), ('sweetly', 1), (\"banish'd\", 2), ('flattery', 1), ('desiring', 1), ('freedom', 4), ('beg', 4), ('enfranchisement', 2), ('northern', 1), ('star', 1), (\"true-fix'd\", 1), ('resting', 1), ('firmament', 1), ('skies', 1), (\"unnumber'd\", 1), ('shine', 1), ('flesh', 1), ('rank', 2), ('unshaked', 1), ('remain', 1), ('lift', 1), ('bootless', 1), ('et', 1), ('tu', 1), ('brute', 1), ('liberty', 4), ('proclaim', 2), ('pulpits', 1), ('debt', 1), (\"where's\", 1), ('confounded', 1), ('standing', 1), ('cheer', 1), ('rushing', 2), ('mischief', 2), ('fled', 3), ('doomsday', 1), ('besmear', 1), ('waving', 1), ('red', 4), ('wash', 1), ('ages', 1), ('acted', 1), ('states', 1), ('unborn', 1), ('accents', 1), ('sport', 1), ('worthier', 1), ('dust', 1), (\"antony's\", 1), ('prostrate', 1), ('royal', 2), (\"honor'd\", 3), ('deserved', 2), ('fortunes', 1), ('affairs', 3), ('hazards', 1), ('misgiving', 1), ('shrewdly', 1), ('conquests', 1), ('glories', 3), ('spoils', 1), ('shrunk', 1), ('intend', 1), ('instrument', 5), ('rich', 2), ('whilst', 7), ('reek', 1), ('smoke', 1), ('choice', 1), ('pitiful', 1), ('leaden', 2), ('brothers', 1), ('receive', 3), ('reverence', 2), ('dignities', 1), ('beside', 2), ('least', 1), ('credit', 2), ('slippery', 1), ('ways', 1), ('wounds', 5), ('weeping', 2), ('terms', 1), ('friendship', 1), ('enemies', 6), (\"bay'd\", 2), ('didst', 8), ('hunters', 1), ('spoil', 2), (\"crimson'd\", 1), ('lethe', 1), ('forest', 1), ('deer', 1), ('modesty', 1), ('praising', 1), ('depend', 1), (\"that's\", 4), ('becomes', 1), ('consent', 3), ('contented', 2), ('rites', 2), ('advantage', 3), ('devise', 1), ('ruins', 1), ('prophesy', 1), ('dumb', 2), ('mouths', 2), ('utterance', 2), ('domestic', 1), ('fury', 1), ('cumber', 1), ('objects', 2), ('familiar', 2), ('custom', 1), ('ranging', 1), ('revenge', 4), ('ate', 1), ('confines', 1), ('havoc', 1), ('slip', 1), ('foul', 1), ('burial', 2), ('coming', 3), ('big', 1), ('sorrow', 2), ('began', 1), ('leagues', 1), ('post', 1), ('mourning', 2), ('safety', 1), ('oration', 1), ('issue', 2), ('lend', 2), ('forum', 1), ('audience', 2), ('rendered', 2), ('lovers', 2), ('silent', 1), ('judge', 3), ('freemen', 1), ('joy', 3), ('fortune', 4), ('offended', 5), ('rude', 1), ('pause', 2), ('reply', 1), ('offenses', 1), ('suffered', 1), ('mourned', 1), ('commonwealth', 1), ('shouts', 2), ('clamors', 1), ('sake', 4), (\"allow'd\", 1), ('beholding', 2), ('blest', 1), ('bury', 2), ('lives', 1), ('interred', 1), ('captives', 1), ('ransoms', 1), ('sterner', 1), ('stuff', 1), ('brutish', 1), ('coffin', 1), (\"mark'd\", 1), ('dip', 1), ('napkins', 1), ('memory', 1), (\"o'ershot\", 1), ('daggers', 2), (\"stabb'd\", 2), ('villains', 4), ('compel', 1), ('ring', 2), ('mantle', 2), (\"summer's\", 1), ('evening', 1), ('tent', 10), ('overcame', 2), ('cursed', 1), ('doors', 2), ('angel', 2), ('unkindest', 1), ('treason', 1), (\"flourish'd\", 1), ('gracious', 1), ('vesture', 1), ('woeful', 1), ('revenged', 2), ('traitor', 1), ('orator', 1), ('plain', 2), ('ruffle', 1), ('seventy-five', 1), ('arbors', 1), ('forever', 5), ('abroad', 2), ('brands', 2), ('forms', 1), ('afoot', 1), ('straight', 4), ('mood', 1), ('notice', 1), ('whither', 2), ('bang', 1), ('tear', 5), ('pieces', 2), (\"name's\", 1), ('firebrands', 1), ('table', 1), (\"sister's\", 1), ('determine', 1), ('legacies', 1), ('slight', 2), ('unmeritable', 1), ('divided', 1), ('black', 1), ('sentence', 1), ('slanderous', 1), ('sweat', 2), ('driven', 1), ('having', 2), ('load', 1), ('empty', 1), ('horse', 3), ('appoint', 1), ('provender', 1), ('teach', 1), ('corporal', 1), ('taught', 1), ('feeds', 1), ('arts', 1), ('imitations', 1), ('staled', 1), ('property', 1), ('powers', 4), ('combined', 1), ('covert', 1), ('perils', 2), ('stake', 1), ('mischiefs', 1), ('drum', 2), ('greets', 1), ('undone', 1), ('received', 2), ('described', 1), ('cooling', 1), ('decay', 1), ('army', 6), ('meant', 1), ('sard', 1), ('arrived', 1), ('sober', 1), ('hides', 1), ('softly', 2), ('armies', 2), ('wrangle', 1), ('commanders', 2), (\"wrong'd\", 2), (\"condemn'd\", 2), ('noted', 1), ('pella', 1), ('taking', 1), ('bribes', 2), ('sardians', 1), ('case', 1), ('comment', 1), ('itching', 2), ('sell', 2), ('chastisement', 2), ('justice', 2), ('supporting', 1), ('robbers', 1), ('grasped', 1), ('dog', 1), ('bay', 1), ('moon', 1), ('older', 1), ('practice', 1), ('abler', 1), ('rash', 2), ('madman', 1), ('proud', 1), ('choleric', 1), ('bondmen', 2), ('venom', 1), ('spleen', 1), ('split', 1), ('mirth', 2), ('laughter', 2), ('waspish', 1), ('learn', 1), ('presume', 1), ('sorry', 2), ('threats', 1), ('denied', 4), ('raise', 2), ('coin', 1), ('wring', 1), ('rascal', 1), ('thunderbolts', 1), ('dash', 1), (\"friend's\", 1), ('practise', 1), ('hated', 1), ('braved', 1), (\"check'd\", 1), ('observed', 1), ('notebook', 1), (\"conn'd\", 1), ('rote', 1), ('richer', 1), ('yoked', 1), ('carries', 1), ('hasty', 1), ('spark', 1), (\"ill-temper'd\", 2), ('mother', 3), ('forgetful', 2), ('henceforth', 1), ('overearnest', 1), (\"he'll\", 1), ('generals', 4), ('followed', 1), (\"i'm\", 1), ('vilely', 1), ('cynic', 1), ('wars', 1), ('immediately', 2), ('insupportable', 1), ('absence', 1), ('died', 3), ('unkindness', 1), ('drinks', 2), ('thirsty', 1), (\"o'erswell\", 1), ('bending', 1), ('expedition', 1), ('selfsame', 1), ('addition', 1), ('bills', 2), ('outlawry', 1), ('agree', 1), ('seventy', 1), ('proscriptions', 1), ('writ', 1), ('waste', 1), ('doing', 1), ('lying', 1), ('defense', 1), ('force', 1), ('affection', 1), ('grudged', 1), ('contribution', 1), (\"refresh'd\", 1), ('new-added', 1), ('utmost', 1), ('brim-full', 1), ('height', 1), ('omitted', 1), ('bound', 2), ('afloat', 1), ('deep', 1), ('crept', 1), ('beginning', 1), ('division', 1), ('everyone', 1), ('drowsily', 1), (\"o'erwatch'd\", 1), ('cushions', 1), ('sirs', 4), ('otherwise', 1), ('bethink', 1), ('sought', 1), ('pocket', 1), ('lordship', 1), ('canst', 2), ('strain', 2), ('song', 1), ('sleepy', 1), ('murtherous', 1), (\"break'st\", 1), ('weakness', 1), ('makest', 1), ('comest', 2), ('strings', 1), ('criedst', 1), ('v', 2), ('hopes', 1), ('hills', 1), ('upper', 1), ('regions', 1), ('answering', 1), ('places', 1), ('bravery', 1), ('courage', 1), ('messenger', 2), ('signal', 2), ('posture', 1), ('rob', 1), ('hybla', 1), ('stingless', 1), ('buzzing', 1), (\"hack'd\", 1), (\"show'd\", 2), (\"fawn'd\", 1), ('kissing', 1), ('feet', 1), ('behind', 1), ('strooke', 1), ('avenged', 1), ('slaughter', 1), ('unless', 1), (\"bring'st\", 1), ('wert', 1), ('peevish', 1), ('reveler', 1), ('defiance', 1), ('blow', 1), ('bark', 1), ('hazard', 1), ('converse', 1), ('birthday', 1), ('epicurus', 1), ('former', 1), (\"perch'd\", 1), ('ravens', 1), ('crows', 1), ('kites', 1), ('downward', 1), ('canopy', 1), ('cowardly', 1), ('arming', 1), ('providence', 1), ('begun', 1), ('everlasting', 1), ('loud', 1), (\"octavia's\", 1), ('alarums', 3), ('turning', 1), ('eagerly', 1), ('enclosed', 2), ('hill', 4), ('mount', 1), ('spurs', 2), ('troops', 2), ('notest', 1), ('ascends', 1), ('breathed', 1), ('horsemen', 1), ('lights', 1), (\"ta'en\", 6), ('descends', 1), ('prisoner', 2), ('saving', 1), ('bowels', 1), ('hilts', 1), ('stabs', 1), (\"kill'd\", 2), ('disconsolate', 1), ('setting', 1), ('dews', 1), ('error', 2), ('conceived', 1), ('birth', 1), ('thrusting', 2), ('report', 1), ('piercing', 1), ('envenomed', 1), ('wreath', 1), ('victory', 1), ('garland', 1), ('bidding', 1), (\"whe'er\", 1), ('owe', 1), ('foe', 1), ('mayst', 1), ('kindness', 1), ('wheer', 1), ('remains', 1), ('rock', 1), ('torchlight', 1), ('request', 1), ('vessel', 1), ('runs', 2), ('list', 1), ('seest', 1), ('tarry', 1), ('office', 1), ('tarrying', 1), ('attain', 2), ('history', 1), ('hangs', 1), (\"master's\", 1), ('conquerors', 1), ('entertain', 1), ('elements', 1), ('ordered', 1)]\n"
     ]
    }
   ],
   "source": [
    "# your turn\n",
    "# note: no need for the print(), i just like the horizontal layout\n",
    "print(rdd1.collect())"
   ]
  },
  {
   "cell_type": "code",
   "execution_count": 75,
   "metadata": {},
   "outputs": [
    {
     "name": "stdout",
     "output_type": "stream",
     "text": [
      "[('and', 655), ('the', 612), ('i', 519), ('to', 419), ('you', 391), ('of', 389), ('brutus', 366), ('that', 290), ('a', 267), ('not', 262), ('is', 260), ('caesar', 237), ('in', 228), ('cassius', 227), ('it', 194), ('he', 193), ('me', 189), ('my', 189), ('for', 187), ('this', 170)]\n"
     ]
    }
   ],
   "source": [
    "# https://stackoverflow.com/questions/30787635/takeordered-descending-pyspark\n",
    "# note: no need for the print(), i just like the horizontal layout\n",
    "rdd3 = rdd1.takeOrdered(20, key=lambda x: -x[1])\n",
    "print(rdd3)"
   ]
  },
  {
   "cell_type": "code",
   "execution_count": null,
   "metadata": {
    "collapsed": true
   },
   "outputs": [],
   "source": []
  },
  {
   "cell_type": "markdown",
   "metadata": {},
   "source": [
    "Plot a bar graph. For each of the top 20 words on the X axis, represent the count on the Y axis."
   ]
  },
  {
   "cell_type": "code",
   "execution_count": 80,
   "metadata": {
    "collapsed": true
   },
   "outputs": [],
   "source": [
    "# your turn\n",
    "word = []\n",
    "frequency = []\n",
    "for x in rdd2:\n",
    "    word.append(x[0])\n",
    "    frequency.append(x[1])"
   ]
  },
  {
   "cell_type": "code",
   "execution_count": 85,
   "metadata": {},
   "outputs": [
    {
     "data": {
      "image/png": "[encoded data removed]",
      "text/plain": [
       "<matplotlib.figure.Figure at 0x7f79943b8198>"
      ]
     },
     "metadata": {},
     "output_type": "display_data"
    }
   ],
   "source": [
    "fig = plt.figure(figsize=(20, 10))\n",
    "fig.add_subplot(1,1,1)\n",
    "sns.barplot(x=word, y=frequency)\n",
    "plt.show()"
   ]
  },
  {
   "cell_type": "code",
   "execution_count": null,
   "metadata": {
    "collapsed": true
   },
   "outputs": [],
   "source": []
  },
  {
   "cell_type": "code",
   "execution_count": null,
   "metadata": {
    "collapsed": true
   },
   "outputs": [],
   "source": []
  },
  {
   "cell_type": "markdown",
   "metadata": {},
   "source": [
    "### Using partitions for parallelization"
   ]
  },
  {
   "cell_type": "markdown",
   "metadata": {},
   "source": [
    "In order to make your code more efficient, you want to use all of the available processing power, even on a single laptop. If your machine has multiple cores, you can tune the number of partitions to use all of them! From http://www.stat.berkeley.edu/scf/paciorek-spark-2014.html:\n",
    "\n",
    ">You want each partition to be able to fit in the memory availalbe on a node, and if you have multi-core nodes, you want that as many partitions as there are cores be able to fit in memory.\n",
    "\n",
    ">For load-balancing you'll want at least as many partitions as total computational cores in your cluster and probably rather more partitions. The Spark documentation suggests 2-4 partitions (which they also seem to call slices) per CPU. Often there are 100-10,000 partitions. Another rule of thumb is that tasks should take at least 100 ms. If less than that, you may want to repartition to have fewer partitions."
   ]
  },
  {
   "cell_type": "code",
   "execution_count": null,
   "metadata": {
    "collapsed": true
   },
   "outputs": [],
   "source": [
    "shakesrdd=sc.textFile(\"./sparklect/shakes/*.txt\", minPartitions=4)"
   ]
  },
  {
   "cell_type": "code",
   "execution_count": null,
   "metadata": {
    "collapsed": true
   },
   "outputs": [],
   "source": [
    "shakesrdd.take(10)"
   ]
  },
  {
   "cell_type": "markdown",
   "metadata": {},
   "source": [
    "Now calculate the top 20 words in all of the files that you just read."
   ]
  },
  {
   "cell_type": "code",
   "execution_count": null,
   "metadata": {
    "collapsed": true
   },
   "outputs": [],
   "source": [
    "# your turn\n",
    "\n"
   ]
  },
  {
   "cell_type": "markdown",
   "metadata": {},
   "source": [
    "## Optional topic 1: DataFrames\n",
    "\n",
    "Pandas and Spark dataframes can be easily converted to each other, making it easier to work with different data formats. This section shows some examples of each."
   ]
  },
  {
   "cell_type": "markdown",
   "metadata": {},
   "source": [
    "Convert Spark DataFrame to Pandas\n",
    "\n",
    "`pandas_df = spark_df.toPandas()`\n",
    "\n",
    "Create a Spark DataFrame from Pandas\n",
    "\n",
    "`spark_df = context.createDataFrame(pandas_df)`\n",
    "\n",
    "Must fit in memory.\n",
    "\n",
    "![](https://ogirardot.files.wordpress.com/2015/05/rdd-vs-dataframe.png?w=640&h=360)\n",
    "\n",
    "VERY IMPORTANT: DataFrames in Spark are like RDD in the sense that they’re an immutable data structure."
   ]
  },
  {
   "cell_type": "code",
   "execution_count": null,
   "metadata": {
    "collapsed": true
   },
   "outputs": [],
   "source": [
    "df=pd.read_csv(\"sparklect/01_heights_weights_genders.csv\")\n",
    "df.head()"
   ]
  },
  {
   "cell_type": "markdown",
   "metadata": {},
   "source": [
    "Convert this pandas dataframe to a Spark dataframe"
   ]
  },
  {
   "cell_type": "code",
   "execution_count": null,
   "metadata": {
    "collapsed": true
   },
   "outputs": [],
   "source": [
    "from pyspark.sql import SQLContext\n",
    "sqlsc=SQLContext(sc)\n",
    "sparkdf = sqlsc.createDataFrame(df)\n",
    "sparkdf"
   ]
  },
  {
   "cell_type": "code",
   "execution_count": null,
   "metadata": {
    "collapsed": true
   },
   "outputs": [],
   "source": [
    "sparkdf.show(5)"
   ]
  },
  {
   "cell_type": "code",
   "execution_count": null,
   "metadata": {
    "collapsed": true
   },
   "outputs": [],
   "source": [
    "type(sparkdf.Gender)"
   ]
  },
  {
   "cell_type": "code",
   "execution_count": null,
   "metadata": {
    "collapsed": true
   },
   "outputs": [],
   "source": [
    "# You can't call .map() on a DataFrame directly - you first have to convert it into an RDD\n",
    "temp = sparkdf.rdd.map(lambda r: r.Gender)\n",
    "print type(temp)\n",
    "temp.take(10)"
   ]
  },
  {
   "cell_type": "markdown",
   "metadata": {},
   "source": [
    "## Optional topic 2: Machine Learning using Spark\n",
    "\n"
   ]
  },
  {
   "cell_type": "code",
   "execution_count": null,
   "metadata": {
    "collapsed": true
   },
   "outputs": [],
   "source": [
    "from pyspark.mllib.classification import LogisticRegressionWithLBFGS\n",
    "from pyspark.mllib.regression import LabeledPoint"
   ]
  },
  {
   "cell_type": "markdown",
   "metadata": {},
   "source": [
    "Now create a data set from the Spark dataframe"
   ]
  },
  {
   "cell_type": "code",
   "execution_count": null,
   "metadata": {
    "collapsed": true
   },
   "outputs": [],
   "source": [
    "data=sparkdf.map(lambda row: LabeledPoint(row.Gender=='Male',[row.Height, row.Weight]))\n",
    "data.take(5)"
   ]
  },
  {
   "cell_type": "code",
   "execution_count": null,
   "metadata": {
    "collapsed": true
   },
   "outputs": [],
   "source": [
    "data2=sparkdf.map(lambda row: LabeledPoint(row[0]=='Male',row[1:]))\n",
    "data2.take(1)[0].label, data2.take(1)[0].features"
   ]
  },
  {
   "cell_type": "markdown",
   "metadata": {},
   "source": [
    "Split the data set into training and test sets"
   ]
  },
  {
   "cell_type": "code",
   "execution_count": null,
   "metadata": {
    "collapsed": true
   },
   "outputs": [],
   "source": [
    "train, test = data.randomSplit([0.7,0.3])\n",
    "train.cache()\n",
    "test.cache()"
   ]
  },
  {
   "cell_type": "code",
   "execution_count": null,
   "metadata": {
    "collapsed": true
   },
   "outputs": [],
   "source": [
    "type(train)"
   ]
  },
  {
   "cell_type": "markdown",
   "metadata": {},
   "source": [
    "Train the logistic regression model using MLIB"
   ]
  },
  {
   "cell_type": "code",
   "execution_count": null,
   "metadata": {
    "collapsed": true
   },
   "outputs": [],
   "source": [
    "model = LogisticRegressionWithLBFGS.train(train)"
   ]
  },
  {
   "cell_type": "code",
   "execution_count": null,
   "metadata": {
    "collapsed": true
   },
   "outputs": [],
   "source": [
    "model.weights"
   ]
  },
  {
   "cell_type": "markdown",
   "metadata": {},
   "source": [
    "Run it on the test data"
   ]
  },
  {
   "cell_type": "code",
   "execution_count": null,
   "metadata": {
    "collapsed": true
   },
   "outputs": [],
   "source": [
    "results = test.map(lambda lp: (lp.label, float(model.predict(lp.features))))\n",
    "print results.take(10)\n",
    "type(results)                       "
   ]
  },
  {
   "cell_type": "markdown",
   "metadata": {},
   "source": [
    "Measure accuracy and other metrics"
   ]
  },
  {
   "cell_type": "code",
   "execution_count": null,
   "metadata": {
    "collapsed": true
   },
   "outputs": [],
   "source": [
    "test_accuracy=results.filter(lambda (a,p): a==p).count()/float(results.count())\n",
    "test_accuracy"
   ]
  },
  {
   "cell_type": "code",
   "execution_count": null,
   "metadata": {
    "collapsed": true
   },
   "outputs": [],
   "source": [
    "from pyspark.mllib.evaluation import BinaryClassificationMetrics\n",
    "metrics = BinaryClassificationMetrics(results)"
   ]
  },
  {
   "cell_type": "code",
   "execution_count": null,
   "metadata": {
    "collapsed": true
   },
   "outputs": [],
   "source": [
    "print type(metrics)\n",
    "metrics.areaUnderROC"
   ]
  },
  {
   "cell_type": "code",
   "execution_count": null,
   "metadata": {
    "collapsed": true
   },
   "outputs": [],
   "source": [
    "type(model)"
   ]
  },
  {
   "cell_type": "code",
   "execution_count": null,
   "metadata": {
    "collapsed": true
   },
   "outputs": [],
   "source": [
    "!rm -rf mylogistic.model"
   ]
  },
  {
   "cell_type": "code",
   "execution_count": null,
   "metadata": {
    "collapsed": true
   },
   "outputs": [],
   "source": [
    "model.save(sc, \"mylogistic.model\")"
   ]
  },
  {
   "cell_type": "markdown",
   "metadata": {},
   "source": [
    "The pipeline API automates a lot of this stuff, allowing us to work directly on dataframes."
   ]
  },
  {
   "cell_type": "markdown",
   "metadata": {},
   "source": [
    "Also see:\n",
    "\n",
    "- http://jordicasanellas.weebly.com/data-science-blog/machine-learning-with-spark\n",
    "- http://spark.apache.org/docs/latest/mllib-guide.html\n",
    "- http://www.techpoweredmath.com/spark-dataframes-mllib-tutorial/\n",
    "- http://spark.apache.org/docs/latest/api/python/\n",
    "- http://spark.apache.org/docs/latest/programming-guide.html"
   ]
  },
  {
   "cell_type": "markdown",
   "metadata": {},
   "source": [
    "`rdd.saveAsTextFile()` saves an RDD as a string."
   ]
  },
  {
   "cell_type": "markdown",
   "metadata": {
    "collapsed": true
   },
   "source": [
    "## Optional Topic 3: Your Turn at Machine Learning! :)\n",
    "\n",
    "For this exercise, we're going to use one of the datasets we've already worked with: the Boston House Prices dataset. We're going to try a couple of regression algorithms, but from the SparkML library this time.\n",
    "\n",
    "Before you proceed, make sure to do an overview of the documentation: \n",
    "http://spark.apache.org/docs/latest/api/python/pyspark.ml.html"
   ]
  },
  {
   "cell_type": "code",
   "execution_count": null,
   "metadata": {
    "collapsed": true
   },
   "outputs": [],
   "source": [
    "# All imports go here\n",
    "\n",
    "\n"
   ]
  },
  {
   "cell_type": "markdown",
   "metadata": {},
   "source": [
    "First, we have to load the dataset, which resides as a CSV file in the folder for this exercise."
   ]
  },
  {
   "cell_type": "code",
   "execution_count": null,
   "metadata": {
    "collapsed": true
   },
   "outputs": [],
   "source": [
    "# Path: /sparklect/boston.csv\n"
   ]
  },
  {
   "cell_type": "markdown",
   "metadata": {},
   "source": [
    "Inspect the data to make sure everything is loaded properly."
   ]
  },
  {
   "cell_type": "code",
   "execution_count": null,
   "metadata": {
    "collapsed": true
   },
   "outputs": [],
   "source": []
  },
  {
   "cell_type": "markdown",
   "metadata": {},
   "source": [
    "Now we'll need to create a train/test split."
   ]
  },
  {
   "cell_type": "code",
   "execution_count": null,
   "metadata": {
    "collapsed": true
   },
   "outputs": [],
   "source": [
    "# We'll first have to vectorize the features\n"
   ]
  },
  {
   "cell_type": "markdown",
   "metadata": {},
   "source": [
    "As the next step, fit a Linear Regression model on the training set."
   ]
  },
  {
   "cell_type": "code",
   "execution_count": null,
   "metadata": {
    "collapsed": true
   },
   "outputs": [],
   "source": []
  },
  {
   "cell_type": "markdown",
   "metadata": {},
   "source": [
    "Now validate the model on the test set, and check the Root Mean Squared Error."
   ]
  },
  {
   "cell_type": "code",
   "execution_count": null,
   "metadata": {
    "collapsed": true
   },
   "outputs": [],
   "source": []
  },
  {
   "cell_type": "markdown",
   "metadata": {},
   "source": [
    "Let's compare Linear Regression with a more powerful algorithm - the Random Forest. As the Random Forest has several hyperparameters that can be tuned for maximum accuracy, we're going to need to use k-fold Cross Validation."
   ]
  },
  {
   "cell_type": "markdown",
   "metadata": {},
   "source": [
    "First, set up a grid for the hyperparameter search."
   ]
  },
  {
   "cell_type": "code",
   "execution_count": null,
   "metadata": {
    "collapsed": true
   },
   "outputs": [],
   "source": []
  },
  {
   "cell_type": "markdown",
   "metadata": {},
   "source": [
    "Now, with a Random Forest regressor using k-fold Cross Validation, and find the optimal combination of hyperparameters."
   ]
  },
  {
   "cell_type": "code",
   "execution_count": null,
   "metadata": {
    "collapsed": true
   },
   "outputs": [],
   "source": []
  },
  {
   "cell_type": "markdown",
   "metadata": {},
   "source": [
    "Finally, validate the model on the test set and check the Root Mean Squared Error again."
   ]
  },
  {
   "cell_type": "code",
   "execution_count": null,
   "metadata": {
    "collapsed": true
   },
   "outputs": [],
   "source": []
  },
  {
   "cell_type": "markdown",
   "metadata": {},
   "source": [
    "\n",
    "\n",
    "## Optional Topic 4: Model Your Capstone Dataset\n"
   ]
  },
  {
   "cell_type": "markdown",
   "metadata": {},
   "source": [
    "If you have time, load up the cleaned dataset from one of your capstone projects. Do you remember which algorithm and the accompanying combination of hyperparameters did the best job? For practice, try and implement the same model in SparkML."
   ]
  },
  {
   "cell_type": "code",
   "execution_count": null,
   "metadata": {
    "collapsed": true
   },
   "outputs": [],
   "source": []
  },
  {
   "cell_type": "code",
   "execution_count": null,
   "metadata": {
    "collapsed": true
   },
   "outputs": [],
   "source": [
    "# Stop Spark\n",
    "sc.stop()"
   ]
  }
 ],
 "metadata": {
  "kernelspec": {
   "display_name": "Python 3",
   "language": "python",
   "name": "python3"
  },
  "language_info": {
   "codemirror_mode": {
    "name": "ipython",
    "version": 3
   },
   "file_extension": ".py",
   "mimetype": "text/x-python",
   "name": "python",
   "nbconvert_exporter": "python",
   "pygments_lexer": "ipython3",
   "version": "3.6.3"
  }
 },
 "nbformat": 4,
 "nbformat_minor": 1
}
